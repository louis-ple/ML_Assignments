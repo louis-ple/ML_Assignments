{
 "cells": [
  {
   "cell_type": "markdown",
   "id": "flexible-demonstration",
   "metadata": {},
   "source": [
    "# INF8245E: Machine Learning | Assignment #1"
   ]
  },
  {
   "cell_type": "markdown",
   "id": "answering-third",
   "metadata": {},
   "source": [
    "**Louis Plessis (ID: 1933334)** | 4 October 2021"
   ]
  },
  {
   "cell_type": "markdown",
   "id": "mineral-command",
   "metadata": {},
   "source": [
    "# 1. Sampling"
   ]
  },
  {
   "cell_type": "markdown",
   "id": "enabling-greeting",
   "metadata": {},
   "source": [
    "## 1.1. Pseudocode to sample the student's routine"
   ]
  },
  {
   "cell_type": "code",
   "execution_count": 1,
   "id": "liked-lebanon",
   "metadata": {},
   "outputs": [],
   "source": [
    "# We can only sample from uniform distribution over (0,1).\n",
    "# Let's define a random number x bounded from [0,1)\n",
    "\n",
    "# x = random(0,1)    # Random number between 0 and 1\n",
    "# activity = \"\"\n",
    "\n",
    "# if ( (x >= 0) and (x < 0.2) )\n",
    "#     activity = \"Movies\"\n",
    "\n",
    "# if ( (x >= 0.2) and (x < 0.6) )\n",
    "#     activity = \"INF8245E\"\n",
    "\n",
    "# if ( (x >= 0.6) and (x < 0.7) )\n",
    "#    activity = \"Playing\"\n",
    "\n",
    "# if ( (x >= 0.7) and (x < 1) )\n",
    "#    activity = \"Studying\""
   ]
  },
  {
   "cell_type": "markdown",
   "id": "optional-proposal",
   "metadata": {},
   "source": [
    "## 1.2. Sampling the student's routine"
   ]
  },
  {
   "cell_type": "markdown",
   "id": "exclusive-shipping",
   "metadata": {},
   "source": [
    "### For 100 days:"
   ]
  },
  {
   "cell_type": "code",
   "execution_count": 2,
   "id": "moderate-martin",
   "metadata": {},
   "outputs": [
    {
     "name": "stdout",
     "output_type": "stream",
     "text": [
      "Movies: \t 17/100 days\n",
      "INF8245E: \t 45/100 days\n",
      "Playing: \t 10/100 days\n",
      "Studying: \t 28/100 days\n"
     ]
    }
   ],
   "source": [
    "import numpy as np\n",
    "\n",
    "activities_100days = {\n",
    "    \"Movies\": 0,\n",
    "    \"INF8245E\": 0,\n",
    "    \"Playing\": 0,\n",
    "    \"Studying\": 0,\n",
    "}\n",
    "\n",
    "for day in range(100):\n",
    "    \n",
    "    x = np.random.random()\n",
    "    \n",
    "    if x >= 0 and x < 0.2:\n",
    "        activities_100days[\"Movies\"] += 1\n",
    "    elif x >= 0.2 and x < 0.6:\n",
    "        activities_100days[\"INF8245E\"] += 1\n",
    "    elif x >= 0.6 and x < 0.7:\n",
    "        activities_100days[\"Playing\"] += 1\n",
    "    elif x >= 0.7 and x < 1:\n",
    "        activities_100days[\"Studying\"] += 1\n",
    "\n",
    "for activity, days in activities_100days.items():\n",
    "    print(\"%s: \\t %d/100 days\" % (activity,days))"
   ]
  },
  {
   "cell_type": "markdown",
   "id": "amended-shopper",
   "metadata": {},
   "source": [
    "### For 1000 days:"
   ]
  },
  {
   "cell_type": "code",
   "execution_count": 3,
   "id": "experimental-arbitration",
   "metadata": {},
   "outputs": [
    {
     "name": "stdout",
     "output_type": "stream",
     "text": [
      "Movies: \t 216/1000 days\n",
      "INF8245E: \t 415/1000 days\n",
      "Playing: \t 88/1000 days\n",
      "Studying: \t 281/1000 days\n"
     ]
    }
   ],
   "source": [
    "activities_1000days = {\n",
    "    \"Movies\": 0,\n",
    "    \"INF8245E\": 0,\n",
    "    \"Playing\": 0,\n",
    "    \"Studying\": 0,\n",
    "}\n",
    "\n",
    "for day in range(1000):\n",
    "    \n",
    "    x = np.random.random()\n",
    "    \n",
    "    if x >= 0 and x < 0.2:\n",
    "        activities_1000days[\"Movies\"] += 1\n",
    "    elif x >= 0.2 and x < 0.6:\n",
    "        activities_1000days[\"INF8245E\"] += 1\n",
    "    elif x >= 0.6 and x < 0.7:\n",
    "        activities_1000days[\"Playing\"] += 1\n",
    "    elif x >= 0.7 and x < 1:\n",
    "        activities_1000days[\"Studying\"] += 1\n",
    "\n",
    "for activity, days in activities_1000days.items():\n",
    "    print(\"%s: \\t %d/1000 days\" % (activity,days))"
   ]
  },
  {
   "cell_type": "markdown",
   "id": "lasting-electric",
   "metadata": {},
   "source": [
    "### Comparison with multinomial distribution"
   ]
  },
  {
   "cell_type": "code",
   "execution_count": 4,
   "id": "impressive-forestry",
   "metadata": {},
   "outputs": [
    {
     "name": "stdout",
     "output_type": "stream",
     "text": [
      "Differences between multinomial distribution and sample:\n",
      "100 days \t 1000 days\n",
      "-0.030000 \t 0.016000\n",
      "0.050000 \t 0.015000\n",
      "0.000000 \t -0.012000\n",
      "-0.020000 \t -0.019000\n"
     ]
    }
   ],
   "source": [
    "print(\"Differences between multinomial distribution and sample:\")\n",
    "print(\"100 days \\t 1000 days\")\n",
    "print(\"%f \\t %f\" % (activities_100days[\"Movies\"]/100 - 0.2, activities_1000days[\"Movies\"]/1000 - 0.2))\n",
    "print(\"%f \\t %f\" % (activities_100days[\"INF8245E\"]/100 - 0.4, activities_1000days[\"INF8245E\"]/1000 - 0.4))\n",
    "print(\"%f \\t %f\" % (activities_100days[\"Playing\"]/100 - 0.1, activities_1000days[\"Playing\"]/1000 - 0.1))\n",
    "print(\"%f \\t %f\" % (activities_100days[\"Studying\"]/100 - 0.3, activities_1000days[\"Studying\"]/1000 - 0.3))"
   ]
  },
  {
   "cell_type": "markdown",
   "id": "taken-galaxy",
   "metadata": {},
   "source": [
    "The fractions are relatively close to the multinomial distribution, however sampling for 1000 days seem to cause less disparity on average."
   ]
  },
  {
   "cell_type": "markdown",
   "id": "fuzzy-triumph",
   "metadata": {},
   "source": [
    "# 2. Model selection"
   ]
  },
  {
   "cell_type": "markdown",
   "id": "educational-promotion",
   "metadata": {},
   "source": [
    "## 2.1. Fitting a 20-degree polynomial to the data"
   ]
  },
  {
   "cell_type": "code",
   "execution_count": 5,
   "id": "lucky-bernard",
   "metadata": {},
   "outputs": [],
   "source": [
    "import pandas as pd\n",
    "import numpy as np\n",
    "import matplotlib.pyplot as plt\n",
    "\n",
    "#Using Dataset-1\n",
    "train = pd.read_csv(\"Dataset_1_train.csv\", header=None)\n",
    "valid = pd.read_csv(\"Dataset_1_valid.csv\", header=None)\n",
    "test = pd.read_csv(\"Dataset_1_test.csv\", header=None)\n",
    "\n",
    "#print(test.loc[39])"
   ]
  },
  {
   "cell_type": "markdown",
   "id": "efficient-villa",
   "metadata": {},
   "source": [
    "### 2.1. (a) Training and validation RMSE"
   ]
  },
  {
   "cell_type": "code",
   "execution_count": 6,
   "id": "focused-invitation",
   "metadata": {},
   "outputs": [
    {
     "name": "stdout",
     "output_type": "stream",
     "text": [
      "Training RMSE: \t\t 2.544590374303791\n",
      "Validation RMSE: \t 37.6148458260915\n"
     ]
    }
   ],
   "source": [
    "def getX(data, degree):\n",
    "    X = np.zeros((data.size, degree+1))\n",
    "    for i in range(data.size):\n",
    "        for j in range(degree+1):\n",
    "            X[i][j] = np.power(data[i], j)\n",
    "    return X\n",
    "\n",
    "def getWStar(X,y):\n",
    "    w = np.dot(X.T, X)    # X^T X\n",
    "    w = np.linalg.inv(w)  #(X^T X)^(-1)\n",
    "    w = np.dot(w, X.T)    #(X^T X)^(-1) X^T\n",
    "    w = np.dot(w, y)      #(X^T X)^(-1) X^T y\n",
    "    return w\n",
    "\n",
    "def getYHat(w,x):        # y^ = w*^T x\n",
    "    y = np.zeros(x.size)\n",
    "    for i in range(x.size):\n",
    "        for j in range(w.size):\n",
    "            y[i] += (w[j] * np.power(x[i], j))\n",
    "    return y\n",
    "\n",
    "def getRMSE(y,yHat):\n",
    "    mse = np.square(np.subtract(y,yHat)).mean()\n",
    "    rmse = np.sqrt(mse)\n",
    "    return rmse\n",
    "\n",
    "X = getX(train[0].values, 20)\n",
    "wStar = getWStar(X, train[1])\n",
    "\n",
    "trainYPredict = getYHat(wStar, train[0])\n",
    "validYPredict = getYHat(wStar, valid[0])\n",
    "\n",
    "print(\"Training RMSE: \\t\\t\", getRMSE(trainYPredict, train[1]))\n",
    "print(\"Validation RMSE: \\t\", getRMSE(validYPredict, valid[1]))"
   ]
  },
  {
   "cell_type": "markdown",
   "id": "american-tactics",
   "metadata": {},
   "source": [
    "### 2.1. (b) Visualizing the fit"
   ]
  },
  {
   "cell_type": "code",
   "execution_count": 7,
   "id": "apparent-cambridge",
   "metadata": {},
   "outputs": [
    {
     "data": {
      "image/png": "[encoded data removed]",
      "text/plain": [
       "<Figure size 432x288 with 1 Axes>"
      ]
     },
     "metadata": {
      "needs_background": "light"
     },
     "output_type": "display_data"
    }
   ],
   "source": [
    "import matplotlib.pyplot as plt\n",
    "\n",
    "plt.plot(train[0], train[1], 'bo')\n",
    "plt.plot(train[0], trainYPredict, 'r.')\n",
    "plt.title('Training')\n",
    "plt.legend(['Target', 'Prediction'])\n",
    "plt.show()"
   ]
  },
  {
   "cell_type": "code",
   "execution_count": 8,
   "id": "oriented-paragraph",
   "metadata": {},
   "outputs": [
    {
     "data": {
      "image/png": "[encoded data removed]",
      "text/plain": [
       "<Figure size 432x288 with 1 Axes>"
      ]
     },
     "metadata": {
      "needs_background": "light"
     },
     "output_type": "display_data"
    }
   ],
   "source": [
    "plt.plot(valid[0], valid[1], 'bo')\n",
    "plt.plot(valid[0], validYPredict, 'r.')\n",
    "plt.title('Validation')\n",
    "plt.legend(['Target', 'Prediction'])\n",
    "plt.show()"
   ]
  },
  {
   "cell_type": "markdown",
   "id": "baking-terrace",
   "metadata": {},
   "source": [
    "### 2.1. (c)"
   ]
  },
  {
   "cell_type": "code",
   "execution_count": 9,
   "id": "prime-engineering",
   "metadata": {},
   "outputs": [
    {
     "name": "stdout",
     "output_type": "stream",
     "text": [
      "Test RMSE: \t\t 7.092967781248054\n"
     ]
    }
   ],
   "source": [
    "testYPredict = getYHat(wStar, test[0])\n",
    "print(\"Test RMSE: \\t\\t\", getRMSE(testYPredict, test[1]))"
   ]
  },
  {
   "cell_type": "markdown",
   "id": "controlled-irish",
   "metadata": {},
   "source": [
    "The test error is high, which means the generalization performance is bad. Hence the model is probably overfitting."
   ]
  },
  {
   "cell_type": "markdown",
   "id": "bottom-artist",
   "metadata": {},
   "source": [
    "## 2.2. L2 regularization"
   ]
  },
  {
   "cell_type": "markdown",
   "id": "super-election",
   "metadata": {},
   "source": [
    "### 2.2. (a) Training and Validation RMSE"
   ]
  },
  {
   "cell_type": "code",
   "execution_count": 10,
   "id": "moving-redhead",
   "metadata": {},
   "outputs": [],
   "source": [
    "#L2 Regularization\n",
    "#w* = (X^T X + lambda*I)^(-1) X^T y\n",
    "\n",
    "def getL2WStar(X,y,l,degree):\n",
    "    w = np.dot(X.T, X)             # X^T X\n",
    "    w += l*np.identity(degree+1)   # X^T X + lambda*I\n",
    "    w = np.linalg.inv(w)           #(X^T X + lambda*I)^(-1)\n",
    "    w = np.dot(w, X.T)             #(X^T X + lambda*I)^(-1) X^T\n",
    "    w = np.dot(w, y)               #(X^T X + lambda*I)^(-1) X^T y\n",
    "    return w\n",
    "\n",
    "wArray = []\n",
    "lambdaArray = []\n",
    "lambdaValue = 0.01\n",
    "RMSEtrain = []\n",
    "RMSEvalid = []\n",
    "X_L2 = getX(train[0], 20)\n",
    "    \n",
    "while lambdaValue < 1:\n",
    "    w = getL2WStar(X_L2, train[1], lambdaValue, 20)\n",
    "    RMSEtrain.append(getRMSE(getYHat(w,train[0]), train[1]))\n",
    "    RMSEvalid.append(getRMSE(getYHat(w,valid[0]), valid[1]))\n",
    "    lambdaArray.append(lambdaValue)\n",
    "    wArray.append(w)\n",
    "    lambdaValue += 0.01"
   ]
  },
  {
   "cell_type": "code",
   "execution_count": 11,
   "id": "sufficient-grade",
   "metadata": {},
   "outputs": [
    {
     "data": {
      "image/png": "[encoded data removed]",
      "text/plain": [
       "<Figure size 432x288 with 1 Axes>"
      ]
     },
     "metadata": {
      "needs_background": "light"
     },
     "output_type": "display_data"
    }
   ],
   "source": [
    "#Plotting RMSE values\n",
    "plt.plot(lambdaArray, RMSEtrain, 'r')\n",
    "plt.plot(lambdaArray, RMSEvalid, 'b')\n",
    "plt.xlabel(\"λ\")\n",
    "plt.ylabel(\"RMSE\")\n",
    "plt.legend(['Train', 'Validation'])\n",
    "plt.title('RMSE values for different values of λ')\n",
    "plt.show()"
   ]
  },
  {
   "cell_type": "markdown",
   "id": "endless-treasurer",
   "metadata": {},
   "source": [
    "### 2.2. (b) Best value of $\\lambda$"
   ]
  },
  {
   "cell_type": "code",
   "execution_count": 12,
   "id": "overhead-board",
   "metadata": {},
   "outputs": [
    {
     "name": "stdout",
     "output_type": "stream",
     "text": [
      "Best value of λ is:  0.02\n"
     ]
    }
   ],
   "source": [
    "#Step 2: \"Pick the value of λ that has best validation performance\"\n",
    "\n",
    "bestLambdaValue = lambdaArray[np.argmin(RMSEvalid)]\n",
    "print(\"Best value of λ is: \", bestLambdaValue)"
   ]
  },
  {
   "cell_type": "code",
   "execution_count": 13,
   "id": "unauthorized-crowd",
   "metadata": {},
   "outputs": [
    {
     "name": "stdout",
     "output_type": "stream",
     "text": [
      "** Test performance **\n",
      "Train RMSE:  2.976181559923893\n",
      "Valid RMSE:  3.0224325939041834\n",
      "Test RMSE:  3.275701207516833\n"
     ]
    }
   ],
   "source": [
    "#Step 3: \"Compute the test performance for the model with chosen λ\"\n",
    "\n",
    "bestW = wArray[np.argmin(RMSEvalid)]\n",
    "print(\"** Test performance **\")\n",
    "print(\"Train RMSE: \", getRMSE(getYHat(bestW,train[0]), train[1]))\n",
    "print(\"Valid RMSE: \", getRMSE(getYHat(bestW,valid[0]), valid[1]))\n",
    "print(\"Test RMSE: \", getRMSE(getYHat(bestW,test[0]), test[1]))"
   ]
  },
  {
   "cell_type": "markdown",
   "id": "saving-courtesy",
   "metadata": {},
   "source": [
    "### 2.2. (c) Visualizing the fit"
   ]
  },
  {
   "cell_type": "code",
   "execution_count": 14,
   "id": "noticed-methodology",
   "metadata": {},
   "outputs": [
    {
     "data": {
      "image/png": "[encoded data removed]",
      "text/plain": [
       "<Figure size 432x288 with 1 Axes>"
      ]
     },
     "metadata": {
      "needs_background": "light"
     },
     "output_type": "display_data"
    }
   ],
   "source": [
    "plt.plot(train[0], train[1], 'bo')\n",
    "plt.plot(train[0], getYHat(bestW,train[0]), 'r.')\n",
    "plt.title('Training')\n",
    "plt.legend(['Target', 'Prediction'])\n",
    "plt.show()"
   ]
  },
  {
   "cell_type": "code",
   "execution_count": 15,
   "id": "federal-wisdom",
   "metadata": {},
   "outputs": [
    {
     "data": {
      "image/png": "[encoded data removed]",
      "text/plain": [
       "<Figure size 432x288 with 1 Axes>"
      ]
     },
     "metadata": {
      "needs_background": "light"
     },
     "output_type": "display_data"
    }
   ],
   "source": [
    "plt.plot(valid[0], valid[1], 'bo')\n",
    "plt.plot(valid[0], getYHat(bestW,valid[0]), 'r.')\n",
    "plt.title('Validation')\n",
    "plt.legend(['Target', 'Prediction'])\n",
    "plt.show()"
   ]
  },
  {
   "cell_type": "code",
   "execution_count": 16,
   "id": "tested-guest",
   "metadata": {},
   "outputs": [
    {
     "data": {
      "image/png": "[encoded data removed]",
      "text/plain": [
       "<Figure size 432x288 with 1 Axes>"
      ]
     },
     "metadata": {
      "needs_background": "light"
     },
     "output_type": "display_data"
    }
   ],
   "source": [
    "plt.plot(test[0], test[1], 'bo')\n",
    "plt.plot(test[0], getYHat(bestW,test[0]), 'r.')\n",
    "plt.title('Test')\n",
    "plt.legend(['Target', 'Prediction'])\n",
    "plt.show()"
   ]
  },
  {
   "cell_type": "markdown",
   "id": "detailed-auckland",
   "metadata": {},
   "source": [
    "### 2.2. (d)"
   ]
  },
  {
   "cell_type": "markdown",
   "id": "above-advocacy",
   "metadata": {},
   "source": [
    "The test RMSE is rather low compared to the model without regularization (3.27 < 7.09). Also, the fitted curve does not oscillate like the one without regularization. Hence there is no proof here that the model is overfitting or underfitting."
   ]
  },
  {
   "cell_type": "markdown",
   "id": "collect-lawrence",
   "metadata": {},
   "source": [
    "## 2.3. Source polynomial"
   ]
  },
  {
   "cell_type": "markdown",
   "id": "altered-collins",
   "metadata": {},
   "source": [
    "The degree of the source polynomial is probably 4."
   ]
  },
  {
   "cell_type": "markdown",
   "id": "binding-wealth",
   "metadata": {},
   "source": [
    "# 3. Gradient Descent for Regression"
   ]
  },
  {
   "cell_type": "code",
   "execution_count": 17,
   "id": "following-broad",
   "metadata": {},
   "outputs": [],
   "source": [
    "#Using Dataset-2\n",
    "train = pd.read_csv(\"Dataset_2_train.csv\", header=None)\n",
    "valid = pd.read_csv(\"Dataset_2_valid.csv\", header=None)\n",
    "test = pd.read_csv(\"Dataset_2_test.csv\", header=None)"
   ]
  },
  {
   "cell_type": "markdown",
   "id": "falling-stone",
   "metadata": {},
   "source": [
    "## 3.1. Stochastic gradient descent"
   ]
  },
  {
   "cell_type": "markdown",
   "id": "numeric-memorial",
   "metadata": {},
   "source": [
    "For i in 1 to N:\n",
    "    $$w_0 = w_0 - \\alpha (y\\hat(x^{(i)};w)-y^{(i)})$$\n",
    "    $$w_1 = w_1 - \\alpha (y\\hat(x^{(i)};w)-y^{(i)}) x^{(i)}$$"
   ]
  },
  {
   "cell_type": "code",
   "execution_count": 18,
   "id": "bizarre-orlando",
   "metadata": {},
   "outputs": [],
   "source": [
    "import random\n",
    "\n",
    "def getYHat(w,x):\n",
    "    return w[0] + w[1]*x\n",
    "\n",
    "def SGD(train, valid, test, alpha, epochs, shuffle):\n",
    "    RMSEtrain = []\n",
    "    RMSEvalid = []\n",
    "    RMSEtest = []\n",
    "    w = [100,100] # random numbers\n",
    "    \n",
    "    #slower but safer\n",
    "    if shuffle:   \n",
    "        for i in range(epochs):\n",
    "            trainXShuffled = train[0]\n",
    "            random.shuffle(trainXShuffled)\n",
    "            trainYShuffled = train[1]\n",
    "            random.shuffle(trainYShuffled)\n",
    "            for j in range(train[0].size):\n",
    "                w[0]=w[0]-(alpha * ( getYHat(w, trainXShuffled[j]) - trainYShuffled[j] ))\n",
    "                w[1]=w[1]-(alpha * ( getYHat(w, trainXShuffled[j]) - trainYShuffled[j] ) * trainXShuffled[j])\n",
    "            RMSEtrain.append(getRMSE(getYHat(w, train[0]), train[1]))\n",
    "            RMSEvalid.append(getRMSE(getYHat(w, valid[0]), valid[1]))\n",
    "            RMSEtest.append(getRMSE(getYHat(w, test[0]), test[1]))\n",
    "    #faster but might hinder learning\n",
    "    else:        \n",
    "        for i in range(epochs):\n",
    "            for j in range(train[0].size):\n",
    "                w[0]=w[0]-(alpha * ( getYHat(w, train[0][j]) - train[1][j] ))\n",
    "                w[1]=w[1]-(alpha * ( getYHat(w, train[0][j]) - train[1][j] ) * train[0][j])\n",
    "            RMSEtrain.append(getRMSE(getYHat(w, train[0]), train[1]))\n",
    "            RMSEvalid.append(getRMSE(getYHat(w, valid[0]), valid[1]))\n",
    "            RMSEtest.append(getRMSE(getYHat(w, test[0]), test[1]))\n",
    "    return RMSEtrain, RMSEvalid, RMSEtest, w"
   ]
  },
  {
   "cell_type": "code",
   "execution_count": 19,
   "id": "searching-magnet",
   "metadata": {},
   "outputs": [
    {
     "data": {
      "image/png": "[encoded data removed]",
      "text/plain": [
       "<Figure size 432x288 with 1 Axes>"
      ]
     },
     "metadata": {
      "needs_background": "light"
     },
     "output_type": "display_data"
    }
   ],
   "source": [
    "# α = step size = 10^(-4)\n",
    "alpha = 0.0001\n",
    "\n",
    "# epochs = iterations = 200 (converges around 50-75)\n",
    "epochs = 200\n",
    "\n",
    "RMSEtrain, RMSEvalid, RMSEtest, w = SGD(train, valid, test, alpha, epochs, True)\n",
    "\n",
    "plt.plot(list(range(epochs)), RMSEtrain, \"b+\")\n",
    "plt.plot(list(range(epochs)), RMSEvalid, \"r\")\n",
    "plt.xlabel(\"Epoch\")\n",
    "plt.ylabel(\"RMSE\")\n",
    "plt.legend(['Train', 'Validation'])\n",
    "plt.title('RMSE values against number of epochs')\n",
    "plt.show()"
   ]
  },
  {
   "cell_type": "markdown",
   "id": "generic-trainer",
   "metadata": {},
   "source": [
    "## 3.2. Step size"
   ]
  },
  {
   "cell_type": "code",
   "execution_count": 20,
   "id": "worst-wings",
   "metadata": {},
   "outputs": [
    {
     "name": "stdout",
     "output_type": "stream",
     "text": [
      "Step size (α)\tValidation RMSE\n",
      "1e-01\t\t1.851018\n",
      "1e-02\t\t0.404992\n",
      "1e-03\t\t0.461471\n",
      "1e-04\t\t1.048757\n",
      "1e-05\t\t63.974488\n",
      "1e-06\t\t156.828540\n",
      "1e-07\t\t171.524208\n",
      "1e-08\t\t173.067336\n",
      "1e-09\t\t173.222410\n",
      "1e-10\t\t173.237924\n"
     ]
    }
   ],
   "source": [
    "a = 1\n",
    "RMSEs = []\n",
    "print(\"Step size (α)\\tValidation RMSE\")\n",
    "for i in range(10):\n",
    "    a /= 10\n",
    "    RMSEtrain, RMSEvalid, RMSEtest, w = SGD(train, valid, test, a, epochs, False)\n",
    "    print(\"%.0e\\t\\t%f\" % (a,min(RMSEvalid)))\n",
    "    RMSEs.append(min(RMSEvalid))"
   ]
  },
  {
   "cell_type": "code",
   "execution_count": 21,
   "id": "expired-buyer",
   "metadata": {},
   "outputs": [
    {
     "name": "stdout",
     "output_type": "stream",
     "text": [
      "Lowest Validation RMSE =  0.4049923634900587  found when α =  0.01\n"
     ]
    }
   ],
   "source": [
    "bestAlpha = 10**int(-(np.argmin(RMSEs) + 1))\n",
    "print(\"Lowest Validation RMSE = \", min(RMSEs), \" found when α = \", bestAlpha)"
   ]
  },
  {
   "cell_type": "code",
   "execution_count": 22,
   "id": "interpreted-vacuum",
   "metadata": {},
   "outputs": [
    {
     "name": "stdout",
     "output_type": "stream",
     "text": [
      "Test RMSE of the chosen model ( α =  0.01 ) is: 0.44378555847625667\n"
     ]
    }
   ],
   "source": [
    "RMSEtrain, RMSEvalid, RMSEtest, w = SGD(train, valid, test, 0.001, 200, False)\n",
    "print(\"Test RMSE of the chosen model ( α = \", bestAlpha, \") is:\", min(RMSEtest))"
   ]
  },
  {
   "cell_type": "markdown",
   "id": "ideal-broadcast",
   "metadata": {},
   "source": [
    "## 3.3. Visualizations"
   ]
  },
  {
   "cell_type": "code",
   "execution_count": 23,
   "id": "angry-smell",
   "metadata": {},
   "outputs": [],
   "source": [
    "def getYHatVector(w,x):\n",
    "    y = np.zeros(x.size)\n",
    "    for i in range(x.size):\n",
    "        y[i] = getYHat(w,x[i])\n",
    "    return y"
   ]
  },
  {
   "cell_type": "code",
   "execution_count": 24,
   "id": "appropriate-hospital",
   "metadata": {},
   "outputs": [],
   "source": [
    "def vizFit(epoch):\n",
    "    RMSEtrain, RMSEvalid, RMSEtest, w = SGD(train, valid, test, bestAlpha, epoch, False)\n",
    "    plt.plot(test[0], test[1], \"r.\", test[0], getYHatVector(w,test[0]))\n",
    "    plt.xlabel(\"x\")\n",
    "    plt.ylabel(\"y\")\n",
    "    plt.legend(['Test', 'Model'])\n",
    "    plt.title('Epoch #%d' % epoch)\n",
    "    plt.show()"
   ]
  },
  {
   "cell_type": "code",
   "execution_count": 25,
   "id": "accessory-dividend",
   "metadata": {},
   "outputs": [
    {
     "data": {
      "image/png": "[encoded data removed]",
      "text/plain": [
       "<Figure size 432x288 with 1 Axes>"
      ]
     },
     "metadata": {
      "needs_background": "light"
     },
     "output_type": "display_data"
    },
    {
     "data": {
      "image/png": "[encoded data removed]",
      "text/plain": [
       "<Figure size 432x288 with 1 Axes>"
      ]
     },
     "metadata": {
      "needs_background": "light"
     },
     "output_type": "display_data"
    },
    {
     "data": {
      "image/png": "[encoded data removed]",
      "text/plain": [
       "<Figure size 432x288 with 1 Axes>"
      ]
     },
     "metadata": {
      "needs_background": "light"
     },
     "output_type": "display_data"
    },
    {
     "data": {
      "image/png": "[encoded data removed]",
      "text/plain": [
       "<Figure size 432x288 with 1 Axes>"
      ]
     },
     "metadata": {
      "needs_background": "light"
     },
     "output_type": "display_data"
    },
    {
     "data": {
      "image/png": "[encoded data removed]",
      "text/plain": [
       "<Figure size 432x288 with 1 Axes>"
      ]
     },
     "metadata": {
      "needs_background": "light"
     },
     "output_type": "display_data"
    }
   ],
   "source": [
    "vizFit(1)\n",
    "vizFit(10)\n",
    "vizFit(25)\n",
    "vizFit(30)\n",
    "vizFit(35)"
   ]
  },
  {
   "cell_type": "markdown",
   "id": "negative-academy",
   "metadata": {},
   "source": [
    "It seems like we are getting the best fit at around 30 epochs. However, after 35 epochs, the model gradually moves away from the test data."
   ]
  },
  {
   "cell_type": "markdown",
   "id": "prescribed-stephen",
   "metadata": {},
   "source": [
    "## 3.4. Full-batch gradient descent"
   ]
  },
  {
   "cell_type": "markdown",
   "id": "visible-damage",
   "metadata": {},
   "source": [
    "Repeat until convergence:\n",
    "$$w_0 = w_0 - \\alpha \\frac{1}{N} \\sum_{i=1}^{N} (y\\hat(x^{(i)};w)-y^{(i)})$$\n",
    "$$w_1 = w_1 - \\alpha \\frac{1}{N} \\sum_{i=1}^{N} (y\\hat(x^{(i)};w)-y^{(i)}) x^{(i)}$$"
   ]
  },
  {
   "cell_type": "code",
   "execution_count": 26,
   "id": "desirable-biodiversity",
   "metadata": {},
   "outputs": [],
   "source": [
    "def fullBatchGD(train, valid, test, alpha):      \n",
    "    RMSEtrain = []\n",
    "    RMSEvalid = []\n",
    "    RMSEtest = []\n",
    "    w = np.random.rand(2)\n",
    "    \n",
    "    sumW0 = 0\n",
    "    sumW1 = 0\n",
    "    N = train[0].size\n",
    "    \n",
    "    for i in range(N):\n",
    "        sumW0 += getYHat(w, train[0][i]) - train[1][i]\n",
    "        sumW1 += ( getYHat(w, train[0][i]) - train[1][i] ) * train[0][i]\n",
    "    \n",
    "    converging = False\n",
    "    \n",
    "    epoch=0\n",
    "    \n",
    "    while not converging:\n",
    "        w[0]=w[0]-(alpha * (1/N) * sumW0)\n",
    "        w[1]=w[1]-(alpha * (1/N) * sumW1)\n",
    "        \n",
    "        RMSEtrain.append(getRMSE(getYHat(w, train[0]), train[1]))\n",
    "        RMSEvalid.append(getRMSE(getYHat(w, valid[0]), valid[1]))\n",
    "        RMSEtest.append(getRMSE(getYHat(w, test[0]), test[1]))\n",
    "        \n",
    "        if epoch>1 and RMSEtrain[epoch]>RMSEtrain[epoch-1]:\n",
    "            converging = True\n",
    "        epoch+=1\n",
    "    return RMSEtrain, RMSEvalid, RMSEtest, w, epoch"
   ]
  },
  {
   "cell_type": "code",
   "execution_count": 27,
   "id": "round-twenty",
   "metadata": {},
   "outputs": [
    {
     "data": {
      "image/png": "[encoded data removed]",
      "text/plain": [
       "<Figure size 432x288 with 1 Axes>"
      ]
     },
     "metadata": {
      "needs_background": "light"
     },
     "output_type": "display_data"
    }
   ],
   "source": [
    "alpha = 0.001\n",
    "\n",
    "RMSEtrain, RMSEvalid, RMSEtest, w, epochs = fullBatchGD(train, valid, test, alpha)\n",
    "\n",
    "plt.plot(list(range(epochs)), RMSEtrain, \"b\")\n",
    "plt.plot(list(range(epochs)), RMSEvalid, \"r\")\n",
    "plt.xlabel(\"Epoch\")\n",
    "plt.ylabel(\"RMSE\")\n",
    "plt.legend(['Train', 'Validation'])\n",
    "plt.title('RMSE values against number of epochs')\n",
    "plt.show()"
   ]
  },
  {
   "cell_type": "markdown",
   "id": "initial-missouri",
   "metadata": {},
   "source": [
    "## 3.5. Full-batch vs. Stochastic gradient descent"
   ]
  },
  {
   "cell_type": "markdown",
   "id": "boxed-ratio",
   "metadata": {},
   "source": [
    "Full-batch gradient descent seems to work better as it stops automatically when the model converges. Stochastic gradient descent doesn't guarentee that the best fit will be found at the last epoch (it will probably be found before, as seen on graphs in section 3.3)."
   ]
  },
  {
   "cell_type": "markdown",
   "id": "angry-radical",
   "metadata": {},
   "source": [
    "# 4. Real life dataset"
   ]
  },
  {
   "cell_type": "code",
   "execution_count": 47,
   "id": "legislative-constraint",
   "metadata": {
    "scrolled": true
   },
   "outputs": [
    {
     "data": {
      "text/html": [
       "<div>\n",
       "<style scoped>\n",
       "    .dataframe tbody tr th:only-of-type {\n",
       "        vertical-align: middle;\n",
       "    }\n",
       "\n",
       "    .dataframe tbody tr th {\n",
       "        vertical-align: top;\n",
       "    }\n",
       "\n",
       "    .dataframe thead th {\n",
       "        text-align: right;\n",
       "    }\n",
       "</style>\n",
       "<table border=\"1\" class=\"dataframe\">\n",
       "  <thead>\n",
       "    <tr style=\"text-align: right;\">\n",
       "      <th></th>\n",
       "      <th>0</th>\n",
       "      <th>1</th>\n",
       "      <th>2</th>\n",
       "      <th>3</th>\n",
       "      <th>4</th>\n",
       "      <th>5</th>\n",
       "      <th>6</th>\n",
       "      <th>7</th>\n",
       "      <th>8</th>\n",
       "      <th>9</th>\n",
       "      <th>...</th>\n",
       "      <th>118</th>\n",
       "      <th>119</th>\n",
       "      <th>120</th>\n",
       "      <th>121</th>\n",
       "      <th>122</th>\n",
       "      <th>123</th>\n",
       "      <th>124</th>\n",
       "      <th>125</th>\n",
       "      <th>126</th>\n",
       "      <th>127</th>\n",
       "    </tr>\n",
       "  </thead>\n",
       "  <tbody>\n",
       "    <tr>\n",
       "      <th>0</th>\n",
       "      <td>8</td>\n",
       "      <td>?</td>\n",
       "      <td>?</td>\n",
       "      <td>Lakewoodcity</td>\n",
       "      <td>1</td>\n",
       "      <td>0.19</td>\n",
       "      <td>0.33</td>\n",
       "      <td>0.02</td>\n",
       "      <td>0.90</td>\n",
       "      <td>0.12</td>\n",
       "      <td>...</td>\n",
       "      <td>0.12</td>\n",
       "      <td>0.26</td>\n",
       "      <td>0.20</td>\n",
       "      <td>0.06</td>\n",
       "      <td>0.04</td>\n",
       "      <td>0.9</td>\n",
       "      <td>0.5</td>\n",
       "      <td>0.32</td>\n",
       "      <td>0.14</td>\n",
       "      <td>0.20</td>\n",
       "    </tr>\n",
       "    <tr>\n",
       "      <th>1</th>\n",
       "      <td>53</td>\n",
       "      <td>?</td>\n",
       "      <td>?</td>\n",
       "      <td>Tukwilacity</td>\n",
       "      <td>1</td>\n",
       "      <td>0.00</td>\n",
       "      <td>0.16</td>\n",
       "      <td>0.12</td>\n",
       "      <td>0.74</td>\n",
       "      <td>0.45</td>\n",
       "      <td>...</td>\n",
       "      <td>0.02</td>\n",
       "      <td>0.12</td>\n",
       "      <td>0.45</td>\n",
       "      <td>?</td>\n",
       "      <td>?</td>\n",
       "      <td>?</td>\n",
       "      <td>?</td>\n",
       "      <td>0.00</td>\n",
       "      <td>?</td>\n",
       "      <td>0.67</td>\n",
       "    </tr>\n",
       "    <tr>\n",
       "      <th>2</th>\n",
       "      <td>24</td>\n",
       "      <td>?</td>\n",
       "      <td>?</td>\n",
       "      <td>Aberdeentown</td>\n",
       "      <td>1</td>\n",
       "      <td>0.00</td>\n",
       "      <td>0.42</td>\n",
       "      <td>0.49</td>\n",
       "      <td>0.56</td>\n",
       "      <td>0.17</td>\n",
       "      <td>...</td>\n",
       "      <td>0.01</td>\n",
       "      <td>0.21</td>\n",
       "      <td>0.02</td>\n",
       "      <td>?</td>\n",
       "      <td>?</td>\n",
       "      <td>?</td>\n",
       "      <td>?</td>\n",
       "      <td>0.00</td>\n",
       "      <td>?</td>\n",
       "      <td>0.43</td>\n",
       "    </tr>\n",
       "    <tr>\n",
       "      <th>3</th>\n",
       "      <td>34</td>\n",
       "      <td>5</td>\n",
       "      <td>81440</td>\n",
       "      <td>Willingborotownship</td>\n",
       "      <td>1</td>\n",
       "      <td>0.04</td>\n",
       "      <td>0.77</td>\n",
       "      <td>1.00</td>\n",
       "      <td>0.08</td>\n",
       "      <td>0.12</td>\n",
       "      <td>...</td>\n",
       "      <td>0.02</td>\n",
       "      <td>0.39</td>\n",
       "      <td>0.28</td>\n",
       "      <td>?</td>\n",
       "      <td>?</td>\n",
       "      <td>?</td>\n",
       "      <td>?</td>\n",
       "      <td>0.00</td>\n",
       "      <td>?</td>\n",
       "      <td>0.12</td>\n",
       "    </tr>\n",
       "    <tr>\n",
       "      <th>4</th>\n",
       "      <td>42</td>\n",
       "      <td>95</td>\n",
       "      <td>6096</td>\n",
       "      <td>Bethlehemtownship</td>\n",
       "      <td>1</td>\n",
       "      <td>0.01</td>\n",
       "      <td>0.55</td>\n",
       "      <td>0.02</td>\n",
       "      <td>0.95</td>\n",
       "      <td>0.09</td>\n",
       "      <td>...</td>\n",
       "      <td>0.04</td>\n",
       "      <td>0.09</td>\n",
       "      <td>0.02</td>\n",
       "      <td>?</td>\n",
       "      <td>?</td>\n",
       "      <td>?</td>\n",
       "      <td>?</td>\n",
       "      <td>0.00</td>\n",
       "      <td>?</td>\n",
       "      <td>0.03</td>\n",
       "    </tr>\n",
       "    <tr>\n",
       "      <th>...</th>\n",
       "      <td>...</td>\n",
       "      <td>...</td>\n",
       "      <td>...</td>\n",
       "      <td>...</td>\n",
       "      <td>...</td>\n",
       "      <td>...</td>\n",
       "      <td>...</td>\n",
       "      <td>...</td>\n",
       "      <td>...</td>\n",
       "      <td>...</td>\n",
       "      <td>...</td>\n",
       "      <td>...</td>\n",
       "      <td>...</td>\n",
       "      <td>...</td>\n",
       "      <td>...</td>\n",
       "      <td>...</td>\n",
       "      <td>...</td>\n",
       "      <td>...</td>\n",
       "      <td>...</td>\n",
       "      <td>...</td>\n",
       "      <td>...</td>\n",
       "    </tr>\n",
       "    <tr>\n",
       "      <th>1989</th>\n",
       "      <td>12</td>\n",
       "      <td>?</td>\n",
       "      <td>?</td>\n",
       "      <td>TempleTerracecity</td>\n",
       "      <td>10</td>\n",
       "      <td>0.01</td>\n",
       "      <td>0.40</td>\n",
       "      <td>0.10</td>\n",
       "      <td>0.87</td>\n",
       "      <td>0.12</td>\n",
       "      <td>...</td>\n",
       "      <td>0.01</td>\n",
       "      <td>0.28</td>\n",
       "      <td>0.05</td>\n",
       "      <td>?</td>\n",
       "      <td>?</td>\n",
       "      <td>?</td>\n",
       "      <td>?</td>\n",
       "      <td>0.00</td>\n",
       "      <td>?</td>\n",
       "      <td>0.09</td>\n",
       "    </tr>\n",
       "    <tr>\n",
       "      <th>1990</th>\n",
       "      <td>6</td>\n",
       "      <td>?</td>\n",
       "      <td>?</td>\n",
       "      <td>Seasidecity</td>\n",
       "      <td>10</td>\n",
       "      <td>0.05</td>\n",
       "      <td>0.96</td>\n",
       "      <td>0.46</td>\n",
       "      <td>0.28</td>\n",
       "      <td>0.83</td>\n",
       "      <td>...</td>\n",
       "      <td>0.02</td>\n",
       "      <td>0.37</td>\n",
       "      <td>0.20</td>\n",
       "      <td>?</td>\n",
       "      <td>?</td>\n",
       "      <td>?</td>\n",
       "      <td>?</td>\n",
       "      <td>0.00</td>\n",
       "      <td>?</td>\n",
       "      <td>0.45</td>\n",
       "    </tr>\n",
       "    <tr>\n",
       "      <th>1991</th>\n",
       "      <td>9</td>\n",
       "      <td>9</td>\n",
       "      <td>80070</td>\n",
       "      <td>Waterburytown</td>\n",
       "      <td>10</td>\n",
       "      <td>0.16</td>\n",
       "      <td>0.37</td>\n",
       "      <td>0.25</td>\n",
       "      <td>0.69</td>\n",
       "      <td>0.04</td>\n",
       "      <td>...</td>\n",
       "      <td>0.08</td>\n",
       "      <td>0.32</td>\n",
       "      <td>0.18</td>\n",
       "      <td>0.08</td>\n",
       "      <td>0.06</td>\n",
       "      <td>0.78</td>\n",
       "      <td>0</td>\n",
       "      <td>0.91</td>\n",
       "      <td>0.28</td>\n",
       "      <td>0.23</td>\n",
       "    </tr>\n",
       "    <tr>\n",
       "      <th>1992</th>\n",
       "      <td>25</td>\n",
       "      <td>17</td>\n",
       "      <td>72600</td>\n",
       "      <td>Walthamcity</td>\n",
       "      <td>10</td>\n",
       "      <td>0.08</td>\n",
       "      <td>0.51</td>\n",
       "      <td>0.06</td>\n",
       "      <td>0.87</td>\n",
       "      <td>0.22</td>\n",
       "      <td>...</td>\n",
       "      <td>0.03</td>\n",
       "      <td>0.38</td>\n",
       "      <td>0.33</td>\n",
       "      <td>0.02</td>\n",
       "      <td>0.02</td>\n",
       "      <td>0.79</td>\n",
       "      <td>0</td>\n",
       "      <td>0.22</td>\n",
       "      <td>0.18</td>\n",
       "      <td>0.19</td>\n",
       "    </tr>\n",
       "    <tr>\n",
       "      <th>1993</th>\n",
       "      <td>6</td>\n",
       "      <td>?</td>\n",
       "      <td>?</td>\n",
       "      <td>Ontariocity</td>\n",
       "      <td>10</td>\n",
       "      <td>0.20</td>\n",
       "      <td>0.78</td>\n",
       "      <td>0.14</td>\n",
       "      <td>0.46</td>\n",
       "      <td>0.24</td>\n",
       "      <td>...</td>\n",
       "      <td>0.11</td>\n",
       "      <td>0.30</td>\n",
       "      <td>0.05</td>\n",
       "      <td>0.08</td>\n",
       "      <td>0.04</td>\n",
       "      <td>0.73</td>\n",
       "      <td>0.5</td>\n",
       "      <td>1.00</td>\n",
       "      <td>0.13</td>\n",
       "      <td>0.48</td>\n",
       "    </tr>\n",
       "  </tbody>\n",
       "</table>\n",
       "<p>1994 rows × 128 columns</p>\n",
       "</div>"
      ],
      "text/plain": [
       "      0   1      2                    3    4     5     6     7     8     9    \\\n",
       "0       8   ?      ?         Lakewoodcity    1  0.19  0.33  0.02  0.90  0.12   \n",
       "1      53   ?      ?          Tukwilacity    1  0.00  0.16  0.12  0.74  0.45   \n",
       "2      24   ?      ?         Aberdeentown    1  0.00  0.42  0.49  0.56  0.17   \n",
       "3      34   5  81440  Willingborotownship    1  0.04  0.77  1.00  0.08  0.12   \n",
       "4      42  95   6096    Bethlehemtownship    1  0.01  0.55  0.02  0.95  0.09   \n",
       "...   ...  ..    ...                  ...  ...   ...   ...   ...   ...   ...   \n",
       "1989   12   ?      ?    TempleTerracecity   10  0.01  0.40  0.10  0.87  0.12   \n",
       "1990    6   ?      ?          Seasidecity   10  0.05  0.96  0.46  0.28  0.83   \n",
       "1991    9   9  80070        Waterburytown   10  0.16  0.37  0.25  0.69  0.04   \n",
       "1992   25  17  72600          Walthamcity   10  0.08  0.51  0.06  0.87  0.22   \n",
       "1993    6   ?      ?          Ontariocity   10  0.20  0.78  0.14  0.46  0.24   \n",
       "\n",
       "      ...   118   119   120   121   122   123  124   125   126   127  \n",
       "0     ...  0.12  0.26  0.20  0.06  0.04   0.9  0.5  0.32  0.14  0.20  \n",
       "1     ...  0.02  0.12  0.45     ?     ?     ?    ?  0.00     ?  0.67  \n",
       "2     ...  0.01  0.21  0.02     ?     ?     ?    ?  0.00     ?  0.43  \n",
       "3     ...  0.02  0.39  0.28     ?     ?     ?    ?  0.00     ?  0.12  \n",
       "4     ...  0.04  0.09  0.02     ?     ?     ?    ?  0.00     ?  0.03  \n",
       "...   ...   ...   ...   ...   ...   ...   ...  ...   ...   ...   ...  \n",
       "1989  ...  0.01  0.28  0.05     ?     ?     ?    ?  0.00     ?  0.09  \n",
       "1990  ...  0.02  0.37  0.20     ?     ?     ?    ?  0.00     ?  0.45  \n",
       "1991  ...  0.08  0.32  0.18  0.08  0.06  0.78    0  0.91  0.28  0.23  \n",
       "1992  ...  0.03  0.38  0.33  0.02  0.02  0.79    0  0.22  0.18  0.19  \n",
       "1993  ...  0.11  0.30  0.05  0.08  0.04  0.73  0.5  1.00  0.13  0.48  \n",
       "\n",
       "[1994 rows x 128 columns]"
      ]
     },
     "metadata": {},
     "output_type": "display_data"
    }
   ],
   "source": [
    "#Using communities.data from https://archive.ics.uci.edu/ml/datasets/communities+and+crime\n",
    "data = pd.read_csv(\"communities.data\", header=None)\n",
    "display(data)"
   ]
  },
  {
   "cell_type": "markdown",
   "id": "dress-pottery",
   "metadata": {},
   "source": [
    "## 4.1. Data set"
   ]
  },
  {
   "cell_type": "markdown",
   "id": "divided-checkout",
   "metadata": {},
   "source": [
    "### 4.1. (a) Using sample mean of each column to fill in the missing attributes"
   ]
  },
  {
   "cell_type": "code",
   "execution_count": 49,
   "id": "verbal-burlington",
   "metadata": {},
   "outputs": [
    {
     "data": {
      "text/html": [
       "<div>\n",
       "<style scoped>\n",
       "    .dataframe tbody tr th:only-of-type {\n",
       "        vertical-align: middle;\n",
       "    }\n",
       "\n",
       "    .dataframe tbody tr th {\n",
       "        vertical-align: top;\n",
       "    }\n",
       "\n",
       "    .dataframe thead th {\n",
       "        text-align: right;\n",
       "    }\n",
       "</style>\n",
       "<table border=\"1\" class=\"dataframe\">\n",
       "  <thead>\n",
       "    <tr style=\"text-align: right;\">\n",
       "      <th></th>\n",
       "      <th>0</th>\n",
       "      <th>1</th>\n",
       "      <th>2</th>\n",
       "      <th>3</th>\n",
       "      <th>4</th>\n",
       "      <th>5</th>\n",
       "      <th>6</th>\n",
       "      <th>7</th>\n",
       "      <th>8</th>\n",
       "      <th>9</th>\n",
       "      <th>...</th>\n",
       "      <th>118</th>\n",
       "      <th>119</th>\n",
       "      <th>120</th>\n",
       "      <th>121</th>\n",
       "      <th>122</th>\n",
       "      <th>123</th>\n",
       "      <th>124</th>\n",
       "      <th>125</th>\n",
       "      <th>126</th>\n",
       "      <th>127</th>\n",
       "    </tr>\n",
       "  </thead>\n",
       "  <tbody>\n",
       "    <tr>\n",
       "      <th>0</th>\n",
       "      <td>8</td>\n",
       "      <td>58.826829</td>\n",
       "      <td>46188.336597</td>\n",
       "      <td>Lakewoodcity</td>\n",
       "      <td>1</td>\n",
       "      <td>0.19</td>\n",
       "      <td>0.33</td>\n",
       "      <td>0.02</td>\n",
       "      <td>0.90</td>\n",
       "      <td>0.12</td>\n",
       "      <td>...</td>\n",
       "      <td>0.12</td>\n",
       "      <td>0.26</td>\n",
       "      <td>0.20</td>\n",
       "      <td>0.06</td>\n",
       "      <td>0.04</td>\n",
       "      <td>0.9</td>\n",
       "      <td>0.5</td>\n",
       "      <td>0.32</td>\n",
       "      <td>0.14</td>\n",
       "      <td>0.20</td>\n",
       "    </tr>\n",
       "    <tr>\n",
       "      <th>1</th>\n",
       "      <td>53</td>\n",
       "      <td>58.826829</td>\n",
       "      <td>46188.336597</td>\n",
       "      <td>Tukwilacity</td>\n",
       "      <td>1</td>\n",
       "      <td>0.00</td>\n",
       "      <td>0.16</td>\n",
       "      <td>0.12</td>\n",
       "      <td>0.74</td>\n",
       "      <td>0.45</td>\n",
       "      <td>...</td>\n",
       "      <td>0.02</td>\n",
       "      <td>0.12</td>\n",
       "      <td>0.45</td>\n",
       "      <td>0.163103</td>\n",
       "      <td>0.076708</td>\n",
       "      <td>0.698589</td>\n",
       "      <td>0.440439</td>\n",
       "      <td>0.00</td>\n",
       "      <td>0.195078</td>\n",
       "      <td>0.67</td>\n",
       "    </tr>\n",
       "    <tr>\n",
       "      <th>2</th>\n",
       "      <td>24</td>\n",
       "      <td>58.826829</td>\n",
       "      <td>46188.336597</td>\n",
       "      <td>Aberdeentown</td>\n",
       "      <td>1</td>\n",
       "      <td>0.00</td>\n",
       "      <td>0.42</td>\n",
       "      <td>0.49</td>\n",
       "      <td>0.56</td>\n",
       "      <td>0.17</td>\n",
       "      <td>...</td>\n",
       "      <td>0.01</td>\n",
       "      <td>0.21</td>\n",
       "      <td>0.02</td>\n",
       "      <td>0.163103</td>\n",
       "      <td>0.076708</td>\n",
       "      <td>0.698589</td>\n",
       "      <td>0.440439</td>\n",
       "      <td>0.00</td>\n",
       "      <td>0.195078</td>\n",
       "      <td>0.43</td>\n",
       "    </tr>\n",
       "    <tr>\n",
       "      <th>3</th>\n",
       "      <td>34</td>\n",
       "      <td>5</td>\n",
       "      <td>81440</td>\n",
       "      <td>Willingborotownship</td>\n",
       "      <td>1</td>\n",
       "      <td>0.04</td>\n",
       "      <td>0.77</td>\n",
       "      <td>1.00</td>\n",
       "      <td>0.08</td>\n",
       "      <td>0.12</td>\n",
       "      <td>...</td>\n",
       "      <td>0.02</td>\n",
       "      <td>0.39</td>\n",
       "      <td>0.28</td>\n",
       "      <td>0.163103</td>\n",
       "      <td>0.076708</td>\n",
       "      <td>0.698589</td>\n",
       "      <td>0.440439</td>\n",
       "      <td>0.00</td>\n",
       "      <td>0.195078</td>\n",
       "      <td>0.12</td>\n",
       "    </tr>\n",
       "    <tr>\n",
       "      <th>4</th>\n",
       "      <td>42</td>\n",
       "      <td>95</td>\n",
       "      <td>6096</td>\n",
       "      <td>Bethlehemtownship</td>\n",
       "      <td>1</td>\n",
       "      <td>0.01</td>\n",
       "      <td>0.55</td>\n",
       "      <td>0.02</td>\n",
       "      <td>0.95</td>\n",
       "      <td>0.09</td>\n",
       "      <td>...</td>\n",
       "      <td>0.04</td>\n",
       "      <td>0.09</td>\n",
       "      <td>0.02</td>\n",
       "      <td>0.163103</td>\n",
       "      <td>0.076708</td>\n",
       "      <td>0.698589</td>\n",
       "      <td>0.440439</td>\n",
       "      <td>0.00</td>\n",
       "      <td>0.195078</td>\n",
       "      <td>0.03</td>\n",
       "    </tr>\n",
       "    <tr>\n",
       "      <th>...</th>\n",
       "      <td>...</td>\n",
       "      <td>...</td>\n",
       "      <td>...</td>\n",
       "      <td>...</td>\n",
       "      <td>...</td>\n",
       "      <td>...</td>\n",
       "      <td>...</td>\n",
       "      <td>...</td>\n",
       "      <td>...</td>\n",
       "      <td>...</td>\n",
       "      <td>...</td>\n",
       "      <td>...</td>\n",
       "      <td>...</td>\n",
       "      <td>...</td>\n",
       "      <td>...</td>\n",
       "      <td>...</td>\n",
       "      <td>...</td>\n",
       "      <td>...</td>\n",
       "      <td>...</td>\n",
       "      <td>...</td>\n",
       "      <td>...</td>\n",
       "    </tr>\n",
       "    <tr>\n",
       "      <th>1989</th>\n",
       "      <td>12</td>\n",
       "      <td>58.826829</td>\n",
       "      <td>46188.336597</td>\n",
       "      <td>TempleTerracecity</td>\n",
       "      <td>10</td>\n",
       "      <td>0.01</td>\n",
       "      <td>0.40</td>\n",
       "      <td>0.10</td>\n",
       "      <td>0.87</td>\n",
       "      <td>0.12</td>\n",
       "      <td>...</td>\n",
       "      <td>0.01</td>\n",
       "      <td>0.28</td>\n",
       "      <td>0.05</td>\n",
       "      <td>0.163103</td>\n",
       "      <td>0.076708</td>\n",
       "      <td>0.698589</td>\n",
       "      <td>0.440439</td>\n",
       "      <td>0.00</td>\n",
       "      <td>0.195078</td>\n",
       "      <td>0.09</td>\n",
       "    </tr>\n",
       "    <tr>\n",
       "      <th>1990</th>\n",
       "      <td>6</td>\n",
       "      <td>58.826829</td>\n",
       "      <td>46188.336597</td>\n",
       "      <td>Seasidecity</td>\n",
       "      <td>10</td>\n",
       "      <td>0.05</td>\n",
       "      <td>0.96</td>\n",
       "      <td>0.46</td>\n",
       "      <td>0.28</td>\n",
       "      <td>0.83</td>\n",
       "      <td>...</td>\n",
       "      <td>0.02</td>\n",
       "      <td>0.37</td>\n",
       "      <td>0.20</td>\n",
       "      <td>0.163103</td>\n",
       "      <td>0.076708</td>\n",
       "      <td>0.698589</td>\n",
       "      <td>0.440439</td>\n",
       "      <td>0.00</td>\n",
       "      <td>0.195078</td>\n",
       "      <td>0.45</td>\n",
       "    </tr>\n",
       "    <tr>\n",
       "      <th>1991</th>\n",
       "      <td>9</td>\n",
       "      <td>9</td>\n",
       "      <td>80070</td>\n",
       "      <td>Waterburytown</td>\n",
       "      <td>10</td>\n",
       "      <td>0.16</td>\n",
       "      <td>0.37</td>\n",
       "      <td>0.25</td>\n",
       "      <td>0.69</td>\n",
       "      <td>0.04</td>\n",
       "      <td>...</td>\n",
       "      <td>0.08</td>\n",
       "      <td>0.32</td>\n",
       "      <td>0.18</td>\n",
       "      <td>0.08</td>\n",
       "      <td>0.06</td>\n",
       "      <td>0.78</td>\n",
       "      <td>0</td>\n",
       "      <td>0.91</td>\n",
       "      <td>0.28</td>\n",
       "      <td>0.23</td>\n",
       "    </tr>\n",
       "    <tr>\n",
       "      <th>1992</th>\n",
       "      <td>25</td>\n",
       "      <td>17</td>\n",
       "      <td>72600</td>\n",
       "      <td>Walthamcity</td>\n",
       "      <td>10</td>\n",
       "      <td>0.08</td>\n",
       "      <td>0.51</td>\n",
       "      <td>0.06</td>\n",
       "      <td>0.87</td>\n",
       "      <td>0.22</td>\n",
       "      <td>...</td>\n",
       "      <td>0.03</td>\n",
       "      <td>0.38</td>\n",
       "      <td>0.33</td>\n",
       "      <td>0.02</td>\n",
       "      <td>0.02</td>\n",
       "      <td>0.79</td>\n",
       "      <td>0</td>\n",
       "      <td>0.22</td>\n",
       "      <td>0.18</td>\n",
       "      <td>0.19</td>\n",
       "    </tr>\n",
       "    <tr>\n",
       "      <th>1993</th>\n",
       "      <td>6</td>\n",
       "      <td>58.826829</td>\n",
       "      <td>46188.336597</td>\n",
       "      <td>Ontariocity</td>\n",
       "      <td>10</td>\n",
       "      <td>0.20</td>\n",
       "      <td>0.78</td>\n",
       "      <td>0.14</td>\n",
       "      <td>0.46</td>\n",
       "      <td>0.24</td>\n",
       "      <td>...</td>\n",
       "      <td>0.11</td>\n",
       "      <td>0.30</td>\n",
       "      <td>0.05</td>\n",
       "      <td>0.08</td>\n",
       "      <td>0.04</td>\n",
       "      <td>0.73</td>\n",
       "      <td>0.5</td>\n",
       "      <td>1.00</td>\n",
       "      <td>0.13</td>\n",
       "      <td>0.48</td>\n",
       "    </tr>\n",
       "  </tbody>\n",
       "</table>\n",
       "<p>1994 rows × 128 columns</p>\n",
       "</div>"
      ],
      "text/plain": [
       "      0          1             2                    3    4     5     6    \\\n",
       "0       8  58.826829  46188.336597         Lakewoodcity    1  0.19  0.33   \n",
       "1      53  58.826829  46188.336597          Tukwilacity    1  0.00  0.16   \n",
       "2      24  58.826829  46188.336597         Aberdeentown    1  0.00  0.42   \n",
       "3      34          5         81440  Willingborotownship    1  0.04  0.77   \n",
       "4      42         95          6096    Bethlehemtownship    1  0.01  0.55   \n",
       "...   ...        ...           ...                  ...  ...   ...   ...   \n",
       "1989   12  58.826829  46188.336597    TempleTerracecity   10  0.01  0.40   \n",
       "1990    6  58.826829  46188.336597          Seasidecity   10  0.05  0.96   \n",
       "1991    9          9         80070        Waterburytown   10  0.16  0.37   \n",
       "1992   25         17         72600          Walthamcity   10  0.08  0.51   \n",
       "1993    6  58.826829  46188.336597          Ontariocity   10  0.20  0.78   \n",
       "\n",
       "       7     8     9    ...   118   119   120       121       122       123  \\\n",
       "0     0.02  0.90  0.12  ...  0.12  0.26  0.20      0.06      0.04       0.9   \n",
       "1     0.12  0.74  0.45  ...  0.02  0.12  0.45  0.163103  0.076708  0.698589   \n",
       "2     0.49  0.56  0.17  ...  0.01  0.21  0.02  0.163103  0.076708  0.698589   \n",
       "3     1.00  0.08  0.12  ...  0.02  0.39  0.28  0.163103  0.076708  0.698589   \n",
       "4     0.02  0.95  0.09  ...  0.04  0.09  0.02  0.163103  0.076708  0.698589   \n",
       "...    ...   ...   ...  ...   ...   ...   ...       ...       ...       ...   \n",
       "1989  0.10  0.87  0.12  ...  0.01  0.28  0.05  0.163103  0.076708  0.698589   \n",
       "1990  0.46  0.28  0.83  ...  0.02  0.37  0.20  0.163103  0.076708  0.698589   \n",
       "1991  0.25  0.69  0.04  ...  0.08  0.32  0.18      0.08      0.06      0.78   \n",
       "1992  0.06  0.87  0.22  ...  0.03  0.38  0.33      0.02      0.02      0.79   \n",
       "1993  0.14  0.46  0.24  ...  0.11  0.30  0.05      0.08      0.04      0.73   \n",
       "\n",
       "           124   125       126   127  \n",
       "0          0.5  0.32      0.14  0.20  \n",
       "1     0.440439  0.00  0.195078  0.67  \n",
       "2     0.440439  0.00  0.195078  0.43  \n",
       "3     0.440439  0.00  0.195078  0.12  \n",
       "4     0.440439  0.00  0.195078  0.03  \n",
       "...        ...   ...       ...   ...  \n",
       "1989  0.440439  0.00  0.195078  0.09  \n",
       "1990  0.440439  0.00  0.195078  0.45  \n",
       "1991         0  0.91      0.28  0.23  \n",
       "1992         0  0.22      0.18  0.19  \n",
       "1993       0.5  1.00      0.13  0.48  \n",
       "\n",
       "[1994 rows x 128 columns]"
      ]
     },
     "metadata": {},
     "output_type": "display_data"
    }
   ],
   "source": [
    "def getMean(row):\n",
    "    j = 0\n",
    "    k = 0\n",
    "    sum = 0\n",
    "    for i in range(row.size):\n",
    "        if row[i] != '?':\n",
    "            j += 1\n",
    "            sum += float(row[i])\n",
    "    return sum/j\n",
    "\n",
    "#Replacing all \"?\" values by average of column\n",
    "r = list(range(data.columns.size))\n",
    "r.pop(3)  #skip column 3\n",
    "for i in r:\n",
    "    data[i] = data[i].replace('?', getMean(data[i]))\n",
    "    \n",
    "display(data)"
   ]
  },
  {
   "cell_type": "markdown",
   "id": "recovered-charlotte",
   "metadata": {},
   "source": [
    "Using sample mean of each column can be a good way to fill in missing attributes if a small fraction of them are missing. In our case, we've got $1675$ values missing for 22 columns and between $1174$ and $1177$ values missing for 2 columns, which represents between $58$% and $84$% of the values. Hence, in this case, this method is probably not the best."
   ]
  },
  {
   "cell_type": "markdown",
   "id": "friendly-township",
   "metadata": {},
   "source": [
    "### 4.1. (b) Other way to fill in the missing attributes"
   ]
  },
  {
   "cell_type": "markdown",
   "id": "surface-darkness",
   "metadata": {},
   "source": [
    "Other ways:\n",
    "* This\n",
    "* That"
   ]
  },
  {
   "cell_type": "markdown",
   "id": "useful-stone",
   "metadata": {},
   "source": [
    "### 4.1. (c) Using other way"
   ]
  },
  {
   "cell_type": "markdown",
   "id": "qualified-exhibit",
   "metadata": {},
   "source": [
    "### 4.1. (d) Completed data set"
   ]
  },
  {
   "cell_type": "code",
   "execution_count": 50,
   "id": "artistic-carbon",
   "metadata": {},
   "outputs": [
    {
     "data": {
      "text/html": [
       "<div>\n",
       "<style scoped>\n",
       "    .dataframe tbody tr th:only-of-type {\n",
       "        vertical-align: middle;\n",
       "    }\n",
       "\n",
       "    .dataframe tbody tr th {\n",
       "        vertical-align: top;\n",
       "    }\n",
       "\n",
       "    .dataframe thead th {\n",
       "        text-align: right;\n",
       "    }\n",
       "</style>\n",
       "<table border=\"1\" class=\"dataframe\">\n",
       "  <thead>\n",
       "    <tr style=\"text-align: right;\">\n",
       "      <th></th>\n",
       "      <th>0</th>\n",
       "      <th>1</th>\n",
       "      <th>2</th>\n",
       "      <th>3</th>\n",
       "      <th>4</th>\n",
       "      <th>5</th>\n",
       "      <th>6</th>\n",
       "      <th>7</th>\n",
       "      <th>8</th>\n",
       "      <th>9</th>\n",
       "      <th>...</th>\n",
       "      <th>118</th>\n",
       "      <th>119</th>\n",
       "      <th>120</th>\n",
       "      <th>121</th>\n",
       "      <th>122</th>\n",
       "      <th>123</th>\n",
       "      <th>124</th>\n",
       "      <th>125</th>\n",
       "      <th>126</th>\n",
       "      <th>127</th>\n",
       "    </tr>\n",
       "  </thead>\n",
       "  <tbody>\n",
       "    <tr>\n",
       "      <th>0</th>\n",
       "      <td>8</td>\n",
       "      <td>58.826829</td>\n",
       "      <td>46188.336597</td>\n",
       "      <td>Lakewoodcity</td>\n",
       "      <td>1</td>\n",
       "      <td>0.19</td>\n",
       "      <td>0.33</td>\n",
       "      <td>0.02</td>\n",
       "      <td>0.90</td>\n",
       "      <td>0.12</td>\n",
       "      <td>...</td>\n",
       "      <td>0.12</td>\n",
       "      <td>0.26</td>\n",
       "      <td>0.20</td>\n",
       "      <td>0.06</td>\n",
       "      <td>0.04</td>\n",
       "      <td>0.9</td>\n",
       "      <td>0.5</td>\n",
       "      <td>0.32</td>\n",
       "      <td>0.14</td>\n",
       "      <td>0.20</td>\n",
       "    </tr>\n",
       "    <tr>\n",
       "      <th>1</th>\n",
       "      <td>53</td>\n",
       "      <td>58.826829</td>\n",
       "      <td>46188.336597</td>\n",
       "      <td>Tukwilacity</td>\n",
       "      <td>1</td>\n",
       "      <td>0.00</td>\n",
       "      <td>0.16</td>\n",
       "      <td>0.12</td>\n",
       "      <td>0.74</td>\n",
       "      <td>0.45</td>\n",
       "      <td>...</td>\n",
       "      <td>0.02</td>\n",
       "      <td>0.12</td>\n",
       "      <td>0.45</td>\n",
       "      <td>0.163103</td>\n",
       "      <td>0.076708</td>\n",
       "      <td>0.698589</td>\n",
       "      <td>0.440439</td>\n",
       "      <td>0.00</td>\n",
       "      <td>0.195078</td>\n",
       "      <td>0.67</td>\n",
       "    </tr>\n",
       "    <tr>\n",
       "      <th>2</th>\n",
       "      <td>24</td>\n",
       "      <td>58.826829</td>\n",
       "      <td>46188.336597</td>\n",
       "      <td>Aberdeentown</td>\n",
       "      <td>1</td>\n",
       "      <td>0.00</td>\n",
       "      <td>0.42</td>\n",
       "      <td>0.49</td>\n",
       "      <td>0.56</td>\n",
       "      <td>0.17</td>\n",
       "      <td>...</td>\n",
       "      <td>0.01</td>\n",
       "      <td>0.21</td>\n",
       "      <td>0.02</td>\n",
       "      <td>0.163103</td>\n",
       "      <td>0.076708</td>\n",
       "      <td>0.698589</td>\n",
       "      <td>0.440439</td>\n",
       "      <td>0.00</td>\n",
       "      <td>0.195078</td>\n",
       "      <td>0.43</td>\n",
       "    </tr>\n",
       "    <tr>\n",
       "      <th>3</th>\n",
       "      <td>34</td>\n",
       "      <td>5</td>\n",
       "      <td>81440</td>\n",
       "      <td>Willingborotownship</td>\n",
       "      <td>1</td>\n",
       "      <td>0.04</td>\n",
       "      <td>0.77</td>\n",
       "      <td>1.00</td>\n",
       "      <td>0.08</td>\n",
       "      <td>0.12</td>\n",
       "      <td>...</td>\n",
       "      <td>0.02</td>\n",
       "      <td>0.39</td>\n",
       "      <td>0.28</td>\n",
       "      <td>0.163103</td>\n",
       "      <td>0.076708</td>\n",
       "      <td>0.698589</td>\n",
       "      <td>0.440439</td>\n",
       "      <td>0.00</td>\n",
       "      <td>0.195078</td>\n",
       "      <td>0.12</td>\n",
       "    </tr>\n",
       "    <tr>\n",
       "      <th>4</th>\n",
       "      <td>42</td>\n",
       "      <td>95</td>\n",
       "      <td>6096</td>\n",
       "      <td>Bethlehemtownship</td>\n",
       "      <td>1</td>\n",
       "      <td>0.01</td>\n",
       "      <td>0.55</td>\n",
       "      <td>0.02</td>\n",
       "      <td>0.95</td>\n",
       "      <td>0.09</td>\n",
       "      <td>...</td>\n",
       "      <td>0.04</td>\n",
       "      <td>0.09</td>\n",
       "      <td>0.02</td>\n",
       "      <td>0.163103</td>\n",
       "      <td>0.076708</td>\n",
       "      <td>0.698589</td>\n",
       "      <td>0.440439</td>\n",
       "      <td>0.00</td>\n",
       "      <td>0.195078</td>\n",
       "      <td>0.03</td>\n",
       "    </tr>\n",
       "    <tr>\n",
       "      <th>...</th>\n",
       "      <td>...</td>\n",
       "      <td>...</td>\n",
       "      <td>...</td>\n",
       "      <td>...</td>\n",
       "      <td>...</td>\n",
       "      <td>...</td>\n",
       "      <td>...</td>\n",
       "      <td>...</td>\n",
       "      <td>...</td>\n",
       "      <td>...</td>\n",
       "      <td>...</td>\n",
       "      <td>...</td>\n",
       "      <td>...</td>\n",
       "      <td>...</td>\n",
       "      <td>...</td>\n",
       "      <td>...</td>\n",
       "      <td>...</td>\n",
       "      <td>...</td>\n",
       "      <td>...</td>\n",
       "      <td>...</td>\n",
       "      <td>...</td>\n",
       "    </tr>\n",
       "    <tr>\n",
       "      <th>1989</th>\n",
       "      <td>12</td>\n",
       "      <td>58.826829</td>\n",
       "      <td>46188.336597</td>\n",
       "      <td>TempleTerracecity</td>\n",
       "      <td>10</td>\n",
       "      <td>0.01</td>\n",
       "      <td>0.40</td>\n",
       "      <td>0.10</td>\n",
       "      <td>0.87</td>\n",
       "      <td>0.12</td>\n",
       "      <td>...</td>\n",
       "      <td>0.01</td>\n",
       "      <td>0.28</td>\n",
       "      <td>0.05</td>\n",
       "      <td>0.163103</td>\n",
       "      <td>0.076708</td>\n",
       "      <td>0.698589</td>\n",
       "      <td>0.440439</td>\n",
       "      <td>0.00</td>\n",
       "      <td>0.195078</td>\n",
       "      <td>0.09</td>\n",
       "    </tr>\n",
       "    <tr>\n",
       "      <th>1990</th>\n",
       "      <td>6</td>\n",
       "      <td>58.826829</td>\n",
       "      <td>46188.336597</td>\n",
       "      <td>Seasidecity</td>\n",
       "      <td>10</td>\n",
       "      <td>0.05</td>\n",
       "      <td>0.96</td>\n",
       "      <td>0.46</td>\n",
       "      <td>0.28</td>\n",
       "      <td>0.83</td>\n",
       "      <td>...</td>\n",
       "      <td>0.02</td>\n",
       "      <td>0.37</td>\n",
       "      <td>0.20</td>\n",
       "      <td>0.163103</td>\n",
       "      <td>0.076708</td>\n",
       "      <td>0.698589</td>\n",
       "      <td>0.440439</td>\n",
       "      <td>0.00</td>\n",
       "      <td>0.195078</td>\n",
       "      <td>0.45</td>\n",
       "    </tr>\n",
       "    <tr>\n",
       "      <th>1991</th>\n",
       "      <td>9</td>\n",
       "      <td>9</td>\n",
       "      <td>80070</td>\n",
       "      <td>Waterburytown</td>\n",
       "      <td>10</td>\n",
       "      <td>0.16</td>\n",
       "      <td>0.37</td>\n",
       "      <td>0.25</td>\n",
       "      <td>0.69</td>\n",
       "      <td>0.04</td>\n",
       "      <td>...</td>\n",
       "      <td>0.08</td>\n",
       "      <td>0.32</td>\n",
       "      <td>0.18</td>\n",
       "      <td>0.08</td>\n",
       "      <td>0.06</td>\n",
       "      <td>0.78</td>\n",
       "      <td>0</td>\n",
       "      <td>0.91</td>\n",
       "      <td>0.28</td>\n",
       "      <td>0.23</td>\n",
       "    </tr>\n",
       "    <tr>\n",
       "      <th>1992</th>\n",
       "      <td>25</td>\n",
       "      <td>17</td>\n",
       "      <td>72600</td>\n",
       "      <td>Walthamcity</td>\n",
       "      <td>10</td>\n",
       "      <td>0.08</td>\n",
       "      <td>0.51</td>\n",
       "      <td>0.06</td>\n",
       "      <td>0.87</td>\n",
       "      <td>0.22</td>\n",
       "      <td>...</td>\n",
       "      <td>0.03</td>\n",
       "      <td>0.38</td>\n",
       "      <td>0.33</td>\n",
       "      <td>0.02</td>\n",
       "      <td>0.02</td>\n",
       "      <td>0.79</td>\n",
       "      <td>0</td>\n",
       "      <td>0.22</td>\n",
       "      <td>0.18</td>\n",
       "      <td>0.19</td>\n",
       "    </tr>\n",
       "    <tr>\n",
       "      <th>1993</th>\n",
       "      <td>6</td>\n",
       "      <td>58.826829</td>\n",
       "      <td>46188.336597</td>\n",
       "      <td>Ontariocity</td>\n",
       "      <td>10</td>\n",
       "      <td>0.20</td>\n",
       "      <td>0.78</td>\n",
       "      <td>0.14</td>\n",
       "      <td>0.46</td>\n",
       "      <td>0.24</td>\n",
       "      <td>...</td>\n",
       "      <td>0.11</td>\n",
       "      <td>0.30</td>\n",
       "      <td>0.05</td>\n",
       "      <td>0.08</td>\n",
       "      <td>0.04</td>\n",
       "      <td>0.73</td>\n",
       "      <td>0.5</td>\n",
       "      <td>1.00</td>\n",
       "      <td>0.13</td>\n",
       "      <td>0.48</td>\n",
       "    </tr>\n",
       "  </tbody>\n",
       "</table>\n",
       "<p>1994 rows × 128 columns</p>\n",
       "</div>"
      ],
      "text/plain": [
       "      0          1             2                    3    4     5     6    \\\n",
       "0       8  58.826829  46188.336597         Lakewoodcity    1  0.19  0.33   \n",
       "1      53  58.826829  46188.336597          Tukwilacity    1  0.00  0.16   \n",
       "2      24  58.826829  46188.336597         Aberdeentown    1  0.00  0.42   \n",
       "3      34          5         81440  Willingborotownship    1  0.04  0.77   \n",
       "4      42         95          6096    Bethlehemtownship    1  0.01  0.55   \n",
       "...   ...        ...           ...                  ...  ...   ...   ...   \n",
       "1989   12  58.826829  46188.336597    TempleTerracecity   10  0.01  0.40   \n",
       "1990    6  58.826829  46188.336597          Seasidecity   10  0.05  0.96   \n",
       "1991    9          9         80070        Waterburytown   10  0.16  0.37   \n",
       "1992   25         17         72600          Walthamcity   10  0.08  0.51   \n",
       "1993    6  58.826829  46188.336597          Ontariocity   10  0.20  0.78   \n",
       "\n",
       "       7     8     9    ...   118   119   120       121       122       123  \\\n",
       "0     0.02  0.90  0.12  ...  0.12  0.26  0.20      0.06      0.04       0.9   \n",
       "1     0.12  0.74  0.45  ...  0.02  0.12  0.45  0.163103  0.076708  0.698589   \n",
       "2     0.49  0.56  0.17  ...  0.01  0.21  0.02  0.163103  0.076708  0.698589   \n",
       "3     1.00  0.08  0.12  ...  0.02  0.39  0.28  0.163103  0.076708  0.698589   \n",
       "4     0.02  0.95  0.09  ...  0.04  0.09  0.02  0.163103  0.076708  0.698589   \n",
       "...    ...   ...   ...  ...   ...   ...   ...       ...       ...       ...   \n",
       "1989  0.10  0.87  0.12  ...  0.01  0.28  0.05  0.163103  0.076708  0.698589   \n",
       "1990  0.46  0.28  0.83  ...  0.02  0.37  0.20  0.163103  0.076708  0.698589   \n",
       "1991  0.25  0.69  0.04  ...  0.08  0.32  0.18      0.08      0.06      0.78   \n",
       "1992  0.06  0.87  0.22  ...  0.03  0.38  0.33      0.02      0.02      0.79   \n",
       "1993  0.14  0.46  0.24  ...  0.11  0.30  0.05      0.08      0.04      0.73   \n",
       "\n",
       "           124   125       126   127  \n",
       "0          0.5  0.32      0.14  0.20  \n",
       "1     0.440439  0.00  0.195078  0.67  \n",
       "2     0.440439  0.00  0.195078  0.43  \n",
       "3     0.440439  0.00  0.195078  0.12  \n",
       "4     0.440439  0.00  0.195078  0.03  \n",
       "...        ...   ...       ...   ...  \n",
       "1989  0.440439  0.00  0.195078  0.09  \n",
       "1990  0.440439  0.00  0.195078  0.45  \n",
       "1991         0  0.91      0.28  0.23  \n",
       "1992         0  0.22      0.18  0.19  \n",
       "1993       0.5  1.00      0.13  0.48  \n",
       "\n",
       "[1994 rows x 128 columns]"
      ]
     },
     "metadata": {},
     "output_type": "display_data"
    }
   ],
   "source": [
    "display(data)"
   ]
  },
  {
   "cell_type": "markdown",
   "id": "south-header",
   "metadata": {},
   "source": [
    "## 4.2. 5-fold cross-validation"
   ]
  },
  {
   "cell_type": "code",
   "execution_count": 31,
   "id": "solid-block",
   "metadata": {},
   "outputs": [
    {
     "data": {
      "text/plain": [
       "True"
      ]
     },
     "execution_count": 31,
     "metadata": {},
     "output_type": "execute_result"
    }
   ],
   "source": [
    "isinstance(data[1][4], str)"
   ]
  },
  {
   "cell_type": "markdown",
   "id": "shaped-section",
   "metadata": {},
   "source": [
    "## 4.3. Ridge-regression"
   ]
  },
  {
   "cell_type": "code",
   "execution_count": 32,
   "id": "rental-microphone",
   "metadata": {},
   "outputs": [
    {
     "data": {
      "text/html": [
       "<div>\n",
       "<style scoped>\n",
       "    .dataframe tbody tr th:only-of-type {\n",
       "        vertical-align: middle;\n",
       "    }\n",
       "\n",
       "    .dataframe tbody tr th {\n",
       "        vertical-align: top;\n",
       "    }\n",
       "\n",
       "    .dataframe thead th {\n",
       "        text-align: right;\n",
       "    }\n",
       "</style>\n",
       "<table border=\"1\" class=\"dataframe\">\n",
       "  <thead>\n",
       "    <tr style=\"text-align: right;\">\n",
       "      <th></th>\n",
       "      <th>0</th>\n",
       "      <th>1</th>\n",
       "      <th>2</th>\n",
       "      <th>3</th>\n",
       "      <th>4</th>\n",
       "      <th>5</th>\n",
       "      <th>6</th>\n",
       "      <th>7</th>\n",
       "      <th>8</th>\n",
       "      <th>9</th>\n",
       "      <th>...</th>\n",
       "      <th>118</th>\n",
       "      <th>119</th>\n",
       "      <th>120</th>\n",
       "      <th>121</th>\n",
       "      <th>122</th>\n",
       "      <th>123</th>\n",
       "      <th>124</th>\n",
       "      <th>125</th>\n",
       "      <th>126</th>\n",
       "      <th>127</th>\n",
       "    </tr>\n",
       "  </thead>\n",
       "  <tbody>\n",
       "    <tr>\n",
       "      <th>0</th>\n",
       "      <td>8</td>\n",
       "      <td>?</td>\n",
       "      <td>?</td>\n",
       "      <td>Lakewoodcity</td>\n",
       "      <td>1</td>\n",
       "      <td>0.19</td>\n",
       "      <td>0.33</td>\n",
       "      <td>0.02</td>\n",
       "      <td>0.90</td>\n",
       "      <td>0.12</td>\n",
       "      <td>...</td>\n",
       "      <td>0.12</td>\n",
       "      <td>0.26</td>\n",
       "      <td>0.20</td>\n",
       "      <td>0.06</td>\n",
       "      <td>0.04</td>\n",
       "      <td>0.9</td>\n",
       "      <td>0.5</td>\n",
       "      <td>0.32</td>\n",
       "      <td>0.14</td>\n",
       "      <td>0.20</td>\n",
       "    </tr>\n",
       "    <tr>\n",
       "      <th>1</th>\n",
       "      <td>53</td>\n",
       "      <td>?</td>\n",
       "      <td>?</td>\n",
       "      <td>Tukwilacity</td>\n",
       "      <td>1</td>\n",
       "      <td>0.00</td>\n",
       "      <td>0.16</td>\n",
       "      <td>0.12</td>\n",
       "      <td>0.74</td>\n",
       "      <td>0.45</td>\n",
       "      <td>...</td>\n",
       "      <td>0.02</td>\n",
       "      <td>0.12</td>\n",
       "      <td>0.45</td>\n",
       "      <td>?</td>\n",
       "      <td>?</td>\n",
       "      <td>?</td>\n",
       "      <td>?</td>\n",
       "      <td>0.00</td>\n",
       "      <td>?</td>\n",
       "      <td>0.67</td>\n",
       "    </tr>\n",
       "    <tr>\n",
       "      <th>2</th>\n",
       "      <td>24</td>\n",
       "      <td>?</td>\n",
       "      <td>?</td>\n",
       "      <td>Aberdeentown</td>\n",
       "      <td>1</td>\n",
       "      <td>0.00</td>\n",
       "      <td>0.42</td>\n",
       "      <td>0.49</td>\n",
       "      <td>0.56</td>\n",
       "      <td>0.17</td>\n",
       "      <td>...</td>\n",
       "      <td>0.01</td>\n",
       "      <td>0.21</td>\n",
       "      <td>0.02</td>\n",
       "      <td>?</td>\n",
       "      <td>?</td>\n",
       "      <td>?</td>\n",
       "      <td>?</td>\n",
       "      <td>0.00</td>\n",
       "      <td>?</td>\n",
       "      <td>0.43</td>\n",
       "    </tr>\n",
       "    <tr>\n",
       "      <th>3</th>\n",
       "      <td>34</td>\n",
       "      <td>5</td>\n",
       "      <td>81440</td>\n",
       "      <td>Willingborotownship</td>\n",
       "      <td>1</td>\n",
       "      <td>0.04</td>\n",
       "      <td>0.77</td>\n",
       "      <td>1.00</td>\n",
       "      <td>0.08</td>\n",
       "      <td>0.12</td>\n",
       "      <td>...</td>\n",
       "      <td>0.02</td>\n",
       "      <td>0.39</td>\n",
       "      <td>0.28</td>\n",
       "      <td>?</td>\n",
       "      <td>?</td>\n",
       "      <td>?</td>\n",
       "      <td>?</td>\n",
       "      <td>0.00</td>\n",
       "      <td>?</td>\n",
       "      <td>0.12</td>\n",
       "    </tr>\n",
       "    <tr>\n",
       "      <th>4</th>\n",
       "      <td>42</td>\n",
       "      <td>95</td>\n",
       "      <td>6096</td>\n",
       "      <td>Bethlehemtownship</td>\n",
       "      <td>1</td>\n",
       "      <td>0.01</td>\n",
       "      <td>0.55</td>\n",
       "      <td>0.02</td>\n",
       "      <td>0.95</td>\n",
       "      <td>0.09</td>\n",
       "      <td>...</td>\n",
       "      <td>0.04</td>\n",
       "      <td>0.09</td>\n",
       "      <td>0.02</td>\n",
       "      <td>?</td>\n",
       "      <td>?</td>\n",
       "      <td>?</td>\n",
       "      <td>?</td>\n",
       "      <td>0.00</td>\n",
       "      <td>?</td>\n",
       "      <td>0.03</td>\n",
       "    </tr>\n",
       "    <tr>\n",
       "      <th>...</th>\n",
       "      <td>...</td>\n",
       "      <td>...</td>\n",
       "      <td>...</td>\n",
       "      <td>...</td>\n",
       "      <td>...</td>\n",
       "      <td>...</td>\n",
       "      <td>...</td>\n",
       "      <td>...</td>\n",
       "      <td>...</td>\n",
       "      <td>...</td>\n",
       "      <td>...</td>\n",
       "      <td>...</td>\n",
       "      <td>...</td>\n",
       "      <td>...</td>\n",
       "      <td>...</td>\n",
       "      <td>...</td>\n",
       "      <td>...</td>\n",
       "      <td>...</td>\n",
       "      <td>...</td>\n",
       "      <td>...</td>\n",
       "      <td>...</td>\n",
       "    </tr>\n",
       "    <tr>\n",
       "      <th>1989</th>\n",
       "      <td>12</td>\n",
       "      <td>?</td>\n",
       "      <td>?</td>\n",
       "      <td>TempleTerracecity</td>\n",
       "      <td>10</td>\n",
       "      <td>0.01</td>\n",
       "      <td>0.40</td>\n",
       "      <td>0.10</td>\n",
       "      <td>0.87</td>\n",
       "      <td>0.12</td>\n",
       "      <td>...</td>\n",
       "      <td>0.01</td>\n",
       "      <td>0.28</td>\n",
       "      <td>0.05</td>\n",
       "      <td>?</td>\n",
       "      <td>?</td>\n",
       "      <td>?</td>\n",
       "      <td>?</td>\n",
       "      <td>0.00</td>\n",
       "      <td>?</td>\n",
       "      <td>0.09</td>\n",
       "    </tr>\n",
       "    <tr>\n",
       "      <th>1990</th>\n",
       "      <td>6</td>\n",
       "      <td>?</td>\n",
       "      <td>?</td>\n",
       "      <td>Seasidecity</td>\n",
       "      <td>10</td>\n",
       "      <td>0.05</td>\n",
       "      <td>0.96</td>\n",
       "      <td>0.46</td>\n",
       "      <td>0.28</td>\n",
       "      <td>0.83</td>\n",
       "      <td>...</td>\n",
       "      <td>0.02</td>\n",
       "      <td>0.37</td>\n",
       "      <td>0.20</td>\n",
       "      <td>?</td>\n",
       "      <td>?</td>\n",
       "      <td>?</td>\n",
       "      <td>?</td>\n",
       "      <td>0.00</td>\n",
       "      <td>?</td>\n",
       "      <td>0.45</td>\n",
       "    </tr>\n",
       "    <tr>\n",
       "      <th>1991</th>\n",
       "      <td>9</td>\n",
       "      <td>9</td>\n",
       "      <td>80070</td>\n",
       "      <td>Waterburytown</td>\n",
       "      <td>10</td>\n",
       "      <td>0.16</td>\n",
       "      <td>0.37</td>\n",
       "      <td>0.25</td>\n",
       "      <td>0.69</td>\n",
       "      <td>0.04</td>\n",
       "      <td>...</td>\n",
       "      <td>0.08</td>\n",
       "      <td>0.32</td>\n",
       "      <td>0.18</td>\n",
       "      <td>0.08</td>\n",
       "      <td>0.06</td>\n",
       "      <td>0.78</td>\n",
       "      <td>0</td>\n",
       "      <td>0.91</td>\n",
       "      <td>0.28</td>\n",
       "      <td>0.23</td>\n",
       "    </tr>\n",
       "    <tr>\n",
       "      <th>1992</th>\n",
       "      <td>25</td>\n",
       "      <td>17</td>\n",
       "      <td>72600</td>\n",
       "      <td>Walthamcity</td>\n",
       "      <td>10</td>\n",
       "      <td>0.08</td>\n",
       "      <td>0.51</td>\n",
       "      <td>0.06</td>\n",
       "      <td>0.87</td>\n",
       "      <td>0.22</td>\n",
       "      <td>...</td>\n",
       "      <td>0.03</td>\n",
       "      <td>0.38</td>\n",
       "      <td>0.33</td>\n",
       "      <td>0.02</td>\n",
       "      <td>0.02</td>\n",
       "      <td>0.79</td>\n",
       "      <td>0</td>\n",
       "      <td>0.22</td>\n",
       "      <td>0.18</td>\n",
       "      <td>0.19</td>\n",
       "    </tr>\n",
       "    <tr>\n",
       "      <th>1993</th>\n",
       "      <td>6</td>\n",
       "      <td>?</td>\n",
       "      <td>?</td>\n",
       "      <td>Ontariocity</td>\n",
       "      <td>10</td>\n",
       "      <td>0.20</td>\n",
       "      <td>0.78</td>\n",
       "      <td>0.14</td>\n",
       "      <td>0.46</td>\n",
       "      <td>0.24</td>\n",
       "      <td>...</td>\n",
       "      <td>0.11</td>\n",
       "      <td>0.30</td>\n",
       "      <td>0.05</td>\n",
       "      <td>0.08</td>\n",
       "      <td>0.04</td>\n",
       "      <td>0.73</td>\n",
       "      <td>0.5</td>\n",
       "      <td>1.00</td>\n",
       "      <td>0.13</td>\n",
       "      <td>0.48</td>\n",
       "    </tr>\n",
       "  </tbody>\n",
       "</table>\n",
       "<p>1994 rows × 128 columns</p>\n",
       "</div>"
      ],
      "text/plain": [
       "      0   1      2                    3    4     5     6     7     8     9    \\\n",
       "0       8   ?      ?         Lakewoodcity    1  0.19  0.33  0.02  0.90  0.12   \n",
       "1      53   ?      ?          Tukwilacity    1  0.00  0.16  0.12  0.74  0.45   \n",
       "2      24   ?      ?         Aberdeentown    1  0.00  0.42  0.49  0.56  0.17   \n",
       "3      34   5  81440  Willingborotownship    1  0.04  0.77  1.00  0.08  0.12   \n",
       "4      42  95   6096    Bethlehemtownship    1  0.01  0.55  0.02  0.95  0.09   \n",
       "...   ...  ..    ...                  ...  ...   ...   ...   ...   ...   ...   \n",
       "1989   12   ?      ?    TempleTerracecity   10  0.01  0.40  0.10  0.87  0.12   \n",
       "1990    6   ?      ?          Seasidecity   10  0.05  0.96  0.46  0.28  0.83   \n",
       "1991    9   9  80070        Waterburytown   10  0.16  0.37  0.25  0.69  0.04   \n",
       "1992   25  17  72600          Walthamcity   10  0.08  0.51  0.06  0.87  0.22   \n",
       "1993    6   ?      ?          Ontariocity   10  0.20  0.78  0.14  0.46  0.24   \n",
       "\n",
       "      ...   118   119   120   121   122   123  124   125   126   127  \n",
       "0     ...  0.12  0.26  0.20  0.06  0.04   0.9  0.5  0.32  0.14  0.20  \n",
       "1     ...  0.02  0.12  0.45     ?     ?     ?    ?  0.00     ?  0.67  \n",
       "2     ...  0.01  0.21  0.02     ?     ?     ?    ?  0.00     ?  0.43  \n",
       "3     ...  0.02  0.39  0.28     ?     ?     ?    ?  0.00     ?  0.12  \n",
       "4     ...  0.04  0.09  0.02     ?     ?     ?    ?  0.00     ?  0.03  \n",
       "...   ...   ...   ...   ...   ...   ...   ...  ...   ...   ...   ...  \n",
       "1989  ...  0.01  0.28  0.05     ?     ?     ?    ?  0.00     ?  0.09  \n",
       "1990  ...  0.02  0.37  0.20     ?     ?     ?    ?  0.00     ?  0.45  \n",
       "1991  ...  0.08  0.32  0.18  0.08  0.06  0.78    0  0.91  0.28  0.23  \n",
       "1992  ...  0.03  0.38  0.33  0.02  0.02  0.79    0  0.22  0.18  0.19  \n",
       "1993  ...  0.11  0.30  0.05  0.08  0.04  0.73  0.5  1.00  0.13  0.48  \n",
       "\n",
       "[1994 rows x 128 columns]"
      ]
     },
     "metadata": {},
     "output_type": "display_data"
    }
   ],
   "source": [
    "display(data)"
   ]
  },
  {
   "cell_type": "code",
   "execution_count": null,
   "id": "shaped-custom",
   "metadata": {},
   "outputs": [],
   "source": []
  }
 ],
 "metadata": {
  "kernelspec": {
   "display_name": "Python 3",
   "language": "python",
   "name": "python3"
  },
  "language_info": {
   "codemirror_mode": {
    "name": "ipython",
    "version": 3
   },
   "file_extension": ".py",
   "mimetype": "text/x-python",
   "name": "python",
   "nbconvert_exporter": "python",
   "pygments_lexer": "ipython3",
   "version": "3.8.5"
  }
 },
 "nbformat": 4,
 "nbformat_minor": 5
}
