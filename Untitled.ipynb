{
 "cells": [
  {
   "cell_type": "code",
   "execution_count": 1,
   "id": "daily-guard",
   "metadata": {},
   "outputs": [],
   "source": [
    "def maxBlock(str):\n",
    "    maxLength = 0\n",
    "    length = 1\n",
    "    letter = \"\"\n",
    "    for i in str:\n",
    "        if i == letter:\n",
    "            length += 1\n",
    "        else:\n",
    "            if length > maxLength:\n",
    "                maxLength = length\n",
    "            length = 1\n",
    "            letter = i\n",
    "    return maxLength"
   ]
  },
  {
   "cell_type": "code",
   "execution_count": 7,
   "id": "prepared-bermuda",
   "metadata": {},
   "outputs": [
    {
     "data": {
      "text/plain": [
       "0"
      ]
     },
     "execution_count": 7,
     "metadata": {},
     "output_type": "execute_result"
    }
   ],
   "source": [
    "maxBlock(\"\")"
   ]
  },
  {
   "cell_type": "code",
   "execution_count": null,
   "id": "exterior-glory",
   "metadata": {},
   "outputs": [],
   "source": []
  }
 ],
 "metadata": {
  "kernelspec": {
   "display_name": "Python 3",
   "language": "python",
   "name": "python3"
  },
  "language_info": {
   "codemirror_mode": {
    "name": "ipython",
    "version": 3
   },
   "file_extension": ".py",
   "mimetype": "text/x-python",
   "name": "python",
   "nbconvert_exporter": "python",
   "pygments_lexer": "ipython3",
   "version": "3.8.5"
  }
 },
 "nbformat": 4,
 "nbformat_minor": 5
}
