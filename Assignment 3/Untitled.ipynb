{
 "cells": [
  {
   "cell_type": "code",
   "execution_count": 3,
   "id": "returning-background",
   "metadata": {},
   "outputs": [],
   "source": [
    "A = [[1,2,3,4],\n",
    "     [2,3,4,5]]\n",
    "\n",
    "B = [[3,5,7,9],\n",
    "     [4,8,0,5]]"
   ]
  },
  {
   "cell_type": "code",
   "execution_count": 6,
   "id": "bored-lewis",
   "metadata": {},
   "outputs": [
    {
     "data": {
      "text/plain": [
       "array([[1, 2, 3, 4],\n",
       "       [2, 3, 4, 5],\n",
       "       [3, 5, 7, 9],\n",
       "       [4, 8, 0, 5]])"
      ]
     },
     "execution_count": 6,
     "metadata": {},
     "output_type": "execute_result"
    }
   ],
   "source": [
    "import numpy as np\n",
    "np.concatenate((A,B))"
   ]
  },
  {
   "cell_type": "code",
   "execution_count": 7,
   "id": "potential-decrease",
   "metadata": {},
   "outputs": [
    {
     "data": {
      "text/plain": [
       "array([ 1,  2,  3,  4,  5,  6, 12,  7,  8, 11,  9])"
      ]
     },
     "execution_count": 7,
     "metadata": {},
     "output_type": "execute_result"
    }
   ],
   "source": [
    "C = [1,2,3,4,5,6]\n",
    "D = [12,7,8,11,9]\n",
    "\n",
    "np.concatenate((C,D))"
   ]
  },
  {
   "cell_type": "code",
   "execution_count": null,
   "id": "instrumental-register",
   "metadata": {},
   "outputs": [],
   "source": []
  }
 ],
 "metadata": {
  "kernelspec": {
   "display_name": "Python 3",
   "language": "python",
   "name": "python3"
  },
  "language_info": {
   "codemirror_mode": {
    "name": "ipython",
    "version": 3
   },
   "file_extension": ".py",
   "mimetype": "text/x-python",
   "name": "python",
   "nbconvert_exporter": "python",
   "pygments_lexer": "ipython3",
   "version": "3.8.5"
  }
 },
 "nbformat": 4,
 "nbformat_minor": 5
}
