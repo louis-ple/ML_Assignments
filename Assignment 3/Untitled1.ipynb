{
 "cells": [
  {
   "cell_type": "code",
   "execution_count": 13,
   "id": "completed-worse",
   "metadata": {},
   "outputs": [
    {
     "data": {
      "text/plain": [
       "array([0.1, 0.2, 0.3, 0.4, 0.5, 0.6, 0.7, 0.8, 0.9])"
      ]
     },
     "execution_count": 13,
     "metadata": {},
     "output_type": "execute_result"
    }
   ],
   "source": [
    "import numpy as np\n",
    "\n",
    "np.arange(0.1,1,0.1)"
   ]
  },
  {
   "cell_type": "code",
   "execution_count": 19,
   "id": "acknowledged-charm",
   "metadata": {},
   "outputs": [
    {
     "name": "stdout",
     "output_type": "stream",
     "text": [
      "17\n",
      "1.0\n"
     ]
    }
   ],
   "source": [
    "a = [0,0,1,0,3,0,0,2,0,0,4,0,2,0,1,0,4]\n",
    "a = np.array(a)\n",
    "print(sum(a))\n",
    "a = a/np.sum(a)\n",
    "print(sum(a))"
   ]
  },
  {
   "cell_type": "code",
   "execution_count": 23,
   "id": "intermediate-georgia",
   "metadata": {},
   "outputs": [
    {
     "data": {
      "text/plain": [
       "1"
      ]
     },
     "execution_count": 23,
     "metadata": {},
     "output_type": "execute_result"
    }
   ],
   "source": [
    "b = ['lol', 'lol', 'loc', 'lob', 'lob', 'pp', '29156']\n",
    "b.count('29156')"
   ]
  },
  {
   "cell_type": "code",
   "execution_count": 34,
   "id": "furnished-telling",
   "metadata": {},
   "outputs": [],
   "source": [
    "import pandas as pd\n",
    "import numpy as np\n",
    "import csv\n",
    "\n",
    "#Reading training file\n",
    "train = []\n",
    "with open('medical_text-train.txt') as file:\n",
    "    reader = csv.reader(file, delimiter = \"\\t\")\n",
    "    for row in reader:\n",
    "        train.append(row)\n",
    "        \n",
    "x_train = []\n",
    "for i in range(50):\n",
    "    a = []\n",
    "    words = train[i][0].split()\n",
    "    for j in range(10000):\n",
    "        a.append(words.count(str(j+1)))\n",
    "        \n",
    "    x_train.append(a)"
   ]
  },
  {
   "cell_type": "code",
   "execution_count": 36,
   "id": "opening-oasis",
   "metadata": {},
   "outputs": [
    {
     "name": "stdout",
     "output_type": "stream",
     "text": [
      "2 18\n",
      "1 24\n",
      "1 34\n",
      "1 41\n",
      "2 47\n",
      "1 55\n",
      "1 59\n",
      "1 86\n",
      "1 106\n",
      "1 121\n",
      "3 202\n",
      "4 214\n",
      "1 225\n",
      "5 243\n",
      "3 323\n",
      "4 561\n",
      "6 651\n",
      "1 743\n",
      "2 897\n",
      "2 996\n",
      "3 1059\n",
      "2 1094\n",
      "2 1117\n",
      "3 1266\n",
      "1 1529\n",
      "1 1748\n",
      "2 1861\n",
      "2 1928\n",
      "1 2195\n",
      "1 2259\n",
      "1 2361\n",
      "1 2379\n",
      "5 2641\n",
      "2 2781\n",
      "5 3404\n",
      "1 3451\n",
      "1 3831\n",
      "1 4333\n",
      "1 5969\n",
      "2 6080\n",
      "1 9131\n"
     ]
    }
   ],
   "source": [
    "np.sum(x_train[0])\n",
    "x=0\n",
    "\n",
    "for i in x_train[0]:\n",
    "    if i>0:\n",
    "        print(i, x+1)\n",
    "    x+=1"
   ]
  },
  {
   "cell_type": "code",
   "execution_count": 37,
   "id": "fewer-bouquet",
   "metadata": {},
   "outputs": [
    {
     "data": {
      "text/plain": [
       "array([100, 200, 300, 400, 500, 600, 700, 800, 900])"
      ]
     },
     "execution_count": 37,
     "metadata": {},
     "output_type": "execute_result"
    }
   ],
   "source": [
    "np.arange(100,1000,100)"
   ]
  },
  {
   "cell_type": "code",
   "execution_count": null,
   "id": "widespread-equality",
   "metadata": {},
   "outputs": [],
   "source": []
  }
 ],
 "metadata": {
  "kernelspec": {
   "display_name": "Python 3",
   "language": "python",
   "name": "python3"
  },
  "language_info": {
   "codemirror_mode": {
    "name": "ipython",
    "version": 3
   },
   "file_extension": ".py",
   "mimetype": "text/x-python",
   "name": "python",
   "nbconvert_exporter": "python",
   "pygments_lexer": "ipython3",
   "version": "3.8.5"
  }
 },
 "nbformat": 4,
 "nbformat_minor": 5
}
