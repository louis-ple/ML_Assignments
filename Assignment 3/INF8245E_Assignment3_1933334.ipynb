{
 "cells": [
  {
   "cell_type": "markdown",
   "id": "resistant-subject",
   "metadata": {},
   "source": [
    "# INF8245E: Machine Learning | Assignment #3"
   ]
  },
  {
   "cell_type": "markdown",
   "id": "violent-malawi",
   "metadata": {},
   "source": [
    "**Louis Plessis (1933334)** | 14 November 2021"
   ]
  },
  {
   "cell_type": "markdown",
   "id": "backed-blond",
   "metadata": {},
   "source": [
    "# 1. Data pre-processing"
   ]
  },
  {
   "cell_type": "code",
   "execution_count": 1,
   "id": "considered-south",
   "metadata": {},
   "outputs": [],
   "source": [
    "import pandas as pd\n",
    "import numpy as np\n",
    "\n",
    "strings = pd.read_csv(\"medical_dataset/train.csv\", header=None).to_numpy()\n",
    "strings = np.delete(strings, 0, 0)\n",
    "strings = np.delete(strings, 0, 1).flatten()\n",
    "\n",
    "import string\n",
    "trans = str.maketrans(\"\", \"\", string.punctuation)\n",
    "\n",
    "vocab = []\n",
    "\n",
    "#Removing punctuation and lower-casing words\n",
    "for i in range(len(strings)):\n",
    "    strings[i] = strings[i].translate(trans)\n",
    "    strings[i] = strings[i].lower()\n",
    "    \n",
    "    for j in strings[i].split():\n",
    "        if j not in vocab:\n",
    "            vocab.append(j)"
   ]
  },
  {
   "cell_type": "code",
   "execution_count": 2,
   "id": "graphic-diamond",
   "metadata": {},
   "outputs": [],
   "source": [
    "#Running this will take a long time\n",
    "\n",
    "frequency = []\n",
    "\n",
    "for i in vocab:\n",
    "    count = 0\n",
    "    for string in strings:\n",
    "        count += string.count(i)\n",
    "    frequency.append(count)"
   ]
  },
  {
   "cell_type": "code",
   "execution_count": 10,
   "id": "simple-spanking",
   "metadata": {},
   "outputs": [],
   "source": [
    "import csv\n",
    "\n",
    "freqsort = np.argsort(frequency)\n",
    "\n",
    "#Writing vocabulary file\n",
    "with open('medical_text-vocab.txt', 'w', newline='') as csvfile:\n",
    "    writer = csv.writer(csvfile)\n",
    "    for i in range(10000):\n",
    "        row = str(vocab[freqsort[len(freqsort)-1-i]]) + \"\\t\" + str(i+1) + \"\\t\" + str(frequency[freqsort[len(freqsort)-1-i]])\n",
    "        writer.writerow([row])"
   ]
  },
  {
   "cell_type": "code",
   "execution_count": 69,
   "id": "noticed-adapter",
   "metadata": {},
   "outputs": [],
   "source": [
    "import pandas as pd\n",
    "import numpy as np\n",
    "\n",
    "vocabulary = []\n",
    "\n",
    "#Reading vocabulary file\n",
    "with open('medical_text-vocab.txt') as file:\n",
    "    reader = csv.reader(file, delimiter = \"\\t\")\n",
    "    for row in reader:\n",
    "        vocabulary.append(row)\n",
    "\n",
    "voc = np.delete(vocabulary, 2, 1)\n",
    "voc = np.delete(voc, 1, 1).flatten()\n",
    "voc = list(voc)"
   ]
  },
  {
   "cell_type": "code",
   "execution_count": 70,
   "id": "regulation-journalism",
   "metadata": {},
   "outputs": [],
   "source": [
    "train = pd.read_csv(\"medical_dataset/train.csv\", header=None).to_numpy()\n",
    "test = pd.read_csv(\"medical_dataset/test.csv\", header=None).to_numpy()\n",
    "valid = pd.read_csv(\"medical_dataset/valid.csv\", header=None).to_numpy()\n",
    "\n",
    "train = np.delete(train, 0, 0)\n",
    "test = np.delete(test, 0, 0)\n",
    "valid = np.delete(valid, 0, 0)\n",
    "\n",
    "import string\n",
    "trans = str.maketrans(\"\", \"\", string.punctuation)\n",
    "\n",
    "#Removing punctuation and lower-casing words\n",
    "for i in range(len(train)):\n",
    "    train[i][1] = train[i][1].translate(trans)\n",
    "    train[i][1] = train[i][1].lower()\n",
    "    \n",
    "for i in range(len(test)):\n",
    "    test[i][1] = test[i][1].translate(trans)\n",
    "    test[i][1] = test[i][1].lower()\n",
    "    \n",
    "for i in range(len(valid)):\n",
    "    valid[i][1] = valid[i][1].translate(trans)\n",
    "    valid[i][1] = valid[i][1].lower()"
   ]
  },
  {
   "cell_type": "code",
   "execution_count": 71,
   "id": "ambient-worst",
   "metadata": {},
   "outputs": [],
   "source": [
    "#Writing training file\n",
    "with open('medical_text-train.txt', 'w', newline='') as csvfile:\n",
    "    writer = csv.writer(csvfile)\n",
    "    for i in range(len(train)):\n",
    "        row = \"\"\n",
    "        for word in train[i][1].split():\n",
    "            try:\n",
    "                word_index = str(voc.index(word) + 1) + \" \"\n",
    "            except:\n",
    "                word_index = \"\"\n",
    "            row += word_index\n",
    "        row = row + \"\\t\" + str(train[i][0])\n",
    "        writer.writerow([row])"
   ]
  },
  {
   "cell_type": "code",
   "execution_count": 72,
   "id": "intellectual-ebony",
   "metadata": {},
   "outputs": [],
   "source": [
    "#Writing testing file\n",
    "with open('medical_text-test.txt', 'w', newline='') as csvfile:\n",
    "    writer = csv.writer(csvfile)\n",
    "    for i in range(len(test)):\n",
    "        row = \"\"\n",
    "        for word in test[i][1].split():\n",
    "            try:\n",
    "                word_index = str(voc.index(word) + 1) + \" \"\n",
    "            except:\n",
    "                word_index = \"\"\n",
    "            row += word_index\n",
    "        row = row + \"\\t\" + str(test[i][0])\n",
    "        writer.writerow([row])"
   ]
  },
  {
   "cell_type": "code",
   "execution_count": 73,
   "id": "imported-olive",
   "metadata": {},
   "outputs": [],
   "source": [
    "#Writing validation file\n",
    "with open('medical_text-valid.txt', 'w', newline='') as csvfile:\n",
    "    writer = csv.writer(csvfile)\n",
    "    for i in range(len(valid)):\n",
    "        row = \"\"\n",
    "        for word in valid[i][1].split():\n",
    "            try:\n",
    "                word_index = str(voc.index(word) + 1) + \" \"\n",
    "            except:\n",
    "                word_index = \"\"\n",
    "            row += word_index\n",
    "        row = row + \"\\t\" + str(valid[i][0])\n",
    "        writer.writerow([row])"
   ]
  },
  {
   "cell_type": "markdown",
   "id": "oriented-mozambique",
   "metadata": {},
   "source": [
    "# 2. Binary bag-of-words (BBoW)"
   ]
  },
  {
   "cell_type": "code",
   "execution_count": 37,
   "id": "enhanced-honolulu",
   "metadata": {},
   "outputs": [],
   "source": [
    "import pandas as pd\n",
    "import numpy as np\n",
    "import csv\n",
    "\n",
    "#Reading training file\n",
    "train = []\n",
    "with open('medical_text-train.txt') as file:\n",
    "    reader = csv.reader(file, delimiter = \"\\t\")\n",
    "    for row in reader:\n",
    "        train.append(row)\n",
    "        \n",
    "#Reading testing file\n",
    "test = []\n",
    "with open('medical_text-test.txt') as file:\n",
    "    reader = csv.reader(file, delimiter = \"\\t\")\n",
    "    for row in reader:\n",
    "        test.append(row)\n",
    "        \n",
    "#Reading validation file\n",
    "valid = []\n",
    "with open('medical_text-valid.txt') as file:\n",
    "    reader = csv.reader(file, delimiter = \"\\t\")\n",
    "    for row in reader:\n",
    "        valid.append(row)"
   ]
  },
  {
   "cell_type": "code",
   "execution_count": 38,
   "id": "based-community",
   "metadata": {},
   "outputs": [],
   "source": [
    "#Binary Bag of Words Representation\n",
    "\n",
    "x_train = []\n",
    "y_train = []\n",
    "for i in range(len(train)):\n",
    "    a = []\n",
    "    words = train[i][0].split()\n",
    "    for j in range(10000):\n",
    "        if str(j+1) in words:\n",
    "            a.append(1)\n",
    "        else:\n",
    "            a.append(0)\n",
    "    x_train.append(a)\n",
    "    y_train.append(train[i][1])\n",
    "    \n",
    "x_test = []\n",
    "y_test = []\n",
    "for i in range(len(test)):\n",
    "    a = []\n",
    "    words = test[i][0].split()\n",
    "    for j in range(10000):\n",
    "        if str(j+1) in words:\n",
    "            a.append(1)\n",
    "        else:\n",
    "            a.append(0)\n",
    "    x_test.append(a)\n",
    "    y_test.append(test[i][1])\n",
    "    \n",
    "x_valid = []\n",
    "y_valid = []\n",
    "for i in range(len(valid)):\n",
    "    a = []\n",
    "    words = valid[i][0].split()\n",
    "    for j in range(10000):\n",
    "        if str(j+1) in words:\n",
    "            a.append(1)\n",
    "        else:\n",
    "            a.append(0)\n",
    "    x_valid.append(a)\n",
    "    y_valid.append(valid[i][1])"
   ]
  },
  {
   "cell_type": "code",
   "execution_count": 80,
   "id": "positive-spank",
   "metadata": {},
   "outputs": [],
   "source": [
    "save_bbow_x_train = x_train\n",
    "save_bbow_x_valid = x_valid\n",
    "save_bbow_x_test = x_test"
   ]
  },
  {
   "cell_type": "code",
   "execution_count": 72,
   "id": "adverse-treatment",
   "metadata": {},
   "outputs": [],
   "source": [
    "from sklearn.dummy import DummyClassifier\n",
    "from sklearn.metrics import f1_score\n",
    "\n",
    "def computeF1ScoreA(classifier):\n",
    "    classifier = classifier.fit(x_train, y_train)\n",
    "    \n",
    "    predictions_train = classifier.predict(x_train)\n",
    "    predictions_valid = classifier.predict(x_valid)\n",
    "    predictions_test = classifier.predict(x_test)\n",
    "\n",
    "    train_score = f1_score(y_train, predictions_train, average=\"macro\")\n",
    "    valid_score = f1_score(y_valid, predictions_valid, average=\"macro\")\n",
    "    test_score = f1_score(y_test, predictions_test, average=\"macro\")\n",
    "    \n",
    "    print(\"************ F1-Scores ************\")\n",
    "    print(\"Training:\\t\", train_score)\n",
    "    print(\"Validation:\\t\", valid_score)\n",
    "    print(\"Testing:\\t\", test_score)"
   ]
  },
  {
   "cell_type": "markdown",
   "id": "current-serve",
   "metadata": {},
   "source": [
    "### Random Classifier"
   ]
  },
  {
   "cell_type": "code",
   "execution_count": 73,
   "id": "forward-tribe",
   "metadata": {},
   "outputs": [
    {
     "name": "stdout",
     "output_type": "stream",
     "text": [
      "************ F1-Scores ************\n",
      "Training:\t 0.25318763066226246\n",
      "Validation:\t 0.23045385773124563\n",
      "Testing:\t 0.257883563203843\n"
     ]
    }
   ],
   "source": [
    "dummy_classifier = DummyClassifier(strategy=\"uniform\")\n",
    "computeF1ScoreA(dummy_classifier)"
   ]
  },
  {
   "cell_type": "markdown",
   "id": "swedish-chance",
   "metadata": {},
   "source": [
    "### Majority-Class Classifier"
   ]
  },
  {
   "cell_type": "code",
   "execution_count": 74,
   "id": "divided-albania",
   "metadata": {},
   "outputs": [
    {
     "name": "stdout",
     "output_type": "stream",
     "text": [
      "************ F1-Scores ************\n",
      "Training:\t 0.120996778472617\n",
      "Validation:\t 0.12424698795180723\n",
      "Testing:\t 0.14183381088825217\n"
     ]
    }
   ],
   "source": [
    "majority_class_classifier = DummyClassifier(strategy=\"most_frequent\")\n",
    "computeF1ScoreA(majority_class_classifier)"
   ]
  },
  {
   "cell_type": "code",
   "execution_count": 75,
   "id": "perceived-advance",
   "metadata": {},
   "outputs": [],
   "source": [
    "from sklearn.dummy import DummyClassifier\n",
    "from sklearn.metrics import f1_score\n",
    "from sklearn.naive_bayes import BernoulliNB\n",
    "from sklearn.tree import DecisionTreeClassifier\n",
    "from sklearn.linear_model import LogisticRegression\n",
    "from sklearn.svm import LinearSVC\n",
    "from sklearn.model_selection import GridSearchCV\n",
    "\n",
    "def computeF1ScoreB(classifier, parameters):\n",
    "    \n",
    "    classifier = GridSearchCV(classifier, parameters, refit=True)\n",
    "    classifier = classifier.fit(x_train, y_train)\n",
    "    \n",
    "    predictions_train = classifier.predict(x_train)\n",
    "    predictions_valid = classifier.predict(x_valid)\n",
    "    predictions_test = classifier.predict(x_test)\n",
    "\n",
    "    train_score = f1_score(y_train, predictions_train, average=\"macro\")\n",
    "    valid_score = f1_score(y_valid, predictions_valid, average=\"macro\")\n",
    "    test_score = f1_score(y_test, predictions_test, average=\"macro\")\n",
    "    \n",
    "    print(\"************ F1-Scores ************\")\n",
    "    print(\"Training:\\t\", train_score)\n",
    "    print(\"Validation:\\t\", valid_score)\n",
    "    print(\"Testing:\\t\", test_score)\n",
    "    print(\"\\n*** Best hyper-parameter values ***\")\n",
    "    print(classifier.best_params_)"
   ]
  },
  {
   "cell_type": "markdown",
   "id": "bronze-clark",
   "metadata": {},
   "source": [
    "### Naive Bayes"
   ]
  },
  {
   "cell_type": "code",
   "execution_count": 76,
   "id": "shaped-angola",
   "metadata": {},
   "outputs": [
    {
     "name": "stdout",
     "output_type": "stream",
     "text": [
      "************ F1-Scores ************\n",
      "Training:\t 0.5243230447997342\n",
      "Validation:\t 0.4453180264457025\n",
      "Testing:\t 0.4672239541944292\n",
      "\n",
      "*** Best hyper-parameter values ***\n",
      "{'alpha': 0.6}\n"
     ]
    }
   ],
   "source": [
    "computeF1ScoreB(BernoulliNB(), [{'alpha': np.arange(0.1,1,0.1)}])"
   ]
  },
  {
   "cell_type": "markdown",
   "id": "agreed-briefing",
   "metadata": {},
   "source": [
    "### Decision Trees"
   ]
  },
  {
   "cell_type": "code",
   "execution_count": 77,
   "id": "baking-pride",
   "metadata": {},
   "outputs": [
    {
     "name": "stdout",
     "output_type": "stream",
     "text": [
      "************ F1-Scores ************\n",
      "Training:\t 0.6538501176678703\n",
      "Validation:\t 0.5394842997924081\n",
      "Testing:\t 0.5913772738010867\n",
      "\n",
      "*** Best hyper-parameter values ***\n",
      "{'max_depth': 10}\n"
     ]
    }
   ],
   "source": [
    "computeF1ScoreB(DecisionTreeClassifier(), [{'max_depth': [1, 2, 5, 10]}])"
   ]
  },
  {
   "cell_type": "markdown",
   "id": "removable-tiger",
   "metadata": {},
   "source": [
    "### Logistic Regression"
   ]
  },
  {
   "cell_type": "code",
   "execution_count": 78,
   "id": "departmental-buying",
   "metadata": {},
   "outputs": [
    {
     "name": "stderr",
     "output_type": "stream",
     "text": [
      "C:\\Users\\louis\\.julia\\conda\\3\\lib\\site-packages\\sklearn\\linear_model\\_logistic.py:814: ConvergenceWarning: lbfgs failed to converge (status=1):\n",
      "STOP: TOTAL NO. of ITERATIONS REACHED LIMIT.\n",
      "\n",
      "Increase the number of iterations (max_iter) or scale the data as shown in:\n",
      "    https://scikit-learn.org/stable/modules/preprocessing.html\n",
      "Please also refer to the documentation for alternative solver options:\n",
      "    https://scikit-learn.org/stable/modules/linear_model.html#logistic-regression\n",
      "  n_iter_i = _check_optimize_result(\n",
      "C:\\Users\\louis\\.julia\\conda\\3\\lib\\site-packages\\sklearn\\linear_model\\_logistic.py:814: ConvergenceWarning: lbfgs failed to converge (status=1):\n",
      "STOP: TOTAL NO. of ITERATIONS REACHED LIMIT.\n",
      "\n",
      "Increase the number of iterations (max_iter) or scale the data as shown in:\n",
      "    https://scikit-learn.org/stable/modules/preprocessing.html\n",
      "Please also refer to the documentation for alternative solver options:\n",
      "    https://scikit-learn.org/stable/modules/linear_model.html#logistic-regression\n",
      "  n_iter_i = _check_optimize_result(\n",
      "C:\\Users\\louis\\.julia\\conda\\3\\lib\\site-packages\\sklearn\\linear_model\\_logistic.py:814: ConvergenceWarning: lbfgs failed to converge (status=1):\n",
      "STOP: TOTAL NO. of ITERATIONS REACHED LIMIT.\n",
      "\n",
      "Increase the number of iterations (max_iter) or scale the data as shown in:\n",
      "    https://scikit-learn.org/stable/modules/preprocessing.html\n",
      "Please also refer to the documentation for alternative solver options:\n",
      "    https://scikit-learn.org/stable/modules/linear_model.html#logistic-regression\n",
      "  n_iter_i = _check_optimize_result(\n",
      "C:\\Users\\louis\\.julia\\conda\\3\\lib\\site-packages\\sklearn\\linear_model\\_logistic.py:814: ConvergenceWarning: lbfgs failed to converge (status=1):\n",
      "STOP: TOTAL NO. of ITERATIONS REACHED LIMIT.\n",
      "\n",
      "Increase the number of iterations (max_iter) or scale the data as shown in:\n",
      "    https://scikit-learn.org/stable/modules/preprocessing.html\n",
      "Please also refer to the documentation for alternative solver options:\n",
      "    https://scikit-learn.org/stable/modules/linear_model.html#logistic-regression\n",
      "  n_iter_i = _check_optimize_result(\n",
      "C:\\Users\\louis\\.julia\\conda\\3\\lib\\site-packages\\sklearn\\linear_model\\_logistic.py:814: ConvergenceWarning: lbfgs failed to converge (status=1):\n",
      "STOP: TOTAL NO. of ITERATIONS REACHED LIMIT.\n",
      "\n",
      "Increase the number of iterations (max_iter) or scale the data as shown in:\n",
      "    https://scikit-learn.org/stable/modules/preprocessing.html\n",
      "Please also refer to the documentation for alternative solver options:\n",
      "    https://scikit-learn.org/stable/modules/linear_model.html#logistic-regression\n",
      "  n_iter_i = _check_optimize_result(\n",
      "C:\\Users\\louis\\.julia\\conda\\3\\lib\\site-packages\\sklearn\\linear_model\\_logistic.py:814: ConvergenceWarning: lbfgs failed to converge (status=1):\n",
      "STOP: TOTAL NO. of ITERATIONS REACHED LIMIT.\n",
      "\n",
      "Increase the number of iterations (max_iter) or scale the data as shown in:\n",
      "    https://scikit-learn.org/stable/modules/preprocessing.html\n",
      "Please also refer to the documentation for alternative solver options:\n",
      "    https://scikit-learn.org/stable/modules/linear_model.html#logistic-regression\n",
      "  n_iter_i = _check_optimize_result(\n",
      "C:\\Users\\louis\\.julia\\conda\\3\\lib\\site-packages\\sklearn\\linear_model\\_logistic.py:814: ConvergenceWarning: lbfgs failed to converge (status=1):\n",
      "STOP: TOTAL NO. of ITERATIONS REACHED LIMIT.\n",
      "\n",
      "Increase the number of iterations (max_iter) or scale the data as shown in:\n",
      "    https://scikit-learn.org/stable/modules/preprocessing.html\n",
      "Please also refer to the documentation for alternative solver options:\n",
      "    https://scikit-learn.org/stable/modules/linear_model.html#logistic-regression\n",
      "  n_iter_i = _check_optimize_result(\n",
      "C:\\Users\\louis\\.julia\\conda\\3\\lib\\site-packages\\sklearn\\linear_model\\_logistic.py:814: ConvergenceWarning: lbfgs failed to converge (status=1):\n",
      "STOP: TOTAL NO. of ITERATIONS REACHED LIMIT.\n",
      "\n",
      "Increase the number of iterations (max_iter) or scale the data as shown in:\n",
      "    https://scikit-learn.org/stable/modules/preprocessing.html\n",
      "Please also refer to the documentation for alternative solver options:\n",
      "    https://scikit-learn.org/stable/modules/linear_model.html#logistic-regression\n",
      "  n_iter_i = _check_optimize_result(\n",
      "C:\\Users\\louis\\.julia\\conda\\3\\lib\\site-packages\\sklearn\\linear_model\\_logistic.py:814: ConvergenceWarning: lbfgs failed to converge (status=1):\n",
      "STOP: TOTAL NO. of ITERATIONS REACHED LIMIT.\n",
      "\n",
      "Increase the number of iterations (max_iter) or scale the data as shown in:\n",
      "    https://scikit-learn.org/stable/modules/preprocessing.html\n",
      "Please also refer to the documentation for alternative solver options:\n",
      "    https://scikit-learn.org/stable/modules/linear_model.html#logistic-regression\n",
      "  n_iter_i = _check_optimize_result(\n",
      "C:\\Users\\louis\\.julia\\conda\\3\\lib\\site-packages\\sklearn\\linear_model\\_logistic.py:814: ConvergenceWarning: lbfgs failed to converge (status=1):\n",
      "STOP: TOTAL NO. of ITERATIONS REACHED LIMIT.\n",
      "\n",
      "Increase the number of iterations (max_iter) or scale the data as shown in:\n",
      "    https://scikit-learn.org/stable/modules/preprocessing.html\n",
      "Please also refer to the documentation for alternative solver options:\n",
      "    https://scikit-learn.org/stable/modules/linear_model.html#logistic-regression\n",
      "  n_iter_i = _check_optimize_result(\n",
      "C:\\Users\\louis\\.julia\\conda\\3\\lib\\site-packages\\sklearn\\linear_model\\_logistic.py:814: ConvergenceWarning: lbfgs failed to converge (status=1):\n",
      "STOP: TOTAL NO. of ITERATIONS REACHED LIMIT.\n",
      "\n",
      "Increase the number of iterations (max_iter) or scale the data as shown in:\n",
      "    https://scikit-learn.org/stable/modules/preprocessing.html\n",
      "Please also refer to the documentation for alternative solver options:\n",
      "    https://scikit-learn.org/stable/modules/linear_model.html#logistic-regression\n",
      "  n_iter_i = _check_optimize_result(\n",
      "C:\\Users\\louis\\.julia\\conda\\3\\lib\\site-packages\\sklearn\\linear_model\\_logistic.py:814: ConvergenceWarning: lbfgs failed to converge (status=1):\n",
      "STOP: TOTAL NO. of ITERATIONS REACHED LIMIT.\n",
      "\n",
      "Increase the number of iterations (max_iter) or scale the data as shown in:\n",
      "    https://scikit-learn.org/stable/modules/preprocessing.html\n",
      "Please also refer to the documentation for alternative solver options:\n",
      "    https://scikit-learn.org/stable/modules/linear_model.html#logistic-regression\n",
      "  n_iter_i = _check_optimize_result(\n",
      "C:\\Users\\louis\\.julia\\conda\\3\\lib\\site-packages\\sklearn\\linear_model\\_logistic.py:814: ConvergenceWarning: lbfgs failed to converge (status=1):\n",
      "STOP: TOTAL NO. of ITERATIONS REACHED LIMIT.\n",
      "\n",
      "Increase the number of iterations (max_iter) or scale the data as shown in:\n",
      "    https://scikit-learn.org/stable/modules/preprocessing.html\n",
      "Please also refer to the documentation for alternative solver options:\n",
      "    https://scikit-learn.org/stable/modules/linear_model.html#logistic-regression\n",
      "  n_iter_i = _check_optimize_result(\n",
      "C:\\Users\\louis\\.julia\\conda\\3\\lib\\site-packages\\sklearn\\linear_model\\_logistic.py:814: ConvergenceWarning: lbfgs failed to converge (status=1):\n",
      "STOP: TOTAL NO. of ITERATIONS REACHED LIMIT.\n",
      "\n",
      "Increase the number of iterations (max_iter) or scale the data as shown in:\n",
      "    https://scikit-learn.org/stable/modules/preprocessing.html\n",
      "Please also refer to the documentation for alternative solver options:\n",
      "    https://scikit-learn.org/stable/modules/linear_model.html#logistic-regression\n",
      "  n_iter_i = _check_optimize_result(\n",
      "C:\\Users\\louis\\.julia\\conda\\3\\lib\\site-packages\\sklearn\\linear_model\\_logistic.py:814: ConvergenceWarning: lbfgs failed to converge (status=1):\n",
      "STOP: TOTAL NO. of ITERATIONS REACHED LIMIT.\n",
      "\n",
      "Increase the number of iterations (max_iter) or scale the data as shown in:\n",
      "    https://scikit-learn.org/stable/modules/preprocessing.html\n",
      "Please also refer to the documentation for alternative solver options:\n",
      "    https://scikit-learn.org/stable/modules/linear_model.html#logistic-regression\n",
      "  n_iter_i = _check_optimize_result(\n",
      "C:\\Users\\louis\\.julia\\conda\\3\\lib\\site-packages\\sklearn\\linear_model\\_logistic.py:814: ConvergenceWarning: lbfgs failed to converge (status=1):\n",
      "STOP: TOTAL NO. of ITERATIONS REACHED LIMIT.\n",
      "\n",
      "Increase the number of iterations (max_iter) or scale the data as shown in:\n",
      "    https://scikit-learn.org/stable/modules/preprocessing.html\n",
      "Please also refer to the documentation for alternative solver options:\n",
      "    https://scikit-learn.org/stable/modules/linear_model.html#logistic-regression\n",
      "  n_iter_i = _check_optimize_result(\n"
     ]
    },
    {
     "name": "stderr",
     "output_type": "stream",
     "text": [
      "C:\\Users\\louis\\.julia\\conda\\3\\lib\\site-packages\\sklearn\\linear_model\\_logistic.py:814: ConvergenceWarning: lbfgs failed to converge (status=1):\n",
      "STOP: TOTAL NO. of ITERATIONS REACHED LIMIT.\n",
      "\n",
      "Increase the number of iterations (max_iter) or scale the data as shown in:\n",
      "    https://scikit-learn.org/stable/modules/preprocessing.html\n",
      "Please also refer to the documentation for alternative solver options:\n",
      "    https://scikit-learn.org/stable/modules/linear_model.html#logistic-regression\n",
      "  n_iter_i = _check_optimize_result(\n",
      "C:\\Users\\louis\\.julia\\conda\\3\\lib\\site-packages\\sklearn\\linear_model\\_logistic.py:814: ConvergenceWarning: lbfgs failed to converge (status=1):\n",
      "STOP: TOTAL NO. of ITERATIONS REACHED LIMIT.\n",
      "\n",
      "Increase the number of iterations (max_iter) or scale the data as shown in:\n",
      "    https://scikit-learn.org/stable/modules/preprocessing.html\n",
      "Please also refer to the documentation for alternative solver options:\n",
      "    https://scikit-learn.org/stable/modules/linear_model.html#logistic-regression\n",
      "  n_iter_i = _check_optimize_result(\n",
      "C:\\Users\\louis\\.julia\\conda\\3\\lib\\site-packages\\sklearn\\linear_model\\_logistic.py:814: ConvergenceWarning: lbfgs failed to converge (status=1):\n",
      "STOP: TOTAL NO. of ITERATIONS REACHED LIMIT.\n",
      "\n",
      "Increase the number of iterations (max_iter) or scale the data as shown in:\n",
      "    https://scikit-learn.org/stable/modules/preprocessing.html\n",
      "Please also refer to the documentation for alternative solver options:\n",
      "    https://scikit-learn.org/stable/modules/linear_model.html#logistic-regression\n",
      "  n_iter_i = _check_optimize_result(\n",
      "C:\\Users\\louis\\.julia\\conda\\3\\lib\\site-packages\\sklearn\\linear_model\\_logistic.py:814: ConvergenceWarning: lbfgs failed to converge (status=1):\n",
      "STOP: TOTAL NO. of ITERATIONS REACHED LIMIT.\n",
      "\n",
      "Increase the number of iterations (max_iter) or scale the data as shown in:\n",
      "    https://scikit-learn.org/stable/modules/preprocessing.html\n",
      "Please also refer to the documentation for alternative solver options:\n",
      "    https://scikit-learn.org/stable/modules/linear_model.html#logistic-regression\n",
      "  n_iter_i = _check_optimize_result(\n",
      "C:\\Users\\louis\\.julia\\conda\\3\\lib\\site-packages\\sklearn\\linear_model\\_logistic.py:814: ConvergenceWarning: lbfgs failed to converge (status=1):\n",
      "STOP: TOTAL NO. of ITERATIONS REACHED LIMIT.\n",
      "\n",
      "Increase the number of iterations (max_iter) or scale the data as shown in:\n",
      "    https://scikit-learn.org/stable/modules/preprocessing.html\n",
      "Please also refer to the documentation for alternative solver options:\n",
      "    https://scikit-learn.org/stable/modules/linear_model.html#logistic-regression\n",
      "  n_iter_i = _check_optimize_result(\n",
      "C:\\Users\\louis\\.julia\\conda\\3\\lib\\site-packages\\sklearn\\linear_model\\_logistic.py:814: ConvergenceWarning: lbfgs failed to converge (status=1):\n",
      "STOP: TOTAL NO. of ITERATIONS REACHED LIMIT.\n",
      "\n",
      "Increase the number of iterations (max_iter) or scale the data as shown in:\n",
      "    https://scikit-learn.org/stable/modules/preprocessing.html\n",
      "Please also refer to the documentation for alternative solver options:\n",
      "    https://scikit-learn.org/stable/modules/linear_model.html#logistic-regression\n",
      "  n_iter_i = _check_optimize_result(\n",
      "C:\\Users\\louis\\.julia\\conda\\3\\lib\\site-packages\\sklearn\\linear_model\\_logistic.py:814: ConvergenceWarning: lbfgs failed to converge (status=1):\n",
      "STOP: TOTAL NO. of ITERATIONS REACHED LIMIT.\n",
      "\n",
      "Increase the number of iterations (max_iter) or scale the data as shown in:\n",
      "    https://scikit-learn.org/stable/modules/preprocessing.html\n",
      "Please also refer to the documentation for alternative solver options:\n",
      "    https://scikit-learn.org/stable/modules/linear_model.html#logistic-regression\n",
      "  n_iter_i = _check_optimize_result(\n",
      "C:\\Users\\louis\\.julia\\conda\\3\\lib\\site-packages\\sklearn\\linear_model\\_logistic.py:814: ConvergenceWarning: lbfgs failed to converge (status=1):\n",
      "STOP: TOTAL NO. of ITERATIONS REACHED LIMIT.\n",
      "\n",
      "Increase the number of iterations (max_iter) or scale the data as shown in:\n",
      "    https://scikit-learn.org/stable/modules/preprocessing.html\n",
      "Please also refer to the documentation for alternative solver options:\n",
      "    https://scikit-learn.org/stable/modules/linear_model.html#logistic-regression\n",
      "  n_iter_i = _check_optimize_result(\n"
     ]
    },
    {
     "name": "stdout",
     "output_type": "stream",
     "text": [
      "************ F1-Scores ************\n",
      "Training:\t 0.8226849082758394\n",
      "Validation:\t 0.44471145768048514\n",
      "Testing:\t 0.4933905041682139\n",
      "\n",
      "*** Best hyper-parameter values ***\n",
      "{'C': 1}\n"
     ]
    }
   ],
   "source": [
    "computeF1ScoreB(LogisticRegression(), [{'C': [0.01, 0.1, 1, 10, 100]}])"
   ]
  },
  {
   "cell_type": "markdown",
   "id": "automatic-efficiency",
   "metadata": {},
   "source": [
    "### Linear SVM/"
   ]
  },
  {
   "cell_type": "code",
   "execution_count": 79,
   "id": "tracked-prototype",
   "metadata": {},
   "outputs": [
    {
     "name": "stderr",
     "output_type": "stream",
     "text": [
      "C:\\Users\\louis\\.julia\\conda\\3\\lib\\site-packages\\sklearn\\svm\\_base.py:1206: ConvergenceWarning: Liblinear failed to converge, increase the number of iterations.\n",
      "  warnings.warn(\n",
      "C:\\Users\\louis\\.julia\\conda\\3\\lib\\site-packages\\sklearn\\svm\\_base.py:1206: ConvergenceWarning: Liblinear failed to converge, increase the number of iterations.\n",
      "  warnings.warn(\n",
      "C:\\Users\\louis\\.julia\\conda\\3\\lib\\site-packages\\sklearn\\svm\\_base.py:1206: ConvergenceWarning: Liblinear failed to converge, increase the number of iterations.\n",
      "  warnings.warn(\n",
      "C:\\Users\\louis\\.julia\\conda\\3\\lib\\site-packages\\sklearn\\svm\\_base.py:1206: ConvergenceWarning: Liblinear failed to converge, increase the number of iterations.\n",
      "  warnings.warn(\n",
      "C:\\Users\\louis\\.julia\\conda\\3\\lib\\site-packages\\sklearn\\svm\\_base.py:1206: ConvergenceWarning: Liblinear failed to converge, increase the number of iterations.\n",
      "  warnings.warn(\n",
      "C:\\Users\\louis\\.julia\\conda\\3\\lib\\site-packages\\sklearn\\svm\\_base.py:1206: ConvergenceWarning: Liblinear failed to converge, increase the number of iterations.\n",
      "  warnings.warn(\n",
      "C:\\Users\\louis\\.julia\\conda\\3\\lib\\site-packages\\sklearn\\svm\\_base.py:1206: ConvergenceWarning: Liblinear failed to converge, increase the number of iterations.\n",
      "  warnings.warn(\n",
      "C:\\Users\\louis\\.julia\\conda\\3\\lib\\site-packages\\sklearn\\svm\\_base.py:1206: ConvergenceWarning: Liblinear failed to converge, increase the number of iterations.\n",
      "  warnings.warn(\n",
      "C:\\Users\\louis\\.julia\\conda\\3\\lib\\site-packages\\sklearn\\svm\\_base.py:1206: ConvergenceWarning: Liblinear failed to converge, increase the number of iterations.\n",
      "  warnings.warn(\n",
      "C:\\Users\\louis\\.julia\\conda\\3\\lib\\site-packages\\sklearn\\svm\\_base.py:1206: ConvergenceWarning: Liblinear failed to converge, increase the number of iterations.\n",
      "  warnings.warn(\n",
      "C:\\Users\\louis\\.julia\\conda\\3\\lib\\site-packages\\sklearn\\svm\\_base.py:1206: ConvergenceWarning: Liblinear failed to converge, increase the number of iterations.\n",
      "  warnings.warn(\n",
      "C:\\Users\\louis\\.julia\\conda\\3\\lib\\site-packages\\sklearn\\svm\\_base.py:1206: ConvergenceWarning: Liblinear failed to converge, increase the number of iterations.\n",
      "  warnings.warn(\n",
      "C:\\Users\\louis\\.julia\\conda\\3\\lib\\site-packages\\sklearn\\svm\\_base.py:1206: ConvergenceWarning: Liblinear failed to converge, increase the number of iterations.\n",
      "  warnings.warn(\n",
      "C:\\Users\\louis\\.julia\\conda\\3\\lib\\site-packages\\sklearn\\svm\\_base.py:1206: ConvergenceWarning: Liblinear failed to converge, increase the number of iterations.\n",
      "  warnings.warn(\n",
      "C:\\Users\\louis\\.julia\\conda\\3\\lib\\site-packages\\sklearn\\svm\\_base.py:1206: ConvergenceWarning: Liblinear failed to converge, increase the number of iterations.\n",
      "  warnings.warn(\n",
      "C:\\Users\\louis\\.julia\\conda\\3\\lib\\site-packages\\sklearn\\svm\\_base.py:1206: ConvergenceWarning: Liblinear failed to converge, increase the number of iterations.\n",
      "  warnings.warn(\n",
      "C:\\Users\\louis\\.julia\\conda\\3\\lib\\site-packages\\sklearn\\svm\\_base.py:1206: ConvergenceWarning: Liblinear failed to converge, increase the number of iterations.\n",
      "  warnings.warn(\n",
      "C:\\Users\\louis\\.julia\\conda\\3\\lib\\site-packages\\sklearn\\svm\\_base.py:1206: ConvergenceWarning: Liblinear failed to converge, increase the number of iterations.\n",
      "  warnings.warn(\n",
      "C:\\Users\\louis\\.julia\\conda\\3\\lib\\site-packages\\sklearn\\svm\\_base.py:1206: ConvergenceWarning: Liblinear failed to converge, increase the number of iterations.\n",
      "  warnings.warn(\n",
      "C:\\Users\\louis\\.julia\\conda\\3\\lib\\site-packages\\sklearn\\svm\\_base.py:1206: ConvergenceWarning: Liblinear failed to converge, increase the number of iterations.\n",
      "  warnings.warn(\n",
      "C:\\Users\\louis\\.julia\\conda\\3\\lib\\site-packages\\sklearn\\svm\\_base.py:1206: ConvergenceWarning: Liblinear failed to converge, increase the number of iterations.\n",
      "  warnings.warn(\n"
     ]
    },
    {
     "name": "stdout",
     "output_type": "stream",
     "text": [
      "************ F1-Scores ************\n",
      "Training:\t 0.8223413846361506\n",
      "Validation:\t 0.5216290554386827\n",
      "Testing:\t 0.5382102261041218\n",
      "\n",
      "*** Best hyper-parameter values ***\n",
      "{'C': 1}\n"
     ]
    }
   ],
   "source": [
    "computeF1ScoreB(LinearSVC(), [{'C': [0.01, 0.1, 1, 10, 100]}])"
   ]
  },
  {
   "cell_type": "markdown",
   "id": "settled-party",
   "metadata": {},
   "source": [
    "# 3. Frequency bag-of-words (FBoW)"
   ]
  },
  {
   "cell_type": "code",
   "execution_count": 44,
   "id": "endangered-plain",
   "metadata": {},
   "outputs": [],
   "source": [
    "# Frequency Bag of Words Representation\n",
    "\n",
    "fbow_x_train = []\n",
    "for i in range(len(train)):\n",
    "    a = []\n",
    "    words = train[i][0].split()\n",
    "    for j in range(10000):\n",
    "        a.append(words.count(str(j+1)))\n",
    "    a = np.array(a)\n",
    "    a = a/np.sum(a)\n",
    "    fbow_x_train.append(a)"
   ]
  },
  {
   "cell_type": "code",
   "execution_count": 45,
   "id": "fatal-track",
   "metadata": {},
   "outputs": [],
   "source": [
    "fbow_x_test = []\n",
    "for i in range(len(test)):\n",
    "    a = []\n",
    "    words = test[i][0].split()\n",
    "    for j in range(10000):\n",
    "        a.append(words.count(str(j+1)))\n",
    "    a = np.array(a)\n",
    "    a = a/np.sum(a)\n",
    "    fbow_x_test.append(a)\n",
    "    \n",
    "fbow_x_valid = []\n",
    "for i in range(len(valid)):\n",
    "    a = []\n",
    "    words = valid[i][0].split()\n",
    "    for j in range(10000):\n",
    "        a.append(words.count(str(j+1)))\n",
    "    a = np.array(a)\n",
    "    a = a/np.sum(a)\n",
    "    fbow_x_valid.append(a)"
   ]
  },
  {
   "cell_type": "code",
   "execution_count": 58,
   "id": "impressed-corruption",
   "metadata": {},
   "outputs": [],
   "source": [
    "save_fbow_x_train = fbow_x_train\n",
    "save_fbow_x_test = fbow_x_test\n",
    "save_fbow_x_valid = fbow_x_valid"
   ]
  },
  {
   "cell_type": "markdown",
   "id": "saved-drain",
   "metadata": {},
   "source": [
    "### Naive Bayes"
   ]
  },
  {
   "cell_type": "code",
   "execution_count": 81,
   "id": "nonprofit-amber",
   "metadata": {},
   "outputs": [
    {
     "name": "stdout",
     "output_type": "stream",
     "text": [
      "************ F1-Scores ************\n",
      "Training:\t 0.5243230447997342\n",
      "Validation:\t 0.4453180264457025\n",
      "Testing:\t 0.4672239541944292\n",
      "\n",
      "*** Best hyper-parameter values ***\n",
      "{'alpha': 0.6}\n"
     ]
    }
   ],
   "source": [
    "x_train = save_fbow_x_train\n",
    "x_test = save_fbow_x_test\n",
    "x_valid = save_fbow_x_valid\n",
    "\n",
    "computeF1ScoreB(BernoulliNB(), [{'alpha': np.arange(0.1,1,0.1)}])"
   ]
  },
  {
   "cell_type": "markdown",
   "id": "imperial-thousand",
   "metadata": {},
   "source": [
    "### Decision Trees"
   ]
  },
  {
   "cell_type": "code",
   "execution_count": 82,
   "id": "valuable-course",
   "metadata": {},
   "outputs": [
    {
     "name": "stdout",
     "output_type": "stream",
     "text": [
      "************ F1-Scores ************\n",
      "Training:\t 0.6649919768970892\n",
      "Validation:\t 0.5753923197816475\n",
      "Testing:\t 0.5863910797466454\n",
      "\n",
      "*** Best hyper-parameter values ***\n",
      "{'max_depth': 10}\n"
     ]
    }
   ],
   "source": [
    "computeF1ScoreB(DecisionTreeClassifier(), [{'max_depth': [1, 2, 5, 10]}])"
   ]
  },
  {
   "cell_type": "markdown",
   "id": "egyptian-newton",
   "metadata": {},
   "source": [
    "### Logistic Regression"
   ]
  },
  {
   "cell_type": "code",
   "execution_count": 83,
   "id": "removable-peter",
   "metadata": {},
   "outputs": [
    {
     "name": "stderr",
     "output_type": "stream",
     "text": [
      "C:\\Users\\louis\\.julia\\conda\\3\\lib\\site-packages\\sklearn\\linear_model\\_logistic.py:814: ConvergenceWarning: lbfgs failed to converge (status=1):\n",
      "STOP: TOTAL NO. of ITERATIONS REACHED LIMIT.\n",
      "\n",
      "Increase the number of iterations (max_iter) or scale the data as shown in:\n",
      "    https://scikit-learn.org/stable/modules/preprocessing.html\n",
      "Please also refer to the documentation for alternative solver options:\n",
      "    https://scikit-learn.org/stable/modules/linear_model.html#logistic-regression\n",
      "  n_iter_i = _check_optimize_result(\n",
      "C:\\Users\\louis\\.julia\\conda\\3\\lib\\site-packages\\sklearn\\linear_model\\_logistic.py:814: ConvergenceWarning: lbfgs failed to converge (status=1):\n",
      "STOP: TOTAL NO. of ITERATIONS REACHED LIMIT.\n",
      "\n",
      "Increase the number of iterations (max_iter) or scale the data as shown in:\n",
      "    https://scikit-learn.org/stable/modules/preprocessing.html\n",
      "Please also refer to the documentation for alternative solver options:\n",
      "    https://scikit-learn.org/stable/modules/linear_model.html#logistic-regression\n",
      "  n_iter_i = _check_optimize_result(\n",
      "C:\\Users\\louis\\.julia\\conda\\3\\lib\\site-packages\\sklearn\\linear_model\\_logistic.py:814: ConvergenceWarning: lbfgs failed to converge (status=1):\n",
      "STOP: TOTAL NO. of ITERATIONS REACHED LIMIT.\n",
      "\n",
      "Increase the number of iterations (max_iter) or scale the data as shown in:\n",
      "    https://scikit-learn.org/stable/modules/preprocessing.html\n",
      "Please also refer to the documentation for alternative solver options:\n",
      "    https://scikit-learn.org/stable/modules/linear_model.html#logistic-regression\n",
      "  n_iter_i = _check_optimize_result(\n",
      "C:\\Users\\louis\\.julia\\conda\\3\\lib\\site-packages\\sklearn\\linear_model\\_logistic.py:814: ConvergenceWarning: lbfgs failed to converge (status=1):\n",
      "STOP: TOTAL NO. of ITERATIONS REACHED LIMIT.\n",
      "\n",
      "Increase the number of iterations (max_iter) or scale the data as shown in:\n",
      "    https://scikit-learn.org/stable/modules/preprocessing.html\n",
      "Please also refer to the documentation for alternative solver options:\n",
      "    https://scikit-learn.org/stable/modules/linear_model.html#logistic-regression\n",
      "  n_iter_i = _check_optimize_result(\n",
      "C:\\Users\\louis\\.julia\\conda\\3\\lib\\site-packages\\sklearn\\linear_model\\_logistic.py:814: ConvergenceWarning: lbfgs failed to converge (status=1):\n",
      "STOP: TOTAL NO. of ITERATIONS REACHED LIMIT.\n",
      "\n",
      "Increase the number of iterations (max_iter) or scale the data as shown in:\n",
      "    https://scikit-learn.org/stable/modules/preprocessing.html\n",
      "Please also refer to the documentation for alternative solver options:\n",
      "    https://scikit-learn.org/stable/modules/linear_model.html#logistic-regression\n",
      "  n_iter_i = _check_optimize_result(\n",
      "C:\\Users\\louis\\.julia\\conda\\3\\lib\\site-packages\\sklearn\\linear_model\\_logistic.py:814: ConvergenceWarning: lbfgs failed to converge (status=1):\n",
      "STOP: TOTAL NO. of ITERATIONS REACHED LIMIT.\n",
      "\n",
      "Increase the number of iterations (max_iter) or scale the data as shown in:\n",
      "    https://scikit-learn.org/stable/modules/preprocessing.html\n",
      "Please also refer to the documentation for alternative solver options:\n",
      "    https://scikit-learn.org/stable/modules/linear_model.html#logistic-regression\n",
      "  n_iter_i = _check_optimize_result(\n",
      "C:\\Users\\louis\\.julia\\conda\\3\\lib\\site-packages\\sklearn\\linear_model\\_logistic.py:814: ConvergenceWarning: lbfgs failed to converge (status=1):\n",
      "STOP: TOTAL NO. of ITERATIONS REACHED LIMIT.\n",
      "\n",
      "Increase the number of iterations (max_iter) or scale the data as shown in:\n",
      "    https://scikit-learn.org/stable/modules/preprocessing.html\n",
      "Please also refer to the documentation for alternative solver options:\n",
      "    https://scikit-learn.org/stable/modules/linear_model.html#logistic-regression\n",
      "  n_iter_i = _check_optimize_result(\n",
      "C:\\Users\\louis\\.julia\\conda\\3\\lib\\site-packages\\sklearn\\linear_model\\_logistic.py:814: ConvergenceWarning: lbfgs failed to converge (status=1):\n",
      "STOP: TOTAL NO. of ITERATIONS REACHED LIMIT.\n",
      "\n",
      "Increase the number of iterations (max_iter) or scale the data as shown in:\n",
      "    https://scikit-learn.org/stable/modules/preprocessing.html\n",
      "Please also refer to the documentation for alternative solver options:\n",
      "    https://scikit-learn.org/stable/modules/linear_model.html#logistic-regression\n",
      "  n_iter_i = _check_optimize_result(\n",
      "C:\\Users\\louis\\.julia\\conda\\3\\lib\\site-packages\\sklearn\\linear_model\\_logistic.py:814: ConvergenceWarning: lbfgs failed to converge (status=1):\n",
      "STOP: TOTAL NO. of ITERATIONS REACHED LIMIT.\n",
      "\n",
      "Increase the number of iterations (max_iter) or scale the data as shown in:\n",
      "    https://scikit-learn.org/stable/modules/preprocessing.html\n",
      "Please also refer to the documentation for alternative solver options:\n",
      "    https://scikit-learn.org/stable/modules/linear_model.html#logistic-regression\n",
      "  n_iter_i = _check_optimize_result(\n",
      "C:\\Users\\louis\\.julia\\conda\\3\\lib\\site-packages\\sklearn\\linear_model\\_logistic.py:814: ConvergenceWarning: lbfgs failed to converge (status=1):\n",
      "STOP: TOTAL NO. of ITERATIONS REACHED LIMIT.\n",
      "\n",
      "Increase the number of iterations (max_iter) or scale the data as shown in:\n",
      "    https://scikit-learn.org/stable/modules/preprocessing.html\n",
      "Please also refer to the documentation for alternative solver options:\n",
      "    https://scikit-learn.org/stable/modules/linear_model.html#logistic-regression\n",
      "  n_iter_i = _check_optimize_result(\n",
      "C:\\Users\\louis\\.julia\\conda\\3\\lib\\site-packages\\sklearn\\linear_model\\_logistic.py:814: ConvergenceWarning: lbfgs failed to converge (status=1):\n",
      "STOP: TOTAL NO. of ITERATIONS REACHED LIMIT.\n",
      "\n",
      "Increase the number of iterations (max_iter) or scale the data as shown in:\n",
      "    https://scikit-learn.org/stable/modules/preprocessing.html\n",
      "Please also refer to the documentation for alternative solver options:\n",
      "    https://scikit-learn.org/stable/modules/linear_model.html#logistic-regression\n",
      "  n_iter_i = _check_optimize_result(\n"
     ]
    },
    {
     "name": "stdout",
     "output_type": "stream",
     "text": [
      "************ F1-Scores ************\n",
      "Training:\t 0.45926741730734605\n",
      "Validation:\t 0.4179133177475002\n",
      "Testing:\t 0.4205989741981914\n",
      "\n",
      "*** Best hyper-parameter values ***\n",
      "{'C': 10}\n"
     ]
    }
   ],
   "source": [
    "computeF1ScoreB(LogisticRegression(), [{'C': [0.01, 0.1, 1, 10, 100]}])"
   ]
  },
  {
   "cell_type": "markdown",
   "id": "floating-final",
   "metadata": {},
   "source": [
    "### Linear SVM/"
   ]
  },
  {
   "cell_type": "code",
   "execution_count": 84,
   "id": "interested-navigator",
   "metadata": {},
   "outputs": [
    {
     "name": "stderr",
     "output_type": "stream",
     "text": [
      "C:\\Users\\louis\\.julia\\conda\\3\\lib\\site-packages\\sklearn\\svm\\_base.py:1206: ConvergenceWarning: Liblinear failed to converge, increase the number of iterations.\n",
      "  warnings.warn(\n",
      "C:\\Users\\louis\\.julia\\conda\\3\\lib\\site-packages\\sklearn\\svm\\_base.py:1206: ConvergenceWarning: Liblinear failed to converge, increase the number of iterations.\n",
      "  warnings.warn(\n",
      "C:\\Users\\louis\\.julia\\conda\\3\\lib\\site-packages\\sklearn\\svm\\_base.py:1206: ConvergenceWarning: Liblinear failed to converge, increase the number of iterations.\n",
      "  warnings.warn(\n",
      "C:\\Users\\louis\\.julia\\conda\\3\\lib\\site-packages\\sklearn\\svm\\_base.py:1206: ConvergenceWarning: Liblinear failed to converge, increase the number of iterations.\n",
      "  warnings.warn(\n",
      "C:\\Users\\louis\\.julia\\conda\\3\\lib\\site-packages\\sklearn\\svm\\_base.py:1206: ConvergenceWarning: Liblinear failed to converge, increase the number of iterations.\n",
      "  warnings.warn(\n",
      "C:\\Users\\louis\\.julia\\conda\\3\\lib\\site-packages\\sklearn\\svm\\_base.py:1206: ConvergenceWarning: Liblinear failed to converge, increase the number of iterations.\n",
      "  warnings.warn(\n",
      "C:\\Users\\louis\\.julia\\conda\\3\\lib\\site-packages\\sklearn\\svm\\_base.py:1206: ConvergenceWarning: Liblinear failed to converge, increase the number of iterations.\n",
      "  warnings.warn(\n",
      "C:\\Users\\louis\\.julia\\conda\\3\\lib\\site-packages\\sklearn\\svm\\_base.py:1206: ConvergenceWarning: Liblinear failed to converge, increase the number of iterations.\n",
      "  warnings.warn(\n",
      "C:\\Users\\louis\\.julia\\conda\\3\\lib\\site-packages\\sklearn\\svm\\_base.py:1206: ConvergenceWarning: Liblinear failed to converge, increase the number of iterations.\n",
      "  warnings.warn(\n",
      "C:\\Users\\louis\\.julia\\conda\\3\\lib\\site-packages\\sklearn\\svm\\_base.py:1206: ConvergenceWarning: Liblinear failed to converge, increase the number of iterations.\n",
      "  warnings.warn(\n",
      "C:\\Users\\louis\\.julia\\conda\\3\\lib\\site-packages\\sklearn\\svm\\_base.py:1206: ConvergenceWarning: Liblinear failed to converge, increase the number of iterations.\n",
      "  warnings.warn(\n",
      "C:\\Users\\louis\\.julia\\conda\\3\\lib\\site-packages\\sklearn\\svm\\_base.py:1206: ConvergenceWarning: Liblinear failed to converge, increase the number of iterations.\n",
      "  warnings.warn(\n",
      "C:\\Users\\louis\\.julia\\conda\\3\\lib\\site-packages\\sklearn\\svm\\_base.py:1206: ConvergenceWarning: Liblinear failed to converge, increase the number of iterations.\n",
      "  warnings.warn(\n",
      "C:\\Users\\louis\\.julia\\conda\\3\\lib\\site-packages\\sklearn\\svm\\_base.py:1206: ConvergenceWarning: Liblinear failed to converge, increase the number of iterations.\n",
      "  warnings.warn(\n",
      "C:\\Users\\louis\\.julia\\conda\\3\\lib\\site-packages\\sklearn\\svm\\_base.py:1206: ConvergenceWarning: Liblinear failed to converge, increase the number of iterations.\n",
      "  warnings.warn(\n",
      "C:\\Users\\louis\\.julia\\conda\\3\\lib\\site-packages\\sklearn\\svm\\_base.py:1206: ConvergenceWarning: Liblinear failed to converge, increase the number of iterations.\n",
      "  warnings.warn(\n",
      "C:\\Users\\louis\\.julia\\conda\\3\\lib\\site-packages\\sklearn\\svm\\_base.py:1206: ConvergenceWarning: Liblinear failed to converge, increase the number of iterations.\n",
      "  warnings.warn(\n",
      "C:\\Users\\louis\\.julia\\conda\\3\\lib\\site-packages\\sklearn\\svm\\_base.py:1206: ConvergenceWarning: Liblinear failed to converge, increase the number of iterations.\n",
      "  warnings.warn(\n"
     ]
    },
    {
     "name": "stdout",
     "output_type": "stream",
     "text": [
      "************ F1-Scores ************\n",
      "Training:\t 0.39952614300221356\n",
      "Validation:\t 0.39011900287444246\n",
      "Testing:\t 0.3831947217586665\n",
      "\n",
      "*** Best hyper-parameter values ***\n",
      "{'C': 1, 'max_iter': 100}\n"
     ]
    }
   ],
   "source": [
    "computeF1ScoreB(LinearSVC(), [{'C': [0.01, 0.1, 1, 10], 'max_iter': np.arange(100,1000,100)}])"
   ]
  }
 ],
 "metadata": {
  "kernelspec": {
   "display_name": "Python 3",
   "language": "python",
   "name": "python3"
  },
  "language_info": {
   "codemirror_mode": {
    "name": "ipython",
    "version": 3
   },
   "file_extension": ".py",
   "mimetype": "text/x-python",
   "name": "python",
   "nbconvert_exporter": "python",
   "pygments_lexer": "ipython3",
   "version": "3.8.5"
  }
 },
 "nbformat": 4,
 "nbformat_minor": 5
}
