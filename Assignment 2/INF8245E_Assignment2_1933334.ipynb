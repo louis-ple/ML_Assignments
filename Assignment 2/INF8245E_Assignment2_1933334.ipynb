{
 "cells": [
  {
   "cell_type": "markdown",
   "id": "native-cassette",
   "metadata": {},
   "source": [
    "# INF8245E: Machine Learning | Assignment #2"
   ]
  },
  {
   "cell_type": "markdown",
   "id": "dense-heading",
   "metadata": {},
   "source": [
    "**Louis Plessis (1933334)** | 24 October 2021"
   ]
  },
  {
   "cell_type": "markdown",
   "id": "integrated-digest",
   "metadata": {},
   "source": [
    "# 1. Linear Classification and Nearest Neighbour Classification"
   ]
  },
  {
   "cell_type": "markdown",
   "id": "functional-beijing",
   "metadata": {},
   "source": [
    "## 1.1. Generating 2 classes with 20 features each"
   ]
  },
  {
   "cell_type": "code",
   "execution_count": 1,
   "id": "dynamic-stamp",
   "metadata": {},
   "outputs": [],
   "source": [
    "import pandas as pd\n",
    "import numpy as np\n",
    "\n",
    "DS1_m_0 = pd.read_csv(\"DS1_m_0.txt\", header=None)\n",
    "DS1_m_0 = DS1_m_0.drop(columns=[20])\n",
    "DS1_m_0 = np.array(DS1_m_0).flatten()\n",
    "\n",
    "DS1_m_1 = pd.read_csv(\"DS1_m_1.txt\", header=None)\n",
    "DS1_m_1 = DS1_m_1.drop(columns=[20])\n",
    "DS1_m_1 = np.array(DS1_m_1).flatten()\n",
    "\n",
    "DS1_Cov = pd.read_csv(\"DS1_Cov.txt\", header=None)\n",
    "DS1_Cov = DS1_Cov.drop(columns=[20])\n",
    "DS1_Cov = DS1_Cov.to_numpy()\n",
    "\n",
    "#Generate 2000 examples\n",
    "data_positive = np.random.multivariate_normal(DS1_m_1, DS1_Cov, 2000)\n",
    "data_negative = np.random.multivariate_normal(DS1_m_0, DS1_Cov, 2000)\n",
    "\n",
    "#Labels\n",
    "data_positive = np.column_stack((data_positive, np.ones(2000)))\n",
    "data_negative = np.column_stack((data_negative, np.zeros(2000)))\n",
    "\n",
    "data = np.concatenate((data_positive, data_negative))\n",
    "\n",
    "#Shuffling \n",
    "np.random.shuffle(data)\n",
    "\n",
    "#20% test, 20% validation, 60% train\n",
    "test = pd.DataFrame(data[0:800])\n",
    "valid = pd.DataFrame(data[800:1600])\n",
    "train = pd.DataFrame(data[1600:4000])"
   ]
  },
  {
   "cell_type": "code",
   "execution_count": 2,
   "id": "secure-richards",
   "metadata": {},
   "outputs": [],
   "source": [
    "#Export to CSV\n",
    "test.to_csv(\"DS1_test.txt\",index=False, header=False)\n",
    "valid.to_csv(\"DS1_valid.txt\",index=False, header=False)\n",
    "train.to_csv(\"DS1_train.txt\",index=False, header=False)"
   ]
  },
  {
   "cell_type": "markdown",
   "id": "dimensional-flower",
   "metadata": {},
   "source": [
    "## 1.2. GDA model"
   ]
  },
  {
   "cell_type": "code",
   "execution_count": 3,
   "id": "former-mount",
   "metadata": {},
   "outputs": [],
   "source": [
    "def GDA(train, test):    \n",
    "    train_positive = train[train[20]==1]\n",
    "    train_positive = train_positive.drop(columns=[20])\n",
    "\n",
    "    train_negative = train[train[20]==0]\n",
    "    train_negative = train_negative.drop(columns=[20])\n",
    "\n",
    "    y = test[20]\n",
    "\n",
    "    train = train.drop(columns=[20])\n",
    "    train = train.to_numpy()\n",
    "\n",
    "    test = test.drop(columns=[20])\n",
    "    test = test.to_numpy()\n",
    "\n",
    "    m1 = np.array(train_positive.mean())\n",
    "    m0 = np.array(train_negative.mean())\n",
    "\n",
    "    cov_matrix_positive = np.array(train_positive - m1)\n",
    "    cov_matrix_negative = np.array(train_negative - m0)\n",
    "\n",
    "    s0 = np.dot(cov_matrix_negative.T, cov_matrix_negative)\n",
    "    s1 = np.dot(cov_matrix_positive.T, cov_matrix_positive)\n",
    "\n",
    "    cov_matrix = (s0+s1)  / (len(train_negative)+len(train_positive))\n",
    "\n",
    "    cov_inv_matrix = np.linalg.inv(cov_matrix)\n",
    "\n",
    "    prob_positive = len(train_positive) / (len(train_negative)+len(train_positive))\n",
    "    prob_negative = len(train_negative) / (len(train_negative)+len(train_positive))\n",
    "\n",
    "    w0 = -np.dot(m0.T, np.dot(cov_inv_matrix,m0))/2 + np.dot(m1.T, np.dot(cov_inv_matrix,m1))/2 + np.log(prob_negative/prob_positive)\n",
    "    w1 = np.dot(cov_inv_matrix, m0-m1)\n",
    "\n",
    "    #GDA model\n",
    "    a = np.dot(test, w1.T) + w0\n",
    "    sigma = 1 / ( 1 + np.exp(-a) )\n",
    "\n",
    "    for i in range(len(sigma)):\n",
    "        if(sigma[i]>(1/2)):\n",
    "            sigma[i]=0\n",
    "        else:\n",
    "            sigma[i]=1\n",
    "\n",
    "    #CONFUSION MATRIX\n",
    "    tp,fp,fn,tn = 0,0,0,0\n",
    "\n",
    "    for i in range(len(y)):\n",
    "        prediction = sigma[i]\n",
    "        actual = y[i]\n",
    "\n",
    "        if prediction==1 and prediction==actual:\n",
    "            tp +=1\n",
    "        elif prediction==1 and prediction!=actual:\n",
    "            fp += 1\n",
    "        elif prediction==0 and prediction!=actual:\n",
    "            fn += 1\n",
    "        elif prediction==0 and prediction==actual:\n",
    "            tn += 1\n",
    "\n",
    "    confusion_matrix = [[tp,fp],[fn,tn]]\n",
    "\n",
    "    #Accuracy = [number of true / total number]\n",
    "    accuracy = (tp+tn)/(tp+tn+fp+fn)\n",
    "    \n",
    "    print(\"********************** Accuracy *********************\")\n",
    "    print(\"\\nBest fit accuracy achieved by the classifier: \", accuracy)\n",
    "    \n",
    "    print(\"\\n\\n**************** Learnt coefficients ****************\")\n",
    "    print(\"\\nConfusion matrix: \", confusion_matrix)\n",
    "    print(\"\\nw0: \", w0)\n",
    "    print(\"w1: \", w1)"
   ]
  },
  {
   "cell_type": "code",
   "execution_count": 4,
   "id": "fitted-pontiac",
   "metadata": {
    "scrolled": true
   },
   "outputs": [
    {
     "name": "stdout",
     "output_type": "stream",
     "text": [
      "********************** Accuracy *********************\n",
      "\n",
      "Best fit accuracy achieved by the classifier:  0.96125\n",
      "\n",
      "\n",
      "**************** Learnt coefficients ****************\n",
      "\n",
      "Confusion matrix:  [[401, 13], [18, 368]]\n",
      "\n",
      "w0:  25.789362676542982\n",
      "w1:  [ 13.60686897  -8.0411546   -5.60977675  -2.8935371   -8.97023036\n",
      "  -4.08073642  16.07587757 -22.55605012 -27.29309626   8.51634691\n",
      " -12.59101743 -11.85074017  14.80234166  12.27139296  -5.28310131\n",
      "  12.23229351  27.81066999  -6.38890567  -0.62972679  -4.75409964]\n"
     ]
    }
   ],
   "source": [
    "GDA(train, test)"
   ]
  },
  {
   "cell_type": "markdown",
   "id": "extensive-surge",
   "metadata": {},
   "source": [
    "## 1.3. k-NN"
   ]
  },
  {
   "cell_type": "markdown",
   "id": "czech-fields",
   "metadata": {},
   "source": [
    "### Validation accuracy for different values of k"
   ]
  },
  {
   "cell_type": "code",
   "execution_count": 5,
   "id": "about-evolution",
   "metadata": {},
   "outputs": [],
   "source": [
    "import matplotlib.pyplot as plt\n",
    "\n",
    "def k_NN(x_train, x_valid, y_valid, k_max):\n",
    "\n",
    "    best_accuracy = 0\n",
    "    accuracies = []\n",
    "\n",
    "    for k in range(1,k_max):\n",
    "        tp,fp,fn,tn = 0,0,0,0\n",
    "\n",
    "        for j in range(len(y_valid)):\n",
    "\n",
    "            distances = np.power(np.linalg.norm(x_train-x_valid[j], None, 1),2)\n",
    "            neighbourhood = distances.argsort()\n",
    "            k_nearest_neighbours = neighbourhood[:k]\n",
    "            \n",
    "            if(x_train[k_nearest_neighbours,19].sum() > 0):\n",
    "                prediction=1\n",
    "            else:\n",
    "                prediction=0\n",
    "\n",
    "            actual = y_valid[j]\n",
    "\n",
    "            if prediction==1 and prediction==actual:\n",
    "                tp +=1\n",
    "            elif prediction==1 and prediction!=actual:\n",
    "                fp += 1\n",
    "            elif prediction==0 and prediction!=actual:\n",
    "                fn += 1\n",
    "            elif prediction==0 and prediction==actual:\n",
    "                tn += 1\n",
    "\n",
    "        accuracy = (tp+tn)/(tp+tn+fp+fn)\n",
    "        accuracies.append(accuracy)\n",
    "\n",
    "        if(accuracy > best_accuracy):\n",
    "            best_accuracy = accuracy\n",
    "            confusion_matrix = [[tp,fp],[fn,tn]]\n",
    "            best_k = k\n",
    "            \n",
    "    plt.plot(list(range(1,k_max)), accuracies)\n",
    "    plt.xlabel(\"k\")\n",
    "    plt.ylabel(\"Accuracy\")\n",
    "    plt.show()\n",
    "    \n",
    "    print('Best fit accuracy:', best_accuracy, 'when k = ', best_k)"
   ]
  },
  {
   "cell_type": "code",
   "execution_count": 6,
   "id": "guilty-cyprus",
   "metadata": {},
   "outputs": [
    {
     "data": {
      "image/png": "[encoded data removed]",
      "text/plain": [
       "<Figure size 432x288 with 1 Axes>"
      ]
     },
     "metadata": {
      "needs_background": "light"
     },
     "output_type": "display_data"
    },
    {
     "name": "stdout",
     "output_type": "stream",
     "text": [
      "Best fit accuracy: 0.51875 when k =  44\n"
     ]
    }
   ],
   "source": [
    "y_valid = valid[20]\n",
    "\n",
    "x_valid = valid.drop(columns=[20])\n",
    "x_valid = x_valid.to_numpy()\n",
    "\n",
    "x_train = train.drop(columns=[20])\n",
    "x_train = x_train.to_numpy()\n",
    "\n",
    "k_NN(x_train, x_valid, y_valid, 50)"
   ]
  },
  {
   "cell_type": "markdown",
   "id": "laden-pakistan",
   "metadata": {},
   "source": [
    "This classifier seems to perform worse than GDA overall ($\\sim0.55$ accuracy instead of $\\sim0.95$ for GDA). Some specific values of k seem to perform better than others, due to the low stability of this method. However, the difference is very small as the accuracy stays around $55\\%$."
   ]
  },
  {
   "cell_type": "markdown",
   "id": "collaborative-impact",
   "metadata": {},
   "source": [
    "## 1.4. Mixture of 3 Gaussians"
   ]
  },
  {
   "cell_type": "code",
   "execution_count": 7,
   "id": "medieval-nashville",
   "metadata": {},
   "outputs": [],
   "source": [
    "#Positive: DS2-c1\n",
    "#Negative: DS2-c2\n",
    "\n",
    "#mean arrays\n",
    "DS2_c1_m1 = pd.read_csv(\"DS2_c1_m1.txt\", header=None)\n",
    "DS2_c1_m1 = DS2_c1_m1.drop(columns=[20])\n",
    "DS2_c1_m1 = np.array(DS2_c1_m1).flatten()\n",
    "\n",
    "DS2_c1_m2 = pd.read_csv(\"DS2_c1_m2.txt\", header=None)\n",
    "DS2_c1_m2 = DS2_c1_m2.drop(columns=[20])\n",
    "DS2_c1_m2 = np.array(DS2_c1_m2).flatten()\n",
    "\n",
    "DS2_c1_m3 = pd.read_csv(\"DS2_c1_m3.txt\", header=None)\n",
    "DS2_c1_m3 = DS2_c1_m3.drop(columns=[20])\n",
    "DS2_c1_m3 = np.array(DS2_c1_m3).flatten()\n",
    "\n",
    "DS2_c2_m1 = pd.read_csv(\"DS2_c2_m1.txt\", header=None)\n",
    "DS2_c2_m1 = DS2_c2_m1.drop(columns=[20])\n",
    "DS2_c2_m1 = np.array(DS2_c2_m1).flatten()\n",
    "\n",
    "DS2_c2_m2 = pd.read_csv(\"DS2_c2_m2.txt\", header=None)\n",
    "DS2_c2_m2 = DS2_c2_m2.drop(columns=[20])\n",
    "DS2_c2_m2 = np.array(DS2_c2_m2).flatten()\n",
    "\n",
    "DS2_c2_m3 = pd.read_csv(\"DS2_c2_m3.txt\", header=None)\n",
    "DS2_c2_m3 = DS2_c2_m3.drop(columns=[20])\n",
    "DS2_c2_m3 = np.array(DS2_c2_m3).flatten()\n",
    "\n",
    "#covariance matrices\n",
    "DS2_Cov1 = pd.read_csv(\"DS2_Cov1.txt\", header=None)\n",
    "DS2_Cov1 = DS2_Cov1.drop(columns=[20])\n",
    "DS2_Cov1 = DS2_Cov1.to_numpy()\n",
    "\n",
    "DS2_Cov2 = pd.read_csv(\"DS2_Cov2.txt\", header=None)\n",
    "DS2_Cov2 = DS2_Cov2.drop(columns=[20])\n",
    "DS2_Cov2 = DS2_Cov2.to_numpy()\n",
    "\n",
    "DS2_Cov3 = pd.read_csv(\"DS2_Cov3.txt\", header=None)\n",
    "DS2_Cov3 = DS2_Cov3.drop(columns=[20])\n",
    "DS2_Cov3 = DS2_Cov3.to_numpy()\n",
    "\n",
    "mix_split_1 = int(2000*0.1)\n",
    "mix_split_2 = int(2000*0.42)\n",
    "mix_split_3 = int(2000*0.48)\n",
    "\n",
    "pos1 = np.random.multivariate_normal(DS2_c1_m1, DS2_Cov1, mix_split_1)\n",
    "pos2 = np.random.multivariate_normal(DS2_c1_m2, DS2_Cov2, mix_split_2)\n",
    "pos3 = np.random.multivariate_normal(DS2_c1_m3, DS2_Cov3, mix_split_3)\n",
    "\n",
    "neg1 = np.random.multivariate_normal(DS2_c2_m1, DS2_Cov1, mix_split_1)\n",
    "neg2 = np.random.multivariate_normal(DS2_c2_m1, DS2_Cov2, mix_split_2)\n",
    "neg3 = np.random.multivariate_normal(DS2_c2_m1, DS2_Cov3, mix_split_3)\n",
    "\n",
    "#Labels\n",
    "pos1 = np.column_stack((pos1, np.ones(mix_split_1)))\n",
    "pos2 = np.column_stack((pos2, np.ones(mix_split_2)))\n",
    "pos3 = np.column_stack((pos3, np.ones(mix_split_3)))\n",
    "\n",
    "neg1 = np.column_stack((neg1, np.zeros(mix_split_1)))\n",
    "neg2 = np.column_stack((neg2, np.zeros(mix_split_2)))\n",
    "neg3 = np.column_stack((neg3, np.zeros(mix_split_3)))\n",
    "\n",
    "data1 = np.concatenate((pos1, neg1))\n",
    "data2 = np.concatenate((pos2, neg2))\n",
    "data3 = np.concatenate((pos3, neg3))\n",
    "\n",
    "#Shuffling \n",
    "np.random.shuffle(data1)\n",
    "np.random.shuffle(data2)\n",
    "np.random.shuffle(data3)\n",
    "\n",
    "#20% test, 20% validation, 60% train\n",
    "split1 = int(4000*0.1)\n",
    "split2 = int(split1 + 4000*0.42)\n",
    "split3 = int(split2 + 4000*0.48)\n",
    "\n",
    "test1 = pd.DataFrame(data1[0:int(len(data1)*0.2)])\n",
    "test2 = pd.DataFrame(data2[0:int(len(data2)*0.2)])\n",
    "test3 = pd.DataFrame(data3[0:int(len(data3)*0.2)])\n",
    "\n",
    "valid1 = pd.DataFrame(data1[int(len(data1)*0.2):int(len(data1)*0.4)])\n",
    "valid2 = pd.DataFrame(data2[int(len(data2)*0.2):int(len(data2)*0.4)])\n",
    "valid3 = pd.DataFrame(data3[int(len(data3)*0.2):int(len(data3)*0.4)])\n",
    "\n",
    "train1 = pd.DataFrame(data1[int(len(data1)*0.4):int(len(data1))])\n",
    "train2 = pd.DataFrame(data2[int(len(data2)*0.4):int(len(data2))])\n",
    "train3 = pd.DataFrame(data3[int(len(data3)*0.4):int(len(data3))])\n",
    "\n",
    "test = pd.DataFrame(np.concatenate((test1, test2, test3)))\n",
    "valid = pd.DataFrame(np.concatenate((valid1, valid2, valid3)))\n",
    "train = pd.DataFrame(np.concatenate((train1, train2, train3)))"
   ]
  },
  {
   "cell_type": "code",
   "execution_count": 8,
   "id": "flush-magic",
   "metadata": {},
   "outputs": [],
   "source": [
    "#Export to CSV\n",
    "test.to_csv(\"DS2_test.txt\",index=False, header=False)\n",
    "valid.to_csv(\"DS2_valid.txt\",index=False, header=False)\n",
    "train.to_csv(\"DS2_train.txt\",index=False, header=False)"
   ]
  },
  {
   "cell_type": "markdown",
   "id": "eastern-dublin",
   "metadata": {},
   "source": [
    "## 1.5. DS2"
   ]
  },
  {
   "cell_type": "markdown",
   "id": "classical-congo",
   "metadata": {},
   "source": [
    "### 1.5.1. Estimating the parameters of the GDA model using the maximum likelihood approach"
   ]
  },
  {
   "cell_type": "code",
   "execution_count": 9,
   "id": "cooked-harvard",
   "metadata": {
    "scrolled": true
   },
   "outputs": [
    {
     "name": "stdout",
     "output_type": "stream",
     "text": [
      "********************** Accuracy *********************\n",
      "\n",
      "Best fit accuracy achieved by the classifier:  0.585\n",
      "\n",
      "\n",
      "**************** Learnt coefficients ****************\n",
      "\n",
      "Confusion matrix:  [[220, 157], [175, 248]]\n",
      "\n",
      "w0:  -0.4217621867705717\n",
      "w1:  [-0.08871179  0.02592391 -0.02680609 -0.01310074  0.2177535   0.04407805\n",
      " -0.18204516  0.10733856  0.1084168   0.10929533  0.15241791  0.04421081\n",
      "  0.09548686 -0.02793171 -0.16387901  0.04429896 -0.00151807 -0.02090078\n",
      " -0.14322817 -0.00731808]\n"
     ]
    }
   ],
   "source": [
    "GDA(train, test)"
   ]
  },
  {
   "cell_type": "markdown",
   "id": "searching-weekly",
   "metadata": {},
   "source": [
    "### 1.5.2., 1.5.3. k-NN"
   ]
  },
  {
   "cell_type": "code",
   "execution_count": 10,
   "id": "regulation-amendment",
   "metadata": {},
   "outputs": [
    {
     "data": {
      "image/png": "[encoded data removed]",
      "text/plain": [
       "<Figure size 432x288 with 1 Axes>"
      ]
     },
     "metadata": {
      "needs_background": "light"
     },
     "output_type": "display_data"
    },
    {
     "name": "stdout",
     "output_type": "stream",
     "text": [
      "Best fit accuracy: 0.45 when k =  4\n"
     ]
    }
   ],
   "source": [
    "y_valid = valid[20]\n",
    "\n",
    "x_valid = valid.drop(columns=[20])\n",
    "x_valid = x_valid.to_numpy()\n",
    "\n",
    "x_train = train.drop(columns=[20])\n",
    "x_train = x_train.to_numpy()\n",
    "\n",
    "k_NN(x_train, x_valid, y_valid, 50)"
   ]
  },
  {
   "cell_type": "markdown",
   "id": "incomplete-alaska",
   "metadata": {},
   "source": [
    "This classifier seems to perform worse than GDA overall ($\\sim0.45$ accuracy instead of $\\sim0.95$ for GDA). Some specific values of k seem to perform better than others, due to the low stability of this method. However, the difference is very small as the accuracy stays around $45\\%$."
   ]
  },
  {
   "cell_type": "markdown",
   "id": "noticed-kitty",
   "metadata": {},
   "source": [
    "## 1.6. Similarities and differences between the performance of both classifiers"
   ]
  },
  {
   "cell_type": "markdown",
   "id": "broke-finish",
   "metadata": {},
   "source": [
    "With both DS1 and DS2, GDA seems to perform better than k-NN. Also, k-NN behaves in the same way with both datasets (i.e. some values of k perform better than others, with no visible pattern). However, best fit accuracy for k-NN is found earlier with DS2 (low k value) than with DS1 $(k\\sim30)$. Besides, DS1 seems to perform better than DS2 overall ($\\sim95\\%$ and $\\sim55\\%$ accuracies for DS1, $\\sim62\\%$ and $\\sim45\\%$ accuracies for DS2)."
   ]
  },
  {
   "cell_type": "markdown",
   "id": "foreign-clearing",
   "metadata": {},
   "source": [
    "# 2. MNIST Handwritten Digits Classification"
   ]
  },
  {
   "cell_type": "code",
   "execution_count": 91,
   "id": "optional-marriage",
   "metadata": {},
   "outputs": [],
   "source": [
    "from tensorflow import keras\n",
    "(x_train, y_train), (x_test, y_test) = keras.datasets.mnist.load_data()\n",
    "\n",
    "#0-50000 = train, 50000-60000 = valid\n",
    "x_valid = x_train[50000:60000]\n",
    "y_valid = y_train[50000:60000]\n",
    "\n",
    "x_train = x_train[0:50000]\n",
    "y_train = y_train[0:50000]\n",
    "\n",
    "#Flattening to 784 features\n",
    "x_train_flattened = []\n",
    "x_valid_flattened = []\n",
    "\n",
    "for i in range(len(x_train)):\n",
    "    x_train_flattened.append(x_train[i].flatten())\n",
    "    \n",
    "for i in range(len(x_valid)):\n",
    "    x_valid_flattened.append(x_valid[i].flatten())\n",
    "\n",
    "#Normalizing\n",
    "x_train = np.array(x_train_flattened)/255\n",
    "x_valid = np.array(x_valid_flattened)/255"
   ]
  },
  {
   "cell_type": "markdown",
   "id": "fiscal-commander",
   "metadata": {},
   "source": [
    "## 2.1. Gaussian Naive Bayes (GNB)"
   ]
  },
  {
   "cell_type": "markdown",
   "id": "anticipated-pregnancy",
   "metadata": {},
   "source": [
    "### 2.1. (a) Equations for mean and diagonal covariance matrices"
   ]
  },
  {
   "cell_type": "markdown",
   "id": "hazardous-texture",
   "metadata": {},
   "source": [
    "$$x$$"
   ]
  },
  {
   "cell_type": "markdown",
   "id": "israeli-quality",
   "metadata": {},
   "source": [
    "### 2.1. (b) Estimating GNB model parameters"
   ]
  },
  {
   "cell_type": "code",
   "execution_count": null,
   "id": "independent-copying",
   "metadata": {},
   "outputs": [],
   "source": []
  },
  {
   "cell_type": "markdown",
   "id": "nominated-brief",
   "metadata": {},
   "source": [
    "## 2.2. k-NN"
   ]
  },
  {
   "cell_type": "code",
   "execution_count": 92,
   "id": "funky-experience",
   "metadata": {},
   "outputs": [
    {
     "ename": "KeyboardInterrupt",
     "evalue": "",
     "output_type": "error",
     "traceback": [
      "\u001b[1;31m---------------------------------------------------------------------------\u001b[0m",
      "\u001b[1;31mKeyboardInterrupt\u001b[0m                         Traceback (most recent call last)",
      "\u001b[1;32m<ipython-input-92-297426a2f7e1>\u001b[0m in \u001b[0;36m<module>\u001b[1;34m\u001b[0m\n\u001b[1;32m----> 1\u001b[1;33m \u001b[0mk_NN\u001b[0m\u001b[1;33m(\u001b[0m\u001b[0mx_train\u001b[0m\u001b[1;33m,\u001b[0m \u001b[0mx_valid\u001b[0m\u001b[1;33m,\u001b[0m \u001b[0my_valid\u001b[0m\u001b[1;33m,\u001b[0m \u001b[1;36m10\u001b[0m\u001b[1;33m)\u001b[0m\u001b[1;33m\u001b[0m\u001b[1;33m\u001b[0m\u001b[0m\n\u001b[0m",
      "\u001b[1;32m<ipython-input-5-d2ba1199b4e7>\u001b[0m in \u001b[0;36mk_NN\u001b[1;34m(x_train, x_valid, y_valid, k_max)\u001b[0m\n\u001b[0;32m     11\u001b[0m         \u001b[1;32mfor\u001b[0m \u001b[0mj\u001b[0m \u001b[1;32min\u001b[0m \u001b[0mrange\u001b[0m\u001b[1;33m(\u001b[0m\u001b[0mlen\u001b[0m\u001b[1;33m(\u001b[0m\u001b[0my_valid\u001b[0m\u001b[1;33m)\u001b[0m\u001b[1;33m)\u001b[0m\u001b[1;33m:\u001b[0m\u001b[1;33m\u001b[0m\u001b[1;33m\u001b[0m\u001b[0m\n\u001b[0;32m     12\u001b[0m \u001b[1;33m\u001b[0m\u001b[0m\n\u001b[1;32m---> 13\u001b[1;33m             \u001b[0mdistances\u001b[0m \u001b[1;33m=\u001b[0m \u001b[0mnp\u001b[0m\u001b[1;33m.\u001b[0m\u001b[0mpower\u001b[0m\u001b[1;33m(\u001b[0m\u001b[0mnp\u001b[0m\u001b[1;33m.\u001b[0m\u001b[0mlinalg\u001b[0m\u001b[1;33m.\u001b[0m\u001b[0mnorm\u001b[0m\u001b[1;33m(\u001b[0m\u001b[0mx_train\u001b[0m\u001b[1;33m-\u001b[0m\u001b[0mx_valid\u001b[0m\u001b[1;33m[\u001b[0m\u001b[0mj\u001b[0m\u001b[1;33m]\u001b[0m\u001b[1;33m,\u001b[0m \u001b[1;32mNone\u001b[0m\u001b[1;33m,\u001b[0m \u001b[1;36m1\u001b[0m\u001b[1;33m)\u001b[0m\u001b[1;33m,\u001b[0m\u001b[1;36m2\u001b[0m\u001b[1;33m)\u001b[0m\u001b[1;33m\u001b[0m\u001b[1;33m\u001b[0m\u001b[0m\n\u001b[0m\u001b[0;32m     14\u001b[0m             \u001b[0mneighbourhood\u001b[0m \u001b[1;33m=\u001b[0m \u001b[0mdistances\u001b[0m\u001b[1;33m.\u001b[0m\u001b[0margsort\u001b[0m\u001b[1;33m(\u001b[0m\u001b[1;33m)\u001b[0m\u001b[1;33m\u001b[0m\u001b[1;33m\u001b[0m\u001b[0m\n\u001b[0;32m     15\u001b[0m             \u001b[0mk_nearest_neighbours\u001b[0m \u001b[1;33m=\u001b[0m \u001b[0mneighbourhood\u001b[0m\u001b[1;33m[\u001b[0m\u001b[1;33m:\u001b[0m\u001b[0mk\u001b[0m\u001b[1;33m]\u001b[0m\u001b[1;33m\u001b[0m\u001b[1;33m\u001b[0m\u001b[0m\n",
      "\u001b[1;31mKeyboardInterrupt\u001b[0m: "
     ]
    }
   ],
   "source": [
    "k_NN(x_train, x_valid, y_valid, 10)"
   ]
  },
  {
   "cell_type": "markdown",
   "id": "dying-federal",
   "metadata": {},
   "source": [
    "## 2.3. GNB performance vs k-NN"
   ]
  },
  {
   "cell_type": "markdown",
   "id": "coastal-colon",
   "metadata": {},
   "source": []
  }
 ],
 "metadata": {
  "kernelspec": {
   "display_name": "Python 3",
   "language": "python",
   "name": "python3"
  },
  "language_info": {
   "codemirror_mode": {
    "name": "ipython",
    "version": 3
   },
   "file_extension": ".py",
   "mimetype": "text/x-python",
   "name": "python",
   "nbconvert_exporter": "python",
   "pygments_lexer": "ipython3",
   "version": "3.8.5"
  }
 },
 "nbformat": 4,
 "nbformat_minor": 5
}
