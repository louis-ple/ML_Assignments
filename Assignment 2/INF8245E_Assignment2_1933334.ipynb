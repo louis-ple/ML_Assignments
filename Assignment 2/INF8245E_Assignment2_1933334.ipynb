{
 "cells": [
  {
   "cell_type": "markdown",
   "id": "paperback-sampling",
   "metadata": {},
   "source": [
    "# INF8245E: Machine Learning | Assignment #2"
   ]
  },
  {
   "cell_type": "markdown",
   "id": "derived-childhood",
   "metadata": {},
   "source": [
    "**Louis Plessis (1933334)** | 24 October 2021"
   ]
  },
  {
   "cell_type": "markdown",
   "id": "funky-houston",
   "metadata": {},
   "source": [
    "# 1. Linear Classification and Nearest Neighbour Classification"
   ]
  },
  {
   "cell_type": "markdown",
   "id": "cross-listing",
   "metadata": {},
   "source": [
    "## 1.1. Generating 2 classes with 20 features each"
   ]
  },
  {
   "cell_type": "code",
   "execution_count": 1,
   "id": "collect-joyce",
   "metadata": {},
   "outputs": [],
   "source": [
    "import pandas as pd\n",
    "import numpy as np\n",
    "\n",
    "DS1_m_0 = pd.read_csv(\"DS1_m_0.txt\", header=None)\n",
    "DS1_m_0 = DS1_m_0.drop(columns=[20])\n",
    "DS1_m_0 = np.array(DS1_m_0).flatten()\n",
    "\n",
    "DS1_m_1 = pd.read_csv(\"DS1_m_1.txt\", header=None)\n",
    "DS1_m_1 = DS1_m_1.drop(columns=[20])\n",
    "DS1_m_1 = np.array(DS1_m_1).flatten()\n",
    "\n",
    "DS1_Cov = pd.read_csv(\"DS1_Cov.txt\", header=None)\n",
    "DS1_Cov = DS1_Cov.drop(columns=[20])\n",
    "DS1_Cov = DS1_Cov.to_numpy()\n",
    "\n",
    "#Generating 2000 examples\n",
    "data_positive = np.random.multivariate_normal(DS1_m_1, DS1_Cov, 2000)\n",
    "data_negative = np.random.multivariate_normal(DS1_m_0, DS1_Cov, 2000)\n",
    "\n",
    "#Labels\n",
    "data_positive = np.column_stack((data_positive, np.ones(2000)))\n",
    "data_negative = np.column_stack((data_negative, -np.ones(2000)))\n",
    "\n",
    "data = np.concatenate((data_positive, data_negative))\n",
    "\n",
    "#Shuffling \n",
    "np.random.shuffle(data)\n",
    "\n",
    "#20% test, 20% validation, 60% train\n",
    "test = pd.DataFrame(data[0:800])\n",
    "valid = pd.DataFrame(data[800:1600])\n",
    "train = pd.DataFrame(data[1600:4000])\n",
    "\n",
    "#Exporting to CSV\n",
    "test.to_csv(\"DS1_test.txt\",index=False, header=False)\n",
    "valid.to_csv(\"DS1_valid.txt\",index=False, header=False)\n",
    "train.to_csv(\"DS1_train.txt\",index=False, header=False)"
   ]
  },
  {
   "cell_type": "markdown",
   "id": "complex-jacksonville",
   "metadata": {},
   "source": [
    "## 1.2. GDA model"
   ]
  },
  {
   "cell_type": "code",
   "execution_count": 2,
   "id": "acute-guinea",
   "metadata": {},
   "outputs": [],
   "source": [
    "def GDA(train, test):\n",
    "    \n",
    "    ypos = len(np.array(test)[0]) - 1\n",
    "\n",
    "    train_positive = train[train[ypos]==1]\n",
    "    train_positive = train_positive.drop(columns=[ypos])\n",
    "\n",
    "    train_negative = train[train[ypos]==-1]\n",
    "    train_negative = train_negative.drop(columns=[ypos])\n",
    "\n",
    "    y_test = test[ypos].to_numpy()\n",
    "\n",
    "    x_test = test.drop(columns=[ypos])\n",
    "    x_test = x_test.to_numpy()\n",
    "\n",
    "    M1 = np.array(train_negative.mean())\n",
    "    M2 = np.array(train_positive.mean())\n",
    "    \n",
    "    covariance_negative = np.array(train_negative - M1)\n",
    "    covariance_positive = np.array(train_positive - M2)\n",
    "    \n",
    "    N1 = len(train_negative)\n",
    "    N2 = len(train_positive)\n",
    "    N  = N1+N2\n",
    "\n",
    "    S1 = np.dot(covariance_negative.T, covariance_negative) / N1\n",
    "    S2 = np.dot(covariance_positive.T, covariance_positive) / N2\n",
    "\n",
    "    covariance = (N1/N)*S1 + (N2/N)*S2\n",
    "    covariance_inverse = np.linalg.inv(covariance)\n",
    "\n",
    "    P_positive = len(train_positive) / (len(train_negative)+len(train_positive))\n",
    "    P_negative = len(train_negative) / (len(train_negative)+len(train_positive))\n",
    "\n",
    "    w = np.dot(covariance_inverse, M1-M2)\n",
    "    w0 = (-1/2)*np.dot(np.dot(M1.T, covariance_inverse), M1) + (1/2)*np.dot(np.dot(M2.T, covariance_inverse), M2) + np.log(P_negative/P_positive)\n",
    "    \n",
    "    #GDA model\n",
    "    a = np.dot(x_test, w.T) + w0     #a = w^T x + w_0\n",
    "    P = 1 / ( 1 + np.exp(-a) )       #P = sigma(-a)\n",
    "\n",
    "    for i in range(len(P)):\n",
    "        if P[i] > 0.5:\n",
    "            P[i]=-1\n",
    "        else:\n",
    "            P[i]=1\n",
    "\n",
    "    #CONFUSION MATRIX\n",
    "    tp,fp,fn,tn = 0,0,0,0\n",
    "\n",
    "    for i in range(len(y_test)):\n",
    "        prediction = P[i]\n",
    "        actual = y_test[i]\n",
    "\n",
    "        if prediction==1 and prediction==actual:\n",
    "            tp +=1\n",
    "        elif prediction==1 and prediction!=actual:\n",
    "            fp += 1\n",
    "        elif prediction==-1 and prediction!=actual:\n",
    "            fn += 1\n",
    "        elif prediction==-1 and prediction==actual:\n",
    "            tn += 1\n",
    "\n",
    "    confusion_matrix = [[tp,fp],[fn,tn]]\n",
    "\n",
    "    #Accuracy = [number of true / total number]\n",
    "    accuracy = (tp+tn)/(tp+tn+fp+fn)\n",
    "    \n",
    "    print(\"********************** Accuracy *********************\")\n",
    "    print(\"\\nBest fit accuracy achieved by the classifier: \", accuracy)\n",
    "    \n",
    "    print(\"\\n\\n**************** Learnt coefficients ****************\")\n",
    "    print(\"\\nConfusion matrix: \", confusion_matrix)\n",
    "    print(\"\\nw =\", w)\n",
    "    print(\"\\nw0 =\", w0)"
   ]
  },
  {
   "cell_type": "code",
   "execution_count": 3,
   "id": "hispanic-feedback",
   "metadata": {
    "scrolled": true
   },
   "outputs": [
    {
     "name": "stdout",
     "output_type": "stream",
     "text": [
      "********************** Accuracy *********************\n",
      "\n",
      "Best fit accuracy achieved by the classifier:  0.96125\n",
      "\n",
      "\n",
      "**************** Learnt coefficients ****************\n",
      "\n",
      "Confusion matrix:  [[402, 13], [18, 367]]\n",
      "\n",
      "w = [ 14.61811501  -8.55833967  -5.27129099  -3.16070383  -9.58363634\n",
      "  -4.79647021  16.83707507 -23.99208018 -29.06608654   9.42158733\n",
      " -13.46055406 -12.44839308  15.31728672  12.78211908  -5.81079372\n",
      "  13.06663305  29.40957092  -6.74721067  -0.27112729  -4.91031654]\n",
      "\n",
      "w0 = 27.46985879989562\n"
     ]
    }
   ],
   "source": [
    "GDA(train, test)"
   ]
  },
  {
   "cell_type": "markdown",
   "id": "virtual-settle",
   "metadata": {},
   "source": [
    "## 1.3. k-NN"
   ]
  },
  {
   "cell_type": "markdown",
   "id": "automotive-richardson",
   "metadata": {},
   "source": [
    "### Validation accuracy for different values of k"
   ]
  },
  {
   "cell_type": "code",
   "execution_count": 4,
   "id": "possible-chosen",
   "metadata": {},
   "outputs": [],
   "source": [
    "import matplotlib.pyplot as plt\n",
    "\n",
    "def k_NN(train, valid, k_max):\n",
    "    \n",
    "    ypos = len(np.array(valid)[0]) - 1\n",
    "    \n",
    "    y_valid = valid[ypos].to_numpy()\n",
    "    y_train = train[ypos].to_numpy()\n",
    "\n",
    "    x_valid = valid.drop(columns=[ypos])\n",
    "    x_valid = x_valid.to_numpy()\n",
    "\n",
    "    x_train = train.drop(columns=[ypos])\n",
    "    x_train = x_train.to_numpy()\n",
    "\n",
    "    best_accuracy = 0\n",
    "    accuracies = []\n",
    "\n",
    "    for k in range(1,k_max):\n",
    "        true,false = 0,0\n",
    "\n",
    "        for j in range(len(y_valid)):\n",
    "            distances = np.linalg.norm(x_valid[j]-x_train, None, 1)\n",
    "            neighbourhood = distances.argsort()\n",
    "            k_nearest_neighbours = neighbourhood[:k]\n",
    "                \n",
    "            prediction = round(y_train[k_nearest_neighbours].mean())\n",
    "            actual = y_valid[j]\n",
    "\n",
    "            if prediction==actual:\n",
    "                true +=1\n",
    "            else:\n",
    "                false += 1\n",
    "\n",
    "        accuracy = (true)/(true+false)\n",
    "        accuracies.append(accuracy)\n",
    "\n",
    "        if(accuracy > best_accuracy):\n",
    "            best_accuracy = accuracy\n",
    "            best_k = k\n",
    "            \n",
    "    plt.plot(list(range(1,k_max)), accuracies)\n",
    "    plt.xlabel(\"k\")\n",
    "    plt.ylabel(\"Accuracy\")\n",
    "    plt.show()\n",
    "    \n",
    "    print('Best fit accuracy:', best_accuracy, 'when k = ', best_k)"
   ]
  },
  {
   "cell_type": "code",
   "execution_count": 5,
   "id": "illegal-blond",
   "metadata": {},
   "outputs": [
    {
     "data": {
      "image/png": "[encoded data removed]",
      "text/plain": [
       "<Figure size 432x288 with 1 Axes>"
      ]
     },
     "metadata": {
      "needs_background": "light"
     },
     "output_type": "display_data"
    },
    {
     "name": "stdout",
     "output_type": "stream",
     "text": [
      "Best fit accuracy: 0.535 when k =  1\n"
     ]
    }
   ],
   "source": [
    "k_NN(train, valid, 20)"
   ]
  },
  {
   "cell_type": "markdown",
   "id": "korean-proportion",
   "metadata": {},
   "source": [
    "This classifier seems to perform worse than GDA overall ($\\sim0.55$ accuracy instead of $\\sim0.95$ for GDA). Some specific values of k seem to perform better than others, due to the low stability of this method. However, the difference is very small as the accuracy stays around $55\\%$."
   ]
  },
  {
   "cell_type": "markdown",
   "id": "olive-setting",
   "metadata": {},
   "source": [
    "## 1.4. Mixture of 3 Gaussians"
   ]
  },
  {
   "cell_type": "code",
   "execution_count": 6,
   "id": "superior-optics",
   "metadata": {},
   "outputs": [],
   "source": [
    "#Positive: DS2-c1\n",
    "#Negative: DS2-c2\n",
    "\n",
    "#mean arrays\n",
    "DS2_c1_m1 = pd.read_csv(\"DS2_c1_m1.txt\", header=None)\n",
    "DS2_c1_m1 = DS2_c1_m1.drop(columns=[20])\n",
    "DS2_c1_m1 = np.array(DS2_c1_m1).flatten()\n",
    "\n",
    "DS2_c1_m2 = pd.read_csv(\"DS2_c1_m2.txt\", header=None)\n",
    "DS2_c1_m2 = DS2_c1_m2.drop(columns=[20])\n",
    "DS2_c1_m2 = np.array(DS2_c1_m2).flatten()\n",
    "\n",
    "DS2_c1_m3 = pd.read_csv(\"DS2_c1_m3.txt\", header=None)\n",
    "DS2_c1_m3 = DS2_c1_m3.drop(columns=[20])\n",
    "DS2_c1_m3 = np.array(DS2_c1_m3).flatten()\n",
    "\n",
    "DS2_c2_m1 = pd.read_csv(\"DS2_c2_m1.txt\", header=None)\n",
    "DS2_c2_m1 = DS2_c2_m1.drop(columns=[20])\n",
    "DS2_c2_m1 = np.array(DS2_c2_m1).flatten()\n",
    "\n",
    "DS2_c2_m2 = pd.read_csv(\"DS2_c2_m2.txt\", header=None)\n",
    "DS2_c2_m2 = DS2_c2_m2.drop(columns=[20])\n",
    "DS2_c2_m2 = np.array(DS2_c2_m2).flatten()\n",
    "\n",
    "DS2_c2_m3 = pd.read_csv(\"DS2_c2_m3.txt\", header=None)\n",
    "DS2_c2_m3 = DS2_c2_m3.drop(columns=[20])\n",
    "DS2_c2_m3 = np.array(DS2_c2_m3).flatten()\n",
    "\n",
    "#covariance matrices\n",
    "DS2_Cov1 = pd.read_csv(\"DS2_Cov1.txt\", header=None)\n",
    "DS2_Cov1 = DS2_Cov1.drop(columns=[20])\n",
    "DS2_Cov1 = DS2_Cov1.to_numpy()\n",
    "\n",
    "DS2_Cov2 = pd.read_csv(\"DS2_Cov2.txt\", header=None)\n",
    "DS2_Cov2 = DS2_Cov2.drop(columns=[20])\n",
    "DS2_Cov2 = DS2_Cov2.to_numpy()\n",
    "\n",
    "DS2_Cov3 = pd.read_csv(\"DS2_Cov3.txt\", header=None)\n",
    "DS2_Cov3 = DS2_Cov3.drop(columns=[20])\n",
    "DS2_Cov3 = DS2_Cov3.to_numpy()\n",
    "\n",
    "mix_split_1 = int(2000*0.1)\n",
    "mix_split_2 = int(2000*0.42)\n",
    "mix_split_3 = int(2000*0.48)\n",
    "\n",
    "pos1 = np.random.multivariate_normal(DS2_c1_m1, DS2_Cov1, mix_split_1)\n",
    "pos2 = np.random.multivariate_normal(DS2_c1_m2, DS2_Cov2, mix_split_2)\n",
    "pos3 = np.random.multivariate_normal(DS2_c1_m3, DS2_Cov3, mix_split_3)\n",
    "\n",
    "neg1 = np.random.multivariate_normal(DS2_c2_m1, DS2_Cov1, mix_split_1)\n",
    "neg2 = np.random.multivariate_normal(DS2_c2_m2, DS2_Cov2, mix_split_2)\n",
    "neg3 = np.random.multivariate_normal(DS2_c2_m3, DS2_Cov3, mix_split_3)\n",
    "\n",
    "#Labels\n",
    "pos1 = np.column_stack((pos1, np.ones(mix_split_1)))\n",
    "pos2 = np.column_stack((pos2, np.ones(mix_split_2)))\n",
    "pos3 = np.column_stack((pos3, np.ones(mix_split_3)))\n",
    "\n",
    "neg1 = np.column_stack((neg1, -np.ones(mix_split_1)))\n",
    "neg2 = np.column_stack((neg2, -np.ones(mix_split_2)))\n",
    "neg3 = np.column_stack((neg3, -np.ones(mix_split_3)))\n",
    "\n",
    "data1 = np.concatenate((pos1, neg1))\n",
    "data2 = np.concatenate((pos2, neg2))\n",
    "data3 = np.concatenate((pos3, neg3))\n",
    "\n",
    "#Shuffling \n",
    "np.random.shuffle(data1)\n",
    "np.random.shuffle(data2)\n",
    "np.random.shuffle(data3)\n",
    "\n",
    "#20% test, 20% validation, 60% train\n",
    "split1 = int(4000*0.1)\n",
    "split2 = int(split1 + 4000*0.42)\n",
    "split3 = int(split2 + 4000*0.48)\n",
    "\n",
    "test1 = pd.DataFrame(data1[0:int(len(data1)*0.2)])\n",
    "test2 = pd.DataFrame(data2[0:int(len(data2)*0.2)])\n",
    "test3 = pd.DataFrame(data3[0:int(len(data3)*0.2)])\n",
    "\n",
    "valid1 = pd.DataFrame(data1[int(len(data1)*0.2):int(len(data1)*0.4)])\n",
    "valid2 = pd.DataFrame(data2[int(len(data2)*0.2):int(len(data2)*0.4)])\n",
    "valid3 = pd.DataFrame(data3[int(len(data3)*0.2):int(len(data3)*0.4)])\n",
    "\n",
    "train1 = pd.DataFrame(data1[int(len(data1)*0.4):int(len(data1))])\n",
    "train2 = pd.DataFrame(data2[int(len(data2)*0.4):int(len(data2))])\n",
    "train3 = pd.DataFrame(data3[int(len(data3)*0.4):int(len(data3))])\n",
    "\n",
    "test = pd.DataFrame(np.concatenate((test1, test2, test3)))\n",
    "valid = pd.DataFrame(np.concatenate((valid1, valid2, valid3)))\n",
    "train = pd.DataFrame(np.concatenate((train1, train2, train3)))"
   ]
  },
  {
   "cell_type": "code",
   "execution_count": 7,
   "id": "worse-argentina",
   "metadata": {},
   "outputs": [],
   "source": [
    "#Export to CSV\n",
    "test.to_csv(\"DS2_test.txt\",index=False, header=False)\n",
    "valid.to_csv(\"DS2_valid.txt\",index=False, header=False)\n",
    "train.to_csv(\"DS2_train.txt\",index=False, header=False)"
   ]
  },
  {
   "cell_type": "markdown",
   "id": "laughing-deviation",
   "metadata": {},
   "source": [
    "## 1.5. DS2"
   ]
  },
  {
   "cell_type": "markdown",
   "id": "independent-leadership",
   "metadata": {},
   "source": [
    "### 1.5.1. Estimating the parameters of the GDA model using the maximum likelihood approach"
   ]
  },
  {
   "cell_type": "code",
   "execution_count": 8,
   "id": "guilty-agenda",
   "metadata": {
    "scrolled": true
   },
   "outputs": [
    {
     "name": "stdout",
     "output_type": "stream",
     "text": [
      "********************** Accuracy *********************\n",
      "\n",
      "Best fit accuracy achieved by the classifier:  0.49125\n",
      "\n",
      "\n",
      "**************** Learnt coefficients ****************\n",
      "\n",
      "Confusion matrix:  [[167, 175], [232, 226]]\n",
      "\n",
      "w = [ 0.03079348  0.00289675  0.00959706 -0.01141849  0.03848942 -0.06747623\n",
      " -0.05986416  0.02527825  0.06018449  0.01384092  0.03383903 -0.00130837\n",
      "  0.04506877 -0.00479539 -0.09587201 -0.01121067 -0.02902749  0.01531692\n",
      "  0.03516223  0.03445705]\n",
      "\n",
      "w0 = -0.04411426595482794\n"
     ]
    }
   ],
   "source": [
    "GDA(train, test)"
   ]
  },
  {
   "cell_type": "markdown",
   "id": "grand-representation",
   "metadata": {},
   "source": [
    "### 1.5.2., 1.5.3. k-NN"
   ]
  },
  {
   "cell_type": "code",
   "execution_count": 9,
   "id": "laughing-tutorial",
   "metadata": {},
   "outputs": [
    {
     "data": {
      "image/png": "[encoded data removed]",
      "text/plain": [
       "<Figure size 432x288 with 1 Axes>"
      ]
     },
     "metadata": {
      "needs_background": "light"
     },
     "output_type": "display_data"
    },
    {
     "name": "stdout",
     "output_type": "stream",
     "text": [
      "Best fit accuracy: 0.52625 when k =  1\n"
     ]
    }
   ],
   "source": [
    "k_NN(train, valid, 20)"
   ]
  },
  {
   "cell_type": "markdown",
   "id": "fitting-safety",
   "metadata": {},
   "source": [
    "This classifier seems to perform a little bit better than GDA ($\\sim0.55$ accuracy for k-NN instead of $\\sim0.50$ accuracy for GDA). Some specific values of k seem to perform better than others, due to the low stability of this method. However, the difference is very small as the accuracy stays around $55\\%$."
   ]
  },
  {
   "cell_type": "markdown",
   "id": "introductory-browser",
   "metadata": {},
   "source": [
    "## 1.6. Similarities and differences between the performance of both classifiers"
   ]
  },
  {
   "cell_type": "markdown",
   "id": "amateur-handling",
   "metadata": {},
   "source": [
    "For DS1, GDA seems to perform better than k-NN, but for DS2, it seems to be the opposite. However, k-NN behaves in the same way with both datasets (i.e. some values of k perform better than others, with no visible pattern). Given the very high accuracy for the GDA model using DS1 and the average performance of both models with DS2, we could say that GDA performs better overall."
   ]
  },
  {
   "cell_type": "markdown",
   "id": "sapphire-creature",
   "metadata": {},
   "source": [
    "# 2. MNIST Handwritten Digits Classification"
   ]
  },
  {
   "cell_type": "code",
   "execution_count": 10,
   "id": "abandoned-pillow",
   "metadata": {},
   "outputs": [],
   "source": [
    "from tensorflow import keras\n",
    "(x_train, y_train), (x_test, y_test) = keras.datasets.mnist.load_data()\n",
    "\n",
    "#0-50000 = train, 50000-60000 = valid\n",
    "x_valid = x_train[50000:60000]\n",
    "y_valid = y_train[50000:60000]\n",
    "\n",
    "x_train = x_train[0:50000]\n",
    "y_train = y_train[0:50000]\n",
    "\n",
    "#Flattening to 784 features\n",
    "x_train_flattened = []\n",
    "x_valid_flattened = []\n",
    "x_test_flattened = []\n",
    "\n",
    "for i in range(len(x_train)):\n",
    "    x_train_flattened.append(x_train[i].flatten())\n",
    "    \n",
    "for i in range(len(x_valid)):\n",
    "    x_valid_flattened.append(x_valid[i].flatten())\n",
    "    \n",
    "for i in range(len(x_test)):\n",
    "    x_test_flattened.append(x_test[i].flatten())\n",
    "\n",
    "#Normalizing\n",
    "x_train = np.array(x_train_flattened)/255\n",
    "x_valid = np.array(x_valid_flattened)/255\n",
    "x_test = np.array(x_test_flattened)/255\n",
    "\n",
    "train = pd.DataFrame(np.column_stack((x_train, y_train)))\n",
    "valid = pd.DataFrame(np.column_stack((x_valid, y_valid)))\n",
    "test = pd.DataFrame(np.column_stack((x_test, y_test)))"
   ]
  },
  {
   "cell_type": "markdown",
   "id": "interesting-reproduction",
   "metadata": {},
   "source": [
    "## 2.1. Gaussian Naive Bayes (GNB)"
   ]
  },
  {
   "cell_type": "markdown",
   "id": "unlimited-progressive",
   "metadata": {},
   "source": [
    "### 2.1. (a) Equations for mean and diagonal covariance matrices"
   ]
  },
  {
   "cell_type": "markdown",
   "id": "conservative-clarity",
   "metadata": {},
   "source": [
    "$$x$$"
   ]
  },
  {
   "cell_type": "markdown",
   "id": "unsigned-occasion",
   "metadata": {},
   "source": [
    "### 2.1. (b) Estimating GNB model parameters"
   ]
  },
  {
   "cell_type": "code",
   "execution_count": 11,
   "id": "minus-latin",
   "metadata": {},
   "outputs": [
    {
     "ename": "LinAlgError",
     "evalue": "Singular matrix",
     "output_type": "error",
     "traceback": [
      "\u001b[1;31m---------------------------------------------------------------------------\u001b[0m",
      "\u001b[1;31mLinAlgError\u001b[0m                               Traceback (most recent call last)",
      "\u001b[1;32m<ipython-input-11-7b07b2ff6c7c>\u001b[0m in \u001b[0;36m<module>\u001b[1;34m\u001b[0m\n\u001b[0;32m     26\u001b[0m \u001b[1;33m\u001b[0m\u001b[0m\n\u001b[0;32m     27\u001b[0m \u001b[0mcovariance\u001b[0m \u001b[1;33m=\u001b[0m \u001b[1;33m(\u001b[0m\u001b[0mN1\u001b[0m\u001b[1;33m/\u001b[0m\u001b[0mN\u001b[0m\u001b[1;33m)\u001b[0m\u001b[1;33m*\u001b[0m\u001b[0mS1\u001b[0m \u001b[1;33m+\u001b[0m \u001b[1;33m(\u001b[0m\u001b[0mN2\u001b[0m\u001b[1;33m/\u001b[0m\u001b[0mN\u001b[0m\u001b[1;33m)\u001b[0m\u001b[1;33m*\u001b[0m\u001b[0mS2\u001b[0m\u001b[1;33m\u001b[0m\u001b[1;33m\u001b[0m\u001b[0m\n\u001b[1;32m---> 28\u001b[1;33m \u001b[0mcovariance_inverse\u001b[0m \u001b[1;33m=\u001b[0m \u001b[0mnp\u001b[0m\u001b[1;33m.\u001b[0m\u001b[0mlinalg\u001b[0m\u001b[1;33m.\u001b[0m\u001b[0minv\u001b[0m\u001b[1;33m(\u001b[0m\u001b[0mcovariance\u001b[0m\u001b[1;33m)\u001b[0m\u001b[1;33m\u001b[0m\u001b[1;33m\u001b[0m\u001b[0m\n\u001b[0m\u001b[0;32m     29\u001b[0m \u001b[1;33m\u001b[0m\u001b[0m\n\u001b[0;32m     30\u001b[0m \u001b[0mP_positive\u001b[0m \u001b[1;33m=\u001b[0m \u001b[0mlen\u001b[0m\u001b[1;33m(\u001b[0m\u001b[0mtrain_positive\u001b[0m\u001b[1;33m)\u001b[0m \u001b[1;33m/\u001b[0m \u001b[1;33m(\u001b[0m\u001b[0mlen\u001b[0m\u001b[1;33m(\u001b[0m\u001b[0mtrain_negative\u001b[0m\u001b[1;33m)\u001b[0m\u001b[1;33m+\u001b[0m\u001b[0mlen\u001b[0m\u001b[1;33m(\u001b[0m\u001b[0mtrain_positive\u001b[0m\u001b[1;33m)\u001b[0m\u001b[1;33m)\u001b[0m\u001b[1;33m\u001b[0m\u001b[1;33m\u001b[0m\u001b[0m\n",
      "\u001b[1;32m<__array_function__ internals>\u001b[0m in \u001b[0;36minv\u001b[1;34m(*args, **kwargs)\u001b[0m\n",
      "\u001b[1;32m~\\.julia\\conda\\3\\lib\\site-packages\\numpy\\linalg\\linalg.py\u001b[0m in \u001b[0;36minv\u001b[1;34m(a)\u001b[0m\n\u001b[0;32m    544\u001b[0m     \u001b[0msignature\u001b[0m \u001b[1;33m=\u001b[0m \u001b[1;34m'D->D'\u001b[0m \u001b[1;32mif\u001b[0m \u001b[0misComplexType\u001b[0m\u001b[1;33m(\u001b[0m\u001b[0mt\u001b[0m\u001b[1;33m)\u001b[0m \u001b[1;32melse\u001b[0m \u001b[1;34m'd->d'\u001b[0m\u001b[1;33m\u001b[0m\u001b[1;33m\u001b[0m\u001b[0m\n\u001b[0;32m    545\u001b[0m     \u001b[0mextobj\u001b[0m \u001b[1;33m=\u001b[0m \u001b[0mget_linalg_error_extobj\u001b[0m\u001b[1;33m(\u001b[0m\u001b[0m_raise_linalgerror_singular\u001b[0m\u001b[1;33m)\u001b[0m\u001b[1;33m\u001b[0m\u001b[1;33m\u001b[0m\u001b[0m\n\u001b[1;32m--> 546\u001b[1;33m     \u001b[0mainv\u001b[0m \u001b[1;33m=\u001b[0m \u001b[0m_umath_linalg\u001b[0m\u001b[1;33m.\u001b[0m\u001b[0minv\u001b[0m\u001b[1;33m(\u001b[0m\u001b[0ma\u001b[0m\u001b[1;33m,\u001b[0m \u001b[0msignature\u001b[0m\u001b[1;33m=\u001b[0m\u001b[0msignature\u001b[0m\u001b[1;33m,\u001b[0m \u001b[0mextobj\u001b[0m\u001b[1;33m=\u001b[0m\u001b[0mextobj\u001b[0m\u001b[1;33m)\u001b[0m\u001b[1;33m\u001b[0m\u001b[1;33m\u001b[0m\u001b[0m\n\u001b[0m\u001b[0;32m    547\u001b[0m     \u001b[1;32mreturn\u001b[0m \u001b[0mwrap\u001b[0m\u001b[1;33m(\u001b[0m\u001b[0mainv\u001b[0m\u001b[1;33m.\u001b[0m\u001b[0mastype\u001b[0m\u001b[1;33m(\u001b[0m\u001b[0mresult_t\u001b[0m\u001b[1;33m,\u001b[0m \u001b[0mcopy\u001b[0m\u001b[1;33m=\u001b[0m\u001b[1;32mFalse\u001b[0m\u001b[1;33m)\u001b[0m\u001b[1;33m)\u001b[0m\u001b[1;33m\u001b[0m\u001b[1;33m\u001b[0m\u001b[0m\n\u001b[0;32m    548\u001b[0m \u001b[1;33m\u001b[0m\u001b[0m\n",
      "\u001b[1;32m~\\.julia\\conda\\3\\lib\\site-packages\\numpy\\linalg\\linalg.py\u001b[0m in \u001b[0;36m_raise_linalgerror_singular\u001b[1;34m(err, flag)\u001b[0m\n\u001b[0;32m     86\u001b[0m \u001b[1;33m\u001b[0m\u001b[0m\n\u001b[0;32m     87\u001b[0m \u001b[1;32mdef\u001b[0m \u001b[0m_raise_linalgerror_singular\u001b[0m\u001b[1;33m(\u001b[0m\u001b[0merr\u001b[0m\u001b[1;33m,\u001b[0m \u001b[0mflag\u001b[0m\u001b[1;33m)\u001b[0m\u001b[1;33m:\u001b[0m\u001b[1;33m\u001b[0m\u001b[1;33m\u001b[0m\u001b[0m\n\u001b[1;32m---> 88\u001b[1;33m     \u001b[1;32mraise\u001b[0m \u001b[0mLinAlgError\u001b[0m\u001b[1;33m(\u001b[0m\u001b[1;34m\"Singular matrix\"\u001b[0m\u001b[1;33m)\u001b[0m\u001b[1;33m\u001b[0m\u001b[1;33m\u001b[0m\u001b[0m\n\u001b[0m\u001b[0;32m     89\u001b[0m \u001b[1;33m\u001b[0m\u001b[0m\n\u001b[0;32m     90\u001b[0m \u001b[1;32mdef\u001b[0m \u001b[0m_raise_linalgerror_nonposdef\u001b[0m\u001b[1;33m(\u001b[0m\u001b[0merr\u001b[0m\u001b[1;33m,\u001b[0m \u001b[0mflag\u001b[0m\u001b[1;33m)\u001b[0m\u001b[1;33m:\u001b[0m\u001b[1;33m\u001b[0m\u001b[1;33m\u001b[0m\u001b[0m\n",
      "\u001b[1;31mLinAlgError\u001b[0m: Singular matrix"
     ]
    }
   ],
   "source": [
    "ypos = len(np.array(test)[0]) - 1\n",
    "\n",
    "train_positive = train[train[ypos]==1]\n",
    "train_positive = train_positive.drop(columns=[ypos])\n",
    "\n",
    "train_negative = train[train[ypos]==0]\n",
    "train_negative = train_negative.drop(columns=[ypos])\n",
    "\n",
    "y_test = test[ypos].to_numpy()\n",
    "\n",
    "x_test = test.drop(columns=[ypos])\n",
    "x_test = x_test.to_numpy()\n",
    "\n",
    "M1 = np.array(train_negative.mean())\n",
    "M2 = np.array(train_positive.mean())\n",
    "\n",
    "covariance_negative = np.array(train_negative - M1)\n",
    "covariance_positive = np.array(train_positive - M2)\n",
    "    \n",
    "N1 = len(train_negative)\n",
    "N2 = len(train_positive)\n",
    "N  = N1+N2\n",
    "\n",
    "S1 = np.dot(covariance_negative.T, covariance_negative) / N1\n",
    "S2 = np.dot(covariance_positive.T, covariance_positive) / N2\n",
    "\n",
    "covariance = (N1/N)*S1 + (N2/N)*S2\n",
    "covariance_inverse = np.linalg.inv(covariance)\n",
    "\n",
    "P_positive = len(train_positive) / (len(train_negative)+len(train_positive))\n",
    "P_negative = len(train_negative) / (len(train_negative)+len(train_positive))\n",
    "\n",
    "w = np.dot(covariance_inverse, M1-M2)\n",
    "w0 = (-1/2)*np.dot(np.dot(M1.T, covariance_inverse), M1) + (1/2)*np.dot(np.dot(M2.T, covariance_inverse), M2) + np.log(P_negative/P_positive)\n",
    "\n",
    "#GDA model\n",
    "a = np.dot(x_test, w.T) + w0     #a = w^T x + w_0\n",
    "P = 1 / ( 1 + np.exp(-a) )       #P = sigma(-a)\n",
    "\n",
    "for i in range(len(P)):\n",
    "    if P[i] > 0.5:\n",
    "        P[i]=0\n",
    "    else:\n",
    "        P[i]=1\n",
    "\n",
    "#CONFUSION MATRIX\n",
    "tp,fp,fn,tn = 0,0,0,0\n",
    "\n",
    "for i in range(len(y_test)):\n",
    "    prediction = P[i]\n",
    "    actual = y_test[i]\n",
    "\n",
    "    if prediction==1 and prediction==actual:\n",
    "        tp +=1\n",
    "    elif prediction==1 and prediction!=actual:\n",
    "        fp += 1\n",
    "    elif prediction==0 and prediction!=actual:\n",
    "        fn += 1\n",
    "    elif prediction==0 and prediction==actual:\n",
    "        tn += 1\n",
    "\n",
    "confusion_matrix = [[tp,fp],[fn,tn]]\n",
    "\n",
    "#Accuracy = [number of true / total number]\n",
    "accuracy = (tp+tn)/(tp+tn+fp+fn)\n",
    "\n",
    "print(\"********************** Accuracy *********************\")\n",
    "print(\"\\nBest fit accuracy achieved by the classifier: \", accuracy)\n",
    "\n",
    "print(\"\\n\\n**************** Learnt coefficients ****************\")\n",
    "print(\"\\nConfusion matrix: \", confusion_matrix)\n",
    "print(\"\\nw =\", w)\n",
    "print(\"\\nw0 =\", w0)"
   ]
  },
  {
   "cell_type": "markdown",
   "id": "checked-victory",
   "metadata": {},
   "source": [
    "## 2.2. k-NN"
   ]
  },
  {
   "cell_type": "code",
   "execution_count": null,
   "id": "clean-growing",
   "metadata": {},
   "outputs": [],
   "source": [
    "#k_NN(train, valid, 15)"
   ]
  },
  {
   "cell_type": "markdown",
   "id": "stable-manner",
   "metadata": {},
   "source": [
    "## 2.3. GNB performance vs k-NN"
   ]
  },
  {
   "cell_type": "markdown",
   "id": "eleven-prospect",
   "metadata": {},
   "source": []
  }
 ],
 "metadata": {
  "kernelspec": {
   "display_name": "Python 3",
   "language": "python",
   "name": "python3"
  },
  "language_info": {
   "codemirror_mode": {
    "name": "ipython",
    "version": 3
   },
   "file_extension": ".py",
   "mimetype": "text/x-python",
   "name": "python",
   "nbconvert_exporter": "python",
   "pygments_lexer": "ipython3",
   "version": "3.8.5"
  }
 },
 "nbformat": 4,
 "nbformat_minor": 5
}
