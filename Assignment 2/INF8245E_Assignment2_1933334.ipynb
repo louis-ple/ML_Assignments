{
 "cells": [
  {
   "cell_type": "markdown",
   "id": "solved-vermont",
   "metadata": {},
   "source": [
    "# INF8245E: Machine Learning | Assignment #2"
   ]
  },
  {
   "cell_type": "markdown",
   "id": "original-reply",
   "metadata": {},
   "source": [
    "**Louis Plessis (1933334)** | 24 October 2021"
   ]
  },
  {
   "cell_type": "markdown",
   "id": "ceramic-weight",
   "metadata": {},
   "source": [
    "# 1. Linear Classification and Nearest Neighbour Classification"
   ]
  },
  {
   "cell_type": "markdown",
   "id": "italic-lemon",
   "metadata": {},
   "source": [
    "## 1.1. Generating 2 classes with 20 features each"
   ]
  },
  {
   "cell_type": "code",
   "execution_count": 1,
   "id": "sexual-causing",
   "metadata": {},
   "outputs": [],
   "source": [
    "import pandas as pd\n",
    "import numpy as np\n",
    "\n",
    "DS1_m_0 = pd.read_csv(\"DS1_m_0.txt\", header=None)\n",
    "DS1_m_0 = DS1_m_0.drop(columns=[20])\n",
    "DS1_m_0 = np.array(DS1_m_0).flatten()\n",
    "\n",
    "DS1_m_1 = pd.read_csv(\"DS1_m_1.txt\", header=None)\n",
    "DS1_m_1 = DS1_m_1.drop(columns=[20])\n",
    "DS1_m_1 = np.array(DS1_m_1).flatten()\n",
    "\n",
    "DS1_Cov = pd.read_csv(\"DS1_Cov.txt\", header=None)\n",
    "DS1_Cov = DS1_Cov.drop(columns=[20])\n",
    "DS1_Cov = DS1_Cov.to_numpy()\n",
    "\n",
    "#Generate 2000 examples\n",
    "data_positive = np.random.multivariate_normal(DS1_m_1, DS1_Cov, 2000)\n",
    "data_negative = np.random.multivariate_normal(DS1_m_0, DS1_Cov, 2000)\n",
    "\n",
    "#Labels\n",
    "data_positive = np.column_stack((data_positive, np.ones(2000)))\n",
    "data_negative = np.column_stack((data_negative, np.zeros(2000)))\n",
    "\n",
    "data = np.concatenate((data_positive, data_negative))\n",
    "\n",
    "#Shuffling \n",
    "np.random.shuffle(data)\n",
    "\n",
    "#20% test, 20% validation, 60% train\n",
    "test = pd.DataFrame(data[0:800])\n",
    "valid = pd.DataFrame(data[800:1600])\n",
    "train = pd.DataFrame(data[1600:4000])"
   ]
  },
  {
   "cell_type": "code",
   "execution_count": 2,
   "id": "bottom-license",
   "metadata": {},
   "outputs": [],
   "source": [
    "#Export to CSV\n",
    "test.to_csv(\"DS1_test.txt\",index=False, header=False)\n",
    "valid.to_csv(\"DS1_valid.txt\",index=False, header=False)\n",
    "train.to_csv(\"DS1_train.txt\",index=False, header=False)"
   ]
  },
  {
   "cell_type": "markdown",
   "id": "musical-option",
   "metadata": {},
   "source": [
    "## 1.2. GDA model"
   ]
  },
  {
   "cell_type": "code",
   "execution_count": 3,
   "id": "sacred-replacement",
   "metadata": {},
   "outputs": [],
   "source": [
    "def GDA(train, test):    \n",
    "    train_positive = train[train[20]==1]\n",
    "    train_positive = train_positive.drop(columns=[20])\n",
    "\n",
    "    train_negative = train[train[20]==0]\n",
    "    train_negative = train_negative.drop(columns=[20])\n",
    "\n",
    "    categories = test[20]\n",
    "\n",
    "    train = train.drop(columns=[20])\n",
    "    train = train.to_numpy()\n",
    "\n",
    "    test = test.drop(columns=[20])\n",
    "    test = test.to_numpy()\n",
    "\n",
    "    m1 = np.array(train_positive.mean())\n",
    "    m0 = np.array(train_negative.mean())\n",
    "\n",
    "    cov_matrix_pos = np.array(train_positive - m1)\n",
    "    cov_matrix_neg = np.array(train_negative - m0)\n",
    "\n",
    "    s0 = np.dot(cov_matrix_neg.T, cov_matrix_neg)\n",
    "    s1 = np.dot(cov_matrix_pos.T, cov_matrix_pos)\n",
    "\n",
    "    cov_matrix = (s0+s1)  / (len(train_negative)+len(train_positive))\n",
    "\n",
    "    cov_inv_matrix = np.linalg.inv(cov_matrix)\n",
    "\n",
    "    prob_pos = len(train_positive) / (len(train_negative)+len(train_positive))\n",
    "    prob_neg = len(train_negative) / (len(train_negative)+len(train_positive))\n",
    "\n",
    "    w0 = -np.dot(m0.T, np.dot(cov_inv_matrix,m0))/2 + np.dot(m1.T, np.dot(cov_inv_matrix,m1))/2 + np.log(prob_neg/prob_pos)\n",
    "    w1 = np.dot(cov_inv_matrix, m0-m1)\n",
    "\n",
    "    #GDA model\n",
    "    a = np.dot(test, w1.T) + w0\n",
    "    sigma = 1 / ( 1 + np.exp(-a) )\n",
    "\n",
    "    for i in range(len(sigma)):\n",
    "        if(sigma[i]>(1/2)):\n",
    "            sigma[i]=0\n",
    "        else:\n",
    "            sigma[i]=1\n",
    "\n",
    "    #CONFUSION MATRIX\n",
    "    tp,fp,fn,tn = 0,0,0,0\n",
    "\n",
    "    for i in range(len(categories)):\n",
    "        predict = sigma[i]\n",
    "        actual = categories[i]\n",
    "\n",
    "        if predict==1 and predict==actual:\n",
    "            tp +=1\n",
    "        elif predict==1 and predict!=actual:\n",
    "            fp += 1\n",
    "        elif predict==0 and predict!=actual:\n",
    "            fn += 1\n",
    "        elif predict==0 and predict==actual:\n",
    "            tn += 1\n",
    "\n",
    "    confusion_matrix = [[tp,fp],[fn,tn]]\n",
    "\n",
    "    #Accuracy = [number of true / total number]\n",
    "    accuracy = (tp+tn)/(tp+tn+fp+fn)\n",
    "    \n",
    "    print(\"********************** Accuracy **********************\")\n",
    "    print(\"\\nBest fit accuracy achieved by the classifier: \", accuracy)\n",
    "    \n",
    "    print(\"\\n\\n***************** Learnt coefficients *****************\")\n",
    "    print(\"\\nConfusion matrix: \", confusion_matrix)\n",
    "    print(\"\\nw0: \", w0)\n",
    "    print(\"w1: \", w1)"
   ]
  },
  {
   "cell_type": "code",
   "execution_count": 4,
   "id": "forty-neighborhood",
   "metadata": {
    "scrolled": true
   },
   "outputs": [
    {
     "name": "stdout",
     "output_type": "stream",
     "text": [
      "********************** Accuracy **********************\n",
      "\n",
      "Best fit accuracy achieved by the classifier:  0.94875\n",
      "\n",
      "\n",
      "***************** Learnt coefficients *****************\n",
      "\n",
      "Confusion matrix:  [[365, 14], [27, 394]]\n",
      "\n",
      "w0:  27.08399019480099\n",
      "w1:  [ 14.26338129  -8.38261344  -5.62977326  -3.15085819  -9.55700702\n",
      "  -4.39296462  16.62329103 -23.65318561 -28.83438334   9.03523311\n",
      " -12.82817458 -12.15368867  15.44255551  12.69177791  -5.52238273\n",
      "  12.8863494   29.21995924  -6.69111796  -0.72421979  -4.98209238]\n"
     ]
    }
   ],
   "source": [
    "GDA(train, test)"
   ]
  },
  {
   "cell_type": "markdown",
   "id": "integrated-bullet",
   "metadata": {},
   "source": [
    "## 1.3. k-NN"
   ]
  },
  {
   "cell_type": "markdown",
   "id": "expressed-medicaid",
   "metadata": {},
   "source": [
    "### Validation accuracy for different values of k"
   ]
  },
  {
   "cell_type": "code",
   "execution_count": 5,
   "id": "finite-maker",
   "metadata": {},
   "outputs": [],
   "source": [
    "import matplotlib.pyplot as plt\n",
    "\n",
    "def k_NN(train, valid):\n",
    "    \n",
    "    train_positive = train[train[20]==1]\n",
    "    train_positive = train_positive.drop(columns=[20])\n",
    "\n",
    "    train_negative = train[train[20]==0]\n",
    "    train_negative = train_negative.drop(columns=[20])\n",
    "\n",
    "    categories = valid[20]\n",
    "\n",
    "    train = train.drop(columns=[20])\n",
    "    train = train.to_numpy()\n",
    "    \n",
    "    valid = valid.drop(columns=[20])\n",
    "    valid = valid.to_numpy()\n",
    "\n",
    "    best_accuracy = 0\n",
    "    accuracies = []\n",
    "\n",
    "    for k in range(1,50):\n",
    "        tp,fp,fn,tn = 0,0,0,0\n",
    "\n",
    "        for j in range(len(categories)):\n",
    "\n",
    "            dists = np.power(np.linalg.norm(train-valid[j],axis=1),2)\n",
    "            nb = dists.argsort()[:k]\n",
    "\n",
    "            if(train[nb,19].sum()>0):\n",
    "                predict=1\n",
    "            else:\n",
    "                predict=0\n",
    "\n",
    "            actual = categories[j]\n",
    "\n",
    "            if predict==1 and predict==actual:\n",
    "                tp +=1\n",
    "            elif predict==1 and predict!=actual:\n",
    "                fp += 1\n",
    "            elif predict==0 and predict!=actual:\n",
    "                fn += 1\n",
    "            elif predict==0 and predict==actual:\n",
    "                tn += 1\n",
    "\n",
    "        accuracy = (tp+tn)/(tp+tn+fp+fn)\n",
    "        accuracies.append(accuracy)\n",
    "\n",
    "        if(accuracy > best_accuracy):\n",
    "            best_accuracy = accuracy\n",
    "            confusion_matrix = [[tp,fp],[fn,tn]]\n",
    "            bestK = k\n",
    "            \n",
    "    plt.plot(list(range(1,50)), accuracies)\n",
    "    plt.xlabel(\"k\")\n",
    "    plt.ylabel(\"Accuracy\")\n",
    "    plt.show()\n",
    "    \n",
    "    print('Best fit accuracy:', best_accuracy, 'when k = ', bestK)"
   ]
  },
  {
   "cell_type": "code",
   "execution_count": 6,
   "id": "authorized-output",
   "metadata": {},
   "outputs": [
    {
     "data": {
      "image/png": "[encoded data removed]",
      "text/plain": [
       "<Figure size 432x288 with 1 Axes>"
      ]
     },
     "metadata": {
      "needs_background": "light"
     },
     "output_type": "display_data"
    },
    {
     "name": "stdout",
     "output_type": "stream",
     "text": [
      "Best fit accuracy: 0.56875 when k =  30\n"
     ]
    }
   ],
   "source": [
    "k_NN(train, valid)"
   ]
  },
  {
   "cell_type": "markdown",
   "id": "owned-rabbit",
   "metadata": {},
   "source": [
    "This classifier seems to perform worse than GDA overall ($\\sim0.55$ accuracy for k-NN instead of $\\sim0.95$ for GDA). Some specific values of k seem to perform better than others, due to the low stability of this method. Values of $k>100$ seem to perform better in general. However, the difference is very small as the accuracy stays around $55\\%$."
   ]
  },
  {
   "cell_type": "markdown",
   "id": "veterinary-prescription",
   "metadata": {},
   "source": [
    "## 1.4. Mixture of 3 Gaussians"
   ]
  },
  {
   "cell_type": "code",
   "execution_count": 7,
   "id": "interstate-montgomery",
   "metadata": {},
   "outputs": [],
   "source": [
    "#Positive: DS2-c1\n",
    "#Negative: DS2-c2\n",
    "\n",
    "#mean arrays\n",
    "DS2_c1_m1 = pd.read_csv(\"DS2_c1_m1.txt\", header=None)\n",
    "DS2_c1_m1 = DS2_c1_m1.drop(columns=[20])\n",
    "DS2_c1_m1 = np.array(DS2_c1_m1).flatten()\n",
    "\n",
    "DS2_c1_m2 = pd.read_csv(\"DS2_c1_m2.txt\", header=None)\n",
    "DS2_c1_m2 = DS2_c1_m2.drop(columns=[20])\n",
    "DS2_c1_m2 = np.array(DS2_c1_m2).flatten()\n",
    "\n",
    "DS2_c1_m3 = pd.read_csv(\"DS2_c1_m3.txt\", header=None)\n",
    "DS2_c1_m3 = DS2_c1_m3.drop(columns=[20])\n",
    "DS2_c1_m3 = np.array(DS2_c1_m3).flatten()\n",
    "\n",
    "DS2_c2_m1 = pd.read_csv(\"DS2_c2_m1.txt\", header=None)\n",
    "DS2_c2_m1 = DS2_c2_m1.drop(columns=[20])\n",
    "DS2_c2_m1 = np.array(DS2_c2_m1).flatten()\n",
    "\n",
    "DS2_c2_m2 = pd.read_csv(\"DS2_c2_m2.txt\", header=None)\n",
    "DS2_c2_m2 = DS2_c2_m2.drop(columns=[20])\n",
    "DS2_c2_m2 = np.array(DS2_c2_m2).flatten()\n",
    "\n",
    "DS2_c2_m3 = pd.read_csv(\"DS2_c2_m3.txt\", header=None)\n",
    "DS2_c2_m3 = DS2_c2_m3.drop(columns=[20])\n",
    "DS2_c2_m3 = np.array(DS2_c2_m3).flatten()\n",
    "\n",
    "#covariance matrices\n",
    "DS2_Cov1 = pd.read_csv(\"DS2_Cov1.txt\", header=None)\n",
    "DS2_Cov1 = DS2_Cov1.drop(columns=[20])\n",
    "DS2_Cov1 = DS2_Cov1.to_numpy()\n",
    "\n",
    "DS2_Cov2 = pd.read_csv(\"DS2_Cov2.txt\", header=None)\n",
    "DS2_Cov2 = DS2_Cov2.drop(columns=[20])\n",
    "DS2_Cov2 = DS2_Cov2.to_numpy()\n",
    "\n",
    "DS2_Cov3 = pd.read_csv(\"DS2_Cov3.txt\", header=None)\n",
    "DS2_Cov3 = DS2_Cov3.drop(columns=[20])\n",
    "DS2_Cov3 = DS2_Cov3.to_numpy()\n",
    "\n",
    "mix_split_1 = int(2000*0.1)\n",
    "mix_split_2 = int(2000*0.42)\n",
    "mix_split_3 = int(2000*0.48)\n",
    "\n",
    "pos1 = np.random.multivariate_normal(DS2_c1_m1, DS2_Cov1, mix_split_1)\n",
    "pos2 = np.random.multivariate_normal(DS2_c1_m2, DS2_Cov2, mix_split_2)\n",
    "pos3 = np.random.multivariate_normal(DS2_c1_m3, DS2_Cov3, mix_split_3)\n",
    "\n",
    "neg1 = np.random.multivariate_normal(DS2_c2_m1, DS2_Cov1, mix_split_1)\n",
    "neg2 = np.random.multivariate_normal(DS2_c2_m1, DS2_Cov2, mix_split_2)\n",
    "neg3 = np.random.multivariate_normal(DS2_c2_m1, DS2_Cov3, mix_split_3)\n",
    "\n",
    "#Labels\n",
    "pos1 = np.column_stack((pos1, np.ones(mix_split_1)))\n",
    "pos2 = np.column_stack((pos2, np.ones(mix_split_2)))\n",
    "pos3 = np.column_stack((pos3, np.ones(mix_split_3)))\n",
    "\n",
    "neg1 = np.column_stack((neg1, np.zeros(mix_split_1)))\n",
    "neg2 = np.column_stack((neg2, np.zeros(mix_split_2)))\n",
    "neg3 = np.column_stack((neg3, np.zeros(mix_split_3)))\n",
    "\n",
    "data1 = np.concatenate((pos1, neg1))\n",
    "data2 = np.concatenate((pos2, neg2))\n",
    "data3 = np.concatenate((pos3, neg3))\n",
    "\n",
    "#Shuffling \n",
    "np.random.shuffle(data1)\n",
    "np.random.shuffle(data2)\n",
    "np.random.shuffle(data3)\n",
    "\n",
    "#20% test, 20% validation, 60% train\n",
    "split1 = int(4000*0.1)\n",
    "split2 = int(split1 + 4000*0.42)\n",
    "split3 = int(split2 + 4000*0.48)\n",
    "\n",
    "test1 = pd.DataFrame(data1[0:int(len(data1)*0.2)])\n",
    "test2 = pd.DataFrame(data2[0:int(len(data2)*0.2)])\n",
    "test3 = pd.DataFrame(data3[0:int(len(data3)*0.2)])\n",
    "\n",
    "valid1 = pd.DataFrame(data1[int(len(data1)*0.2):int(len(data1)*0.4)])\n",
    "valid2 = pd.DataFrame(data2[int(len(data2)*0.2):int(len(data2)*0.4)])\n",
    "valid3 = pd.DataFrame(data3[int(len(data3)*0.2):int(len(data3)*0.4)])\n",
    "\n",
    "train1 = pd.DataFrame(data1[int(len(data1)*0.4):int(len(data1))])\n",
    "train2 = pd.DataFrame(data2[int(len(data2)*0.4):int(len(data2))])\n",
    "train3 = pd.DataFrame(data3[int(len(data3)*0.4):int(len(data3))])\n",
    "\n",
    "test = pd.DataFrame(np.concatenate((test1, test2, test3)))\n",
    "valid = pd.DataFrame(np.concatenate((valid1, valid2, valid3)))\n",
    "train = pd.DataFrame(np.concatenate((train1, train2, train3)))"
   ]
  },
  {
   "cell_type": "code",
   "execution_count": 8,
   "id": "rapid-amsterdam",
   "metadata": {},
   "outputs": [],
   "source": [
    "#Export to CSV\n",
    "test.to_csv(\"DS2_test.txt\",index=False, header=False)\n",
    "valid.to_csv(\"DS2_valid.txt\",index=False, header=False)\n",
    "train.to_csv(\"DS2_train.txt\",index=False, header=False)"
   ]
  },
  {
   "cell_type": "markdown",
   "id": "separated-emergency",
   "metadata": {},
   "source": [
    "## 1.5. DS2"
   ]
  },
  {
   "cell_type": "markdown",
   "id": "classical-mistake",
   "metadata": {},
   "source": [
    "### 1.5.1. Estimating the parameters of the GDA model using the maximum likelihood approach"
   ]
  },
  {
   "cell_type": "code",
   "execution_count": 9,
   "id": "accredited-medicare",
   "metadata": {
    "scrolled": true
   },
   "outputs": [
    {
     "name": "stdout",
     "output_type": "stream",
     "text": [
      "********************** Accuracy **********************\n",
      "\n",
      "Best fit accuracy achieved by the classifier:  0.62875\n",
      "\n",
      "\n",
      "***************** Learnt coefficients *****************\n",
      "\n",
      "Confusion matrix:  [[244, 147], [150, 259]]\n",
      "\n",
      "w0:  -0.4484103693303318\n",
      "w1:  [-0.17518195  0.02701502 -0.02969522 -0.01573068  0.16783038 -0.04618194\n",
      " -0.29440844  0.10726712  0.1663498   0.19356095  0.17271361  0.08941871\n",
      "  0.10677503  0.06845663 -0.18893867 -0.01547739 -0.04896192  0.02344303\n",
      " -0.04973973  0.03942738]\n"
     ]
    }
   ],
   "source": [
    "GDA(train, test)"
   ]
  },
  {
   "cell_type": "markdown",
   "id": "metropolitan-short",
   "metadata": {},
   "source": [
    "### 1.5.2., 1.5.3. k-NN"
   ]
  },
  {
   "cell_type": "code",
   "execution_count": 10,
   "id": "large-referral",
   "metadata": {},
   "outputs": [
    {
     "data": {
      "image/png": "[encoded data removed]",
      "text/plain": [
       "<Figure size 432x288 with 1 Axes>"
      ]
     },
     "metadata": {
      "needs_background": "light"
     },
     "output_type": "display_data"
    },
    {
     "name": "stdout",
     "output_type": "stream",
     "text": [
      "Best fit accuracy: 0.4275 when k =  3\n"
     ]
    }
   ],
   "source": [
    "k_NN(train, valid)"
   ]
  },
  {
   "cell_type": "markdown",
   "id": "alternate-disclosure",
   "metadata": {},
   "source": [
    "This classifier seems to perform worse than GDA overall ($\\sim0.44$ accuracy for k-NN instead of $\\sim0.95$ for GDA). Some specific values of k seem to perform better than others, due to the low stability of this method. Values of $k>100$ seem to perform better in general. However, the difference is very small as the accuracy stays around $43\\%$."
   ]
  },
  {
   "cell_type": "markdown",
   "id": "sound-portrait",
   "metadata": {},
   "source": [
    "## 1.6. Similarities and differences between the performance of both classifiers"
   ]
  },
  {
   "cell_type": "markdown",
   "id": "secondary-instruction",
   "metadata": {},
   "source": [
    "For both DS1 and DS2, GDA seems to perform better than k-NN."
   ]
  },
  {
   "cell_type": "markdown",
   "id": "acknowledged-religious",
   "metadata": {},
   "source": [
    "# 2. MNIST Handwritten Digits Classification"
   ]
  },
  {
   "cell_type": "code",
   "execution_count": 12,
   "id": "visible-permission",
   "metadata": {},
   "outputs": [],
   "source": [
    "from tensorflow import keras\n",
    "(x_train, y_train), (x_test, y_test) = keras.datasets.mnist.load_data()"
   ]
  },
  {
   "cell_type": "code",
   "execution_count": 24,
   "id": "adverse-quantum",
   "metadata": {},
   "outputs": [
    {
     "data": {
      "text/html": [
       "<div>\n",
       "<style scoped>\n",
       "    .dataframe tbody tr th:only-of-type {\n",
       "        vertical-align: middle;\n",
       "    }\n",
       "\n",
       "    .dataframe tbody tr th {\n",
       "        vertical-align: top;\n",
       "    }\n",
       "\n",
       "    .dataframe thead th {\n",
       "        text-align: right;\n",
       "    }\n",
       "</style>\n",
       "<table border=\"1\" class=\"dataframe\">\n",
       "  <thead>\n",
       "    <tr style=\"text-align: right;\">\n",
       "      <th></th>\n",
       "      <th>0</th>\n",
       "    </tr>\n",
       "  </thead>\n",
       "  <tbody>\n",
       "    <tr>\n",
       "      <th>0</th>\n",
       "      <td>5</td>\n",
       "    </tr>\n",
       "    <tr>\n",
       "      <th>1</th>\n",
       "      <td>0</td>\n",
       "    </tr>\n",
       "    <tr>\n",
       "      <th>2</th>\n",
       "      <td>4</td>\n",
       "    </tr>\n",
       "    <tr>\n",
       "      <th>3</th>\n",
       "      <td>1</td>\n",
       "    </tr>\n",
       "    <tr>\n",
       "      <th>4</th>\n",
       "      <td>9</td>\n",
       "    </tr>\n",
       "    <tr>\n",
       "      <th>...</th>\n",
       "      <td>...</td>\n",
       "    </tr>\n",
       "    <tr>\n",
       "      <th>49995</th>\n",
       "      <td>5</td>\n",
       "    </tr>\n",
       "    <tr>\n",
       "      <th>49996</th>\n",
       "      <td>0</td>\n",
       "    </tr>\n",
       "    <tr>\n",
       "      <th>49997</th>\n",
       "      <td>8</td>\n",
       "    </tr>\n",
       "    <tr>\n",
       "      <th>49998</th>\n",
       "      <td>4</td>\n",
       "    </tr>\n",
       "    <tr>\n",
       "      <th>49999</th>\n",
       "      <td>8</td>\n",
       "    </tr>\n",
       "  </tbody>\n",
       "</table>\n",
       "<p>50000 rows × 1 columns</p>\n",
       "</div>"
      ],
      "text/plain": [
       "       0\n",
       "0      5\n",
       "1      0\n",
       "2      4\n",
       "3      1\n",
       "4      9\n",
       "...   ..\n",
       "49995  5\n",
       "49996  0\n",
       "49997  8\n",
       "49998  4\n",
       "49999  8\n",
       "\n",
       "[50000 rows x 1 columns]"
      ]
     },
     "execution_count": 24,
     "metadata": {},
     "output_type": "execute_result"
    }
   ],
   "source": [
    "#0-50000 = train, 50000-60000 = valid\n",
    "\n",
    "x_valid = x_train[50000:60000]\n",
    "y_valid = y_train[50000:60000]\n",
    "\n",
    "x_train = x_train[0:50000]\n",
    "y_train = y_train[0:50000]\n",
    "\n",
    "y = pd.DataFrame(y_train)\n",
    "y"
   ]
  },
  {
   "cell_type": "markdown",
   "id": "impossible-decision",
   "metadata": {},
   "source": [
    "## 2.1. Gaussian Naive Bayes (GNB)"
   ]
  },
  {
   "cell_type": "markdown",
   "id": "entire-status",
   "metadata": {},
   "source": [
    "### 2.1. (a) Equations for mean and diagonal covariance matrices"
   ]
  },
  {
   "cell_type": "markdown",
   "id": "utility-action",
   "metadata": {},
   "source": [
    "$$x$$"
   ]
  },
  {
   "cell_type": "markdown",
   "id": "attractive-mathematics",
   "metadata": {},
   "source": [
    "### 2.1. (b) Estimating GNB model parameters"
   ]
  },
  {
   "cell_type": "code",
   "execution_count": null,
   "id": "velvet-bahrain",
   "metadata": {},
   "outputs": [],
   "source": []
  },
  {
   "cell_type": "markdown",
   "id": "specified-punch",
   "metadata": {},
   "source": [
    "## 2.2. k-NN"
   ]
  },
  {
   "cell_type": "code",
   "execution_count": 16,
   "id": "welcome-agenda",
   "metadata": {},
   "outputs": [
    {
     "data": {
      "text/plain": [
       "array([7, 2, 1, ..., 4, 5, 6], dtype=uint8)"
      ]
     },
     "execution_count": 16,
     "metadata": {},
     "output_type": "execute_result"
    }
   ],
   "source": [
    "k_NN()"
   ]
  },
  {
   "cell_type": "markdown",
   "id": "structural-going",
   "metadata": {},
   "source": [
    "## 2.3. GNB performance vs k-NN"
   ]
  },
  {
   "cell_type": "code",
   "execution_count": null,
   "id": "filled-citizenship",
   "metadata": {},
   "outputs": [],
   "source": []
  }
 ],
 "metadata": {
  "kernelspec": {
   "display_name": "Python 3",
   "language": "python",
   "name": "python3"
  },
  "language_info": {
   "codemirror_mode": {
    "name": "ipython",
    "version": 3
   },
   "file_extension": ".py",
   "mimetype": "text/x-python",
   "name": "python",
   "nbconvert_exporter": "python",
   "pygments_lexer": "ipython3",
   "version": "3.8.5"
  }
 },
 "nbformat": 4,
 "nbformat_minor": 5
}
