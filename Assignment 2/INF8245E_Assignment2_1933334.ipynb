{
 "cells": [
  {
   "cell_type": "markdown",
   "id": "impressive-exhaust",
   "metadata": {},
   "source": [
    "# INF8245E: Machine Learning | Assignment #2"
   ]
  },
  {
   "cell_type": "markdown",
   "id": "yellow-scottish",
   "metadata": {},
   "source": [
    "**Louis Plessis (1933334)** | 24 October 2021"
   ]
  },
  {
   "cell_type": "markdown",
   "id": "economic-remedy",
   "metadata": {},
   "source": [
    "# 1. Linear Classification and Nearnest Neighbor Classification"
   ]
  },
  {
   "cell_type": "markdown",
   "id": "departmental-spain",
   "metadata": {},
   "source": [
    "## 1.1. Generating 2 classses with 20 features each"
   ]
  },
  {
   "cell_type": "code",
   "execution_count": null,
   "id": "referenced-experience",
   "metadata": {},
   "outputs": [],
   "source": []
  },
  {
   "cell_type": "markdown",
   "id": "active-integral",
   "metadata": {},
   "source": [
    "## 1.2. GDA model"
   ]
  },
  {
   "cell_type": "code",
   "execution_count": null,
   "id": "spare-houston",
   "metadata": {},
   "outputs": [],
   "source": []
  },
  {
   "cell_type": "markdown",
   "id": "exact-kidney",
   "metadata": {},
   "source": [
    "### 1.2. (a) Best fit accuracy"
   ]
  },
  {
   "cell_type": "markdown",
   "id": "novel-height",
   "metadata": {},
   "source": []
  },
  {
   "cell_type": "markdown",
   "id": "portable-uniform",
   "metadata": {},
   "source": [
    "### 1.2. (b) Coefficients learnt"
   ]
  },
  {
   "cell_type": "code",
   "execution_count": null,
   "id": "humanitarian-celebration",
   "metadata": {},
   "outputs": [],
   "source": []
  },
  {
   "cell_type": "markdown",
   "id": "above-incident",
   "metadata": {},
   "source": [
    "## 1.3. k-NN"
   ]
  },
  {
   "cell_type": "code",
   "execution_count": null,
   "id": "loved-accommodation",
   "metadata": {},
   "outputs": [],
   "source": []
  },
  {
   "cell_type": "markdown",
   "id": "round-florence",
   "metadata": {},
   "source": [
    "### 1.3. (a) "
   ]
  },
  {
   "cell_type": "markdown",
   "id": "subjective-animation",
   "metadata": {},
   "source": [
    "X"
   ]
  },
  {
   "cell_type": "markdown",
   "id": "lesbian-genealogy",
   "metadata": {},
   "source": [
    "### 1.3. (b) Best fit accuracy"
   ]
  },
  {
   "cell_type": "code",
   "execution_count": null,
   "id": "white-deputy",
   "metadata": {},
   "outputs": [],
   "source": []
  },
  {
   "cell_type": "markdown",
   "id": "proof-melissa",
   "metadata": {},
   "source": [
    "## 1.4. Mixture of 3 Gaussians"
   ]
  },
  {
   "cell_type": "code",
   "execution_count": null,
   "id": "alive-basketball",
   "metadata": {},
   "outputs": [],
   "source": []
  },
  {
   "cell_type": "markdown",
   "id": "excited-allowance",
   "metadata": {},
   "source": [
    "## 1.5. DS2"
   ]
  },
  {
   "cell_type": "code",
   "execution_count": null,
   "id": "imperial-italic",
   "metadata": {},
   "outputs": [],
   "source": []
  },
  {
   "cell_type": "markdown",
   "id": "matched-shelf",
   "metadata": {},
   "source": [
    "### 1.5.1. Estimating the parameters of the GDA model using the maximum likelihood approach"
   ]
  },
  {
   "cell_type": "code",
   "execution_count": null,
   "id": "rolled-operation",
   "metadata": {},
   "outputs": [],
   "source": []
  },
  {
   "cell_type": "markdown",
   "id": "committed-administrator",
   "metadata": {},
   "source": [
    "#### 1.5.1. (a) Best fit accuracy"
   ]
  },
  {
   "cell_type": "code",
   "execution_count": null,
   "id": "elegant-chambers",
   "metadata": {},
   "outputs": [],
   "source": []
  },
  {
   "cell_type": "markdown",
   "id": "present-david",
   "metadata": {},
   "source": [
    "#### 1.5.1. (b) Coefficients learnt"
   ]
  },
  {
   "cell_type": "code",
   "execution_count": null,
   "id": "cosmetic-cooling",
   "metadata": {},
   "outputs": [],
   "source": []
  },
  {
   "cell_type": "markdown",
   "id": "ecological-begin",
   "metadata": {},
   "source": [
    "### 1.5.2. "
   ]
  },
  {
   "cell_type": "markdown",
   "id": "pediatric-fleece",
   "metadata": {},
   "source": [
    "X"
   ]
  },
  {
   "cell_type": "markdown",
   "id": "major-principal",
   "metadata": {},
   "source": [
    "### 1.5.3. Best fit accuracy"
   ]
  },
  {
   "cell_type": "code",
   "execution_count": null,
   "id": "latest-dodge",
   "metadata": {},
   "outputs": [],
   "source": []
  },
  {
   "cell_type": "markdown",
   "id": "current-private",
   "metadata": {},
   "source": [
    "## 1.6. Similarities and differences between the performance of both classifiers"
   ]
  },
  {
   "cell_type": "code",
   "execution_count": null,
   "id": "moving-discrimination",
   "metadata": {},
   "outputs": [],
   "source": []
  },
  {
   "cell_type": "markdown",
   "id": "hollywood-diary",
   "metadata": {},
   "source": [
    "# 2. MNIST Handwritten Digits Classification"
   ]
  },
  {
   "cell_type": "code",
   "execution_count": 5,
   "id": "political-plaintiff",
   "metadata": {},
   "outputs": [],
   "source": [
    "from tensorflow import keras\n",
    "(x_train, y_train), (x_test, y_test) = keras.datasets.mnist.load_data()"
   ]
  },
  {
   "cell_type": "markdown",
   "id": "brown-participation",
   "metadata": {},
   "source": [
    "## 2.1. Gaussian Naive Bayes (GNB)"
   ]
  },
  {
   "cell_type": "markdown",
   "id": "detailed-homework",
   "metadata": {},
   "source": [
    "### 2.1. (a) Equations for mean and diagonal covariance matrices"
   ]
  },
  {
   "cell_type": "markdown",
   "id": "constitutional-defeat",
   "metadata": {},
   "source": [
    "$$x$$"
   ]
  },
  {
   "cell_type": "markdown",
   "id": "cellular-fiber",
   "metadata": {},
   "source": [
    "### 2.1. (b) Estimating GNB model parameters"
   ]
  },
  {
   "cell_type": "code",
   "execution_count": null,
   "id": "committed-purple",
   "metadata": {},
   "outputs": [],
   "source": []
  },
  {
   "cell_type": "markdown",
   "id": "wooden-lecture",
   "metadata": {},
   "source": [
    "## 2.2. k-NN"
   ]
  },
  {
   "cell_type": "code",
   "execution_count": null,
   "id": "corresponding-peoples",
   "metadata": {},
   "outputs": [],
   "source": []
  },
  {
   "cell_type": "markdown",
   "id": "close-contact",
   "metadata": {},
   "source": [
    "### 2.2. (a)"
   ]
  },
  {
   "cell_type": "markdown",
   "id": "directed-motor",
   "metadata": {},
   "source": [
    "X"
   ]
  },
  {
   "cell_type": "markdown",
   "id": "answering-luxembourg",
   "metadata": {},
   "source": [
    "### 2.2. (b) Best fit accuracy"
   ]
  },
  {
   "cell_type": "code",
   "execution_count": null,
   "id": "miniature-eating",
   "metadata": {},
   "outputs": [],
   "source": []
  },
  {
   "cell_type": "markdown",
   "id": "fixed-diploma",
   "metadata": {},
   "source": [
    "## 2.3. GNB performance vs k-NN"
   ]
  },
  {
   "cell_type": "code",
   "execution_count": null,
   "id": "timely-completion",
   "metadata": {},
   "outputs": [],
   "source": []
  }
 ],
 "metadata": {
  "kernelspec": {
   "display_name": "Python 3",
   "language": "python",
   "name": "python3"
  },
  "language_info": {
   "codemirror_mode": {
    "name": "ipython",
    "version": 3
   },
   "file_extension": ".py",
   "mimetype": "text/x-python",
   "name": "python",
   "nbconvert_exporter": "python",
   "pygments_lexer": "ipython3",
   "version": "3.8.5"
  }
 },
 "nbformat": 4,
 "nbformat_minor": 5
}
