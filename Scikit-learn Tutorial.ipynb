{
 "cells": [
  {
   "cell_type": "markdown",
   "id": "optical-prince",
   "metadata": {},
   "source": [
    "# SCIKIT-LEARN TUTORIAL"
   ]
  },
  {
   "cell_type": "code",
   "execution_count": 1,
   "id": "colonial-beijing",
   "metadata": {},
   "outputs": [],
   "source": [
    "import pandas as pd\n",
    "import matplotlib.pyplot as plt\n",
    "import numpy as np\n",
    "from sklearn.model_selection import train_test_split\n",
    "from sklearn.svm import SVC\n",
    "from sklearn.preprocessing import StandardScaler\n",
    "from sklearn.naive_bayes import GaussianNB\n",
    "from sklearn.linear_model import LogisticRegression\n",
    "from sklearn.neighbors import KNeighborsClassifier\n",
    "from sklearn.metrics import confusion_matrix\n",
    "from sklearn.tree import DecisionTreeClassifier\n",
    "from sklearn.linear_model import Ridge\n",
    "from sklearn.linear_model import Lasso\n",
    "from matplotlib.colors import ListedColormap\n",
    "from sklearn.model_selection import train_test_split\n",
    "from sklearn.model_selection import GridSearchCV\n",
    "from sklearn.metrics import classification_report\n",
    "from sklearn.svm import SVC\n",
    "from sklearn.preprocessing import MinMaxScaler\n",
    "from sklearn.preprocessing import StandardScaler\n",
    "from sklearn.ensemble import RandomForestClassifier\n",
    "from sklearn.ensemble import RandomForestRegressor\n",
    "from sklearn.linear_model import LinearRegression\n",
    "from sklearn.preprocessing import PolynomialFeatures\n",
    "from sklearn.svm import SVR\n",
    "from sklearn.metrics import accuracy_score"
   ]
  },
  {
   "cell_type": "code",
   "execution_count": 2,
   "id": "dimensional-station",
   "metadata": {},
   "outputs": [],
   "source": [
    "data_ads=pd.read_csv('https://raw.githubusercontent.com/innovator-arjun/Machine-Learning-Algorithms/master/Classification/Social_Network_Ads.csv')"
   ]
  },
  {
   "cell_type": "code",
   "execution_count": 3,
   "id": "specified-monday",
   "metadata": {},
   "outputs": [
    {
     "data": {
      "text/html": [
       "<div>\n",
       "<style scoped>\n",
       "    .dataframe tbody tr th:only-of-type {\n",
       "        vertical-align: middle;\n",
       "    }\n",
       "\n",
       "    .dataframe tbody tr th {\n",
       "        vertical-align: top;\n",
       "    }\n",
       "\n",
       "    .dataframe thead th {\n",
       "        text-align: right;\n",
       "    }\n",
       "</style>\n",
       "<table border=\"1\" class=\"dataframe\">\n",
       "  <thead>\n",
       "    <tr style=\"text-align: right;\">\n",
       "      <th></th>\n",
       "      <th>User ID</th>\n",
       "      <th>Gender</th>\n",
       "      <th>Age</th>\n",
       "      <th>EstimatedSalary</th>\n",
       "      <th>Purchased</th>\n",
       "    </tr>\n",
       "  </thead>\n",
       "  <tbody>\n",
       "    <tr>\n",
       "      <th>0</th>\n",
       "      <td>15624510</td>\n",
       "      <td>Male</td>\n",
       "      <td>19</td>\n",
       "      <td>19000</td>\n",
       "      <td>0</td>\n",
       "    </tr>\n",
       "    <tr>\n",
       "      <th>1</th>\n",
       "      <td>15810944</td>\n",
       "      <td>Male</td>\n",
       "      <td>35</td>\n",
       "      <td>20000</td>\n",
       "      <td>0</td>\n",
       "    </tr>\n",
       "    <tr>\n",
       "      <th>2</th>\n",
       "      <td>15668575</td>\n",
       "      <td>Female</td>\n",
       "      <td>26</td>\n",
       "      <td>43000</td>\n",
       "      <td>0</td>\n",
       "    </tr>\n",
       "    <tr>\n",
       "      <th>3</th>\n",
       "      <td>15603246</td>\n",
       "      <td>Female</td>\n",
       "      <td>27</td>\n",
       "      <td>57000</td>\n",
       "      <td>0</td>\n",
       "    </tr>\n",
       "    <tr>\n",
       "      <th>4</th>\n",
       "      <td>15804002</td>\n",
       "      <td>Male</td>\n",
       "      <td>19</td>\n",
       "      <td>76000</td>\n",
       "      <td>0</td>\n",
       "    </tr>\n",
       "    <tr>\n",
       "      <th>5</th>\n",
       "      <td>15728773</td>\n",
       "      <td>Male</td>\n",
       "      <td>27</td>\n",
       "      <td>58000</td>\n",
       "      <td>0</td>\n",
       "    </tr>\n",
       "    <tr>\n",
       "      <th>6</th>\n",
       "      <td>15598044</td>\n",
       "      <td>Female</td>\n",
       "      <td>27</td>\n",
       "      <td>84000</td>\n",
       "      <td>0</td>\n",
       "    </tr>\n",
       "  </tbody>\n",
       "</table>\n",
       "</div>"
      ],
      "text/plain": [
       "    User ID  Gender  Age  EstimatedSalary  Purchased\n",
       "0  15624510    Male   19            19000          0\n",
       "1  15810944    Male   35            20000          0\n",
       "2  15668575  Female   26            43000          0\n",
       "3  15603246  Female   27            57000          0\n",
       "4  15804002    Male   19            76000          0\n",
       "5  15728773    Male   27            58000          0\n",
       "6  15598044  Female   27            84000          0"
      ]
     },
     "execution_count": 3,
     "metadata": {},
     "output_type": "execute_result"
    }
   ],
   "source": [
    "# To print top 7 rows in the dataframe\n",
    "data_ads.head(7)"
   ]
  },
  {
   "cell_type": "code",
   "execution_count": 4,
   "id": "important-shock",
   "metadata": {},
   "outputs": [],
   "source": [
    "# Slicing the required column for Independent Variables(X)\n",
    "X=data_ads.iloc[:,[2,3]].values"
   ]
  },
  {
   "cell_type": "code",
   "execution_count": 5,
   "id": "extended-electric",
   "metadata": {},
   "outputs": [],
   "source": [
    "# Slicing the required column for dependent Variables(y)\n",
    "y=data_ads.iloc[: , 4].values"
   ]
  },
  {
   "cell_type": "code",
   "execution_count": 6,
   "id": "pleased-segment",
   "metadata": {},
   "outputs": [
    {
     "data": {
      "text/plain": [
       "(400, 5)"
      ]
     },
     "execution_count": 6,
     "metadata": {},
     "output_type": "execute_result"
    }
   ],
   "source": [
    "# to get the rows(400) and columns(5) size\n",
    "data_ads.shape"
   ]
  },
  {
   "cell_type": "code",
   "execution_count": 7,
   "id": "pursuant-culture",
   "metadata": {},
   "outputs": [],
   "source": [
    "#Splitting the data set into train and test\n",
    "#Splitting is also a form of cross-validation approach\n",
    "X_train_clf,X_test_clf,y_train_clf,y_test_clf=train_test_split(X,y,test_size=0.25,random_state=0)"
   ]
  },
  {
   "cell_type": "code",
   "execution_count": 8,
   "id": "linear-choice",
   "metadata": {},
   "outputs": [],
   "source": [
    "# StandardScaler is used to resize the distribution of values ​​so that the mean of the observed values ​​is 0 and \n",
    "# the standard deviation is 1\n",
    "\n",
    "sc_X=StandardScaler()\n",
    "\n",
    "X_train_clf=sc_X.fit_transform(X_train_clf)\n",
    "\n",
    "X_test_clf=sc_X.fit_transform(X_test_clf)"
   ]
  },
  {
   "cell_type": "code",
   "execution_count": 9,
   "id": "interstate-drive",
   "metadata": {},
   "outputs": [],
   "source": [
    "# For model visualization\n",
    "def model_visualization(X,y,model_classifier,title):\n",
    "  X_set, y_set = X, y\n",
    "  X1, X2 = np.meshgrid(np.arange(start = X_set[:, 0].min() - 1, stop = X_set[:, 0].max() + 1, step = 0.01),\n",
    "                      np.arange(start = X_set[:, 1].min() - 1, stop = X_set[:, 1].max() + 1, step = 0.01))\n",
    "  plt.contourf(X1, X2, model_classifier.predict(np.array([X1.ravel(), X2.ravel()]).T).reshape(X1.shape),\n",
    "              alpha = 0.75, cmap = ListedColormap(('red', 'green')))\n",
    "  plt.xlim(X1.min(), X1.max())\n",
    "  plt.ylim(X2.min(), X2.max())\n",
    "  for i, j in enumerate(np.unique(y_set)):\n",
    "      plt.scatter(X_set[y_set == j, 0], X_set[y_set == j, 1],\n",
    "                  c = ListedColormap(('red', 'green'))(i), label = j)\n",
    "  plt.title(title )\n",
    "  plt.xlabel('Age')\n",
    "  plt.ylabel('Estimated Salary')\n",
    "  plt.legend()\n",
    "  plt.show()"
   ]
  },
  {
   "cell_type": "markdown",
   "id": "ordered-cabin",
   "metadata": {},
   "source": [
    "## LOGISTIC"
   ]
  },
  {
   "cell_type": "code",
   "execution_count": 10,
   "id": "wooden-accountability",
   "metadata": {},
   "outputs": [],
   "source": [
    "# Call the logisitic Regression model\n",
    "logistic_classifier=LogisticRegression(random_state=0,)\n",
    "\n",
    "# fit the classifier model with the data\n",
    "logistic_classifier.fit(X_train_clf,y_train_clf)\n",
    "\n",
    "#Predicting the test set result\n",
    "y_pred=logistic_classifier.predict(X_test_clf)"
   ]
  },
  {
   "cell_type": "code",
   "execution_count": 11,
   "id": "standard-matthew",
   "metadata": {},
   "outputs": [
    {
     "name": "stdout",
     "output_type": "stream",
     "text": [
      "Accuracy of Logistic Regression: 87.0\n",
      "Confusion Matrix is\n",
      "[[63  5]\n",
      " [ 8 24]]\n"
     ]
    }
   ],
   "source": [
    "# Top calculate the accuracy of the model\n",
    "acc_logistic=accuracy_score(y_test_clf, y_pred)\n",
    "\n",
    "# To get the confusion Matrix\n",
    "cm_logistic=confusion_matrix(y_test_clf,y_pred)\n",
    "print('Accuracy of Logistic Regression:',acc_logistic*100)\n",
    "\n",
    "print('Confusion Matrix is')\n",
    "print(cm_logistic)"
   ]
  },
  {
   "cell_type": "code",
   "execution_count": 12,
   "id": "scientific-howard",
   "metadata": {},
   "outputs": [
    {
     "name": "stderr",
     "output_type": "stream",
     "text": [
      "*c* argument looks like a single numeric RGB or RGBA sequence, which should be avoided as value-mapping will have precedence in case its length matches with *x* & *y*.  Please use the *color* keyword-argument or provide a 2D array with a single row if you intend to specify the same RGB or RGBA value for all points.\n",
      "*c* argument looks like a single numeric RGB or RGBA sequence, which should be avoided as value-mapping will have precedence in case its length matches with *x* & *y*.  Please use the *color* keyword-argument or provide a 2D array with a single row if you intend to specify the same RGB or RGBA value for all points.\n"
     ]
    },
    {
     "data": {
      "image/png": "[encoded data removed]",
      "text/plain": [
       "<Figure size 432x288 with 1 Axes>"
      ]
     },
     "metadata": {
      "needs_background": "light"
     },
     "output_type": "display_data"
    }
   ],
   "source": [
    "# For Model visualization on Training Dataset\n",
    "model_visualization(X_train_clf,y_train_clf,logistic_classifier,'Logistic Regression-Training')"
   ]
  },
  {
   "cell_type": "code",
   "execution_count": 13,
   "id": "prime-surgery",
   "metadata": {},
   "outputs": [
    {
     "name": "stderr",
     "output_type": "stream",
     "text": [
      "*c* argument looks like a single numeric RGB or RGBA sequence, which should be avoided as value-mapping will have precedence in case its length matches with *x* & *y*.  Please use the *color* keyword-argument or provide a 2D array with a single row if you intend to specify the same RGB or RGBA value for all points.\n",
      "*c* argument looks like a single numeric RGB or RGBA sequence, which should be avoided as value-mapping will have precedence in case its length matches with *x* & *y*.  Please use the *color* keyword-argument or provide a 2D array with a single row if you intend to specify the same RGB or RGBA value for all points.\n"
     ]
    },
    {
     "data": {
      "image/png": "[encoded data removed]",
      "text/plain": [
       "<Figure size 432x288 with 1 Axes>"
      ]
     },
     "metadata": {
      "needs_background": "light"
     },
     "output_type": "display_data"
    }
   ],
   "source": [
    "# For Model visualization on Test Dataset\n",
    "model_visualization(X_test_clf,y_test_clf,logistic_classifier,'Logistic Regression-Testing')"
   ]
  },
  {
   "cell_type": "markdown",
   "id": "literary-energy",
   "metadata": {},
   "source": [
    "## K-NN"
   ]
  },
  {
   "cell_type": "code",
   "execution_count": 14,
   "id": "fewer-perth",
   "metadata": {},
   "outputs": [],
   "source": [
    "# Call the K-Nearest model\n",
    "knn_classifier=KNeighborsClassifier(n_neighbors=5,p=2,metric='minkowski')\n",
    "\n",
    "# fit the classifier model with the data\n",
    "knn_classifier.fit(X_train_clf,y_train_clf)\n",
    "\n",
    "#Predicting the test set result\n",
    "y_pred=knn_classifier.predict(X_test_clf)"
   ]
  },
  {
   "cell_type": "code",
   "execution_count": 15,
   "id": "defined-collins",
   "metadata": {},
   "outputs": [
    {
     "name": "stdout",
     "output_type": "stream",
     "text": [
      "Accuracy of KNN: 93.0\n",
      "Confusion Matrix is\n",
      "[[64  4]\n",
      " [ 3 29]]\n"
     ]
    }
   ],
   "source": [
    "# Top calculate the accuracy of the model\n",
    "acc_knn=accuracy_score(y_test_clf, y_pred)\n",
    "\n",
    "# To get the confusion Matrix\n",
    "cm_knn=confusion_matrix(y_test_clf,y_pred)\n",
    "print('Accuracy of KNN:',acc_knn*100)\n",
    "\n",
    "print('Confusion Matrix is')\n",
    "print(cm_knn)"
   ]
  },
  {
   "cell_type": "code",
   "execution_count": 16,
   "id": "annoying-missouri",
   "metadata": {},
   "outputs": [
    {
     "name": "stderr",
     "output_type": "stream",
     "text": [
      "*c* argument looks like a single numeric RGB or RGBA sequence, which should be avoided as value-mapping will have precedence in case its length matches with *x* & *y*.  Please use the *color* keyword-argument or provide a 2D array with a single row if you intend to specify the same RGB or RGBA value for all points.\n",
      "*c* argument looks like a single numeric RGB or RGBA sequence, which should be avoided as value-mapping will have precedence in case its length matches with *x* & *y*.  Please use the *color* keyword-argument or provide a 2D array with a single row if you intend to specify the same RGB or RGBA value for all points.\n"
     ]
    },
    {
     "data": {
      "image/png": "[encoded data removed]",
      "text/plain": [
       "<Figure size 432x288 with 1 Axes>"
      ]
     },
     "metadata": {
      "needs_background": "light"
     },
     "output_type": "display_data"
    }
   ],
   "source": [
    "# For Model visualization on Training Dataset\n",
    "\n",
    "model_visualization(X_train_clf,y_train_clf,knn_classifier,'KNN-Training')"
   ]
  },
  {
   "cell_type": "code",
   "execution_count": 17,
   "id": "wireless-patrol",
   "metadata": {},
   "outputs": [
    {
     "name": "stderr",
     "output_type": "stream",
     "text": [
      "*c* argument looks like a single numeric RGB or RGBA sequence, which should be avoided as value-mapping will have precedence in case its length matches with *x* & *y*.  Please use the *color* keyword-argument or provide a 2D array with a single row if you intend to specify the same RGB or RGBA value for all points.\n",
      "*c* argument looks like a single numeric RGB or RGBA sequence, which should be avoided as value-mapping will have precedence in case its length matches with *x* & *y*.  Please use the *color* keyword-argument or provide a 2D array with a single row if you intend to specify the same RGB or RGBA value for all points.\n"
     ]
    },
    {
     "data": {
      "image/png": "[encoded data removed]",
      "text/plain": [
       "<Figure size 432x288 with 1 Axes>"
      ]
     },
     "metadata": {
      "needs_background": "light"
     },
     "output_type": "display_data"
    }
   ],
   "source": [
    "# For Model visualization on Test Dataset\n",
    "model_visualization(X_test_clf,y_test_clf,knn_classifier , 'KNN-Testing')"
   ]
  },
  {
   "cell_type": "code",
   "execution_count": null,
   "id": "ideal-affiliate",
   "metadata": {},
   "outputs": [],
   "source": []
  }
 ],
 "metadata": {
  "kernelspec": {
   "display_name": "Python 3",
   "language": "python",
   "name": "python3"
  },
  "language_info": {
   "codemirror_mode": {
    "name": "ipython",
    "version": 3
   },
   "file_extension": ".py",
   "mimetype": "text/x-python",
   "name": "python",
   "nbconvert_exporter": "python",
   "pygments_lexer": "ipython3",
   "version": "3.8.5"
  }
 },
 "nbformat": 4,
 "nbformat_minor": 5
}
